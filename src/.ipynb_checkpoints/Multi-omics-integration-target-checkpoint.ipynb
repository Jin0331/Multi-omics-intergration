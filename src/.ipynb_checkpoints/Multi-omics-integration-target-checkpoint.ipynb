{
 "cells": [
  {
   "cell_type": "markdown",
   "id": "743ae06d-37ab-446d-a687-0548ad46407c",
   "metadata": {},
   "source": [
    "### **File Path**"
   ]
  },
  {
   "cell_type": "code",
   "execution_count": 1,
   "id": "bd5cb10a-b1af-4995-9ed4-24e36f1b0d2e",
   "metadata": {
    "jupyter": {
     "source_hidden": true
    },
    "tags": []
   },
   "outputs": [],
   "source": [
    "CANCER_TYPE = \"LIHC\"\n",
    "RAW_file_path = \"/home/km/gitworking/Multi-omics-intergration/RAW_DATA/\"\n",
    "PKL_file_path = \"/home/km/gitworking/Multi-omics-intergration/pkl/\"\n",
    "MODEL_path = \"/home/km/gitworking/Multi-omics-intergration/models/\"\n",
    "TENSORBOARD_PATH = '/home/km/gitworking/Multi-omics-intergration/log'\n",
    "GROUP_PHTH = '/home/km/gitworking/Multi-omics-intergration/group/'"
   ]
  },
  {
   "cell_type": "markdown",
   "id": "60b4f71a-e586-4ff7-9236-e15c0cff166d",
   "metadata": {},
   "source": [
    "### **GPU cehck**"
   ]
  },
  {
   "cell_type": "code",
   "execution_count": 2,
   "id": "eda8b3fc-a74c-4ac1-ad4a-f39ad9220899",
   "metadata": {
    "collapsed": true,
    "jupyter": {
     "outputs_hidden": true,
     "source_hidden": true
    },
    "tags": []
   },
   "outputs": [
    {
     "name": "stderr",
     "output_type": "stream",
     "text": [
      "2022-01-13 07:48:33.598385: I tensorflow/stream_executor/platform/default/dso_loader.cc:49] Successfully opened dynamic library libcudart.so.10.1\n",
      "2022-01-13 07:48:35.359297: I tensorflow/compiler/jit/xla_cpu_device.cc:41] Not creating XLA devices, tf_xla_enable_xla_devices not set\n",
      "2022-01-13 07:48:35.360549: I tensorflow/stream_executor/platform/default/dso_loader.cc:49] Successfully opened dynamic library libcuda.so.1\n",
      "2022-01-13 07:48:35.424968: I tensorflow/core/common_runtime/gpu/gpu_device.cc:1720] Found device 0 with properties: \n",
      "pciBusID: 0000:83:00.0 name: GeForce RTX 2080 Ti computeCapability: 7.5\n",
      "coreClock: 1.665GHz coreCount: 68 deviceMemorySize: 10.76GiB deviceMemoryBandwidth: 573.69GiB/s\n",
      "2022-01-13 07:48:35.425006: I tensorflow/stream_executor/platform/default/dso_loader.cc:49] Successfully opened dynamic library libcudart.so.10.1\n",
      "2022-01-13 07:48:35.427200: I tensorflow/stream_executor/platform/default/dso_loader.cc:49] Successfully opened dynamic library libcublas.so.10\n",
      "2022-01-13 07:48:35.427239: I tensorflow/stream_executor/platform/default/dso_loader.cc:49] Successfully opened dynamic library libcublasLt.so.10\n",
      "2022-01-13 07:48:35.428924: I tensorflow/stream_executor/platform/default/dso_loader.cc:49] Successfully opened dynamic library libcufft."
     ]
    },
    {
     "data": {
      "text/plain": [
       "OrderedDict([('cpu_compiler',\n",
       "              '/home/builder/ktietz/aggregate/tensorflow_recipes/ci_cpu/tensorflow-base_1614534878484/_build_env/bin/x86_64-conda_cos6-linux-gnu-gcc'),\n",
       "             ('cuda_compute_capabilities',\n",
       "              ['compute_35',\n",
       "               'compute_52',\n",
       "               'compute_60',\n",
       "               'compute_61',\n",
       "               'compute_70',\n",
       "               'compute_75']),\n",
       "             ('cuda_version', '10.1'),\n",
       "             ('cudnn_version', '7'),\n",
       "             ('is_cuda_build', True),\n",
       "             ('is_rocm_build', False)])"
      ]
     },
     "execution_count": 2,
     "metadata": {},
     "output_type": "execute_result"
    },
    {
     "name": "stderr",
     "output_type": "stream",
     "text": [
      "so.10\n",
      "2022-01-13 07:48:35.429222: I tensorflow/stream_executor/platform/default/dso_loader.cc:49] Successfully opened dynamic library libcurand.so.10\n",
      "2022-01-13 07:48:35.431397: I tensorflow/stream_executor/platform/default/dso_loader.cc:49] Successfully opened dynamic library libcusolver.so.10\n",
      "2022-01-13 07:48:35.432563: I tensorflow/stream_executor/platform/default/dso_loader.cc:49] Successfully opened dynamic library libcusparse.so.10\n",
      "2022-01-13 07:48:35.437159: I tensorflow/stream_executor/platform/default/dso_loader.cc:49] Successfully opened dynamic library libcudnn.so.7\n",
      "2022-01-13 07:48:35.438677: I tensorflow/core/common_runtime/gpu/gpu_device.cc:1862] Adding visible gpu devices: 0\n"
     ]
    }
   ],
   "source": [
    "import tensorflow as tf\n",
    "import tensorflow.keras.backend as K\n",
    "tf.test.is_built_with_cuda()\n",
    "tf.config.list_physical_devices('GPU')\n",
    "tf.sysconfig.get_build_info()"
   ]
  },
  {
   "cell_type": "markdown",
   "id": "695764e3-b743-4bb5-90f9-857d4c5a2a9d",
   "metadata": {},
   "source": [
    "## **Module**"
   ]
  },
  {
   "cell_type": "code",
   "execution_count": 3,
   "id": "2e71499d-df69-4a1f-9b36-1e7c2bd01677",
   "metadata": {
    "collapsed": true,
    "jupyter": {
     "outputs_hidden": true
    },
    "tags": []
   },
   "outputs": [
    {
     "name": "stdout",
     "output_type": "stream",
     "text": [
      "\u001b[1mrpy2 version:\u001b[0m\n",
      "3.4.5\n",
      "\u001b[1mPython version:\u001b[0m\n",
      "3.8.8 (default, Apr 13 2021, 19:58:26) \n",
      "[GCC 7.3.0]\n",
      "\u001b[1mLooking for R's HOME:\u001b[0m\n",
      "    Environment variable R_HOME: /home/km/anaconda3/envs/multiomics/lib/R\n",
      "    Calling `R RHOME`: /usr/lib/R\n",
      "    Environment variable R_LIBS_USER: ~/R/x86_64-conda-linux-gnu-library/4.1\n",
      "    Warning: The environment variable R_HOME differs from the default R in the PATH.\n",
      "\u001b[1mR's additions to LD_LIBRARY_PATH:\u001b[0m\n",
      "\n",
      "\u001b[1mR version:\u001b[0m\n",
      "    In the PATH: R version 4.0.5 (2021-03-31) -- \"Shake and Throw\"\n",
      "    Loading R library from rpy2: OK\n",
      "\u001b[1mAdditional directories to load R packages from:\u001b[0m\n",
      "None\n",
      "\u001b[1mC extension compilation:\u001b[0m\n",
      "  include:\n",
      "  ['/home/km/anaconda3/envs/multiomics/lib/R/include']\n",
      "  libraries:\n",
      "  ['R', 'pcre2-8', 'lzma', 'bz2', 'z', 'rt', 'dl', 'm', 'iconv', 'icuuc', 'icui18n']\n",
      "  library_dirs:\n",
      "  ['/home/km/anaconda3/envs/multiomics/lib', '/home/km/anaconda3/envs/multiomics/lib/R/lib', '/home/km/anaconda3/envs/multiomics/lib']\n",
      "  extra_compile_args:\n",
      "  []\n",
      "  extra_link_args:\n",
      "  ['-Wl,--export-dynamic', '-fopenmp', '-Wl,-O2', '-Wl,--sort-common', '-Wl,--as-needed', '-Wl,-z,relro', '-Wl,-z,now', '-Wl,--disable-new-dtags', '-Wl,--gc-sections', '-Wl,-rpath,/home/km/anaconda3/envs/multiomics/lib', '-Wl,-rpath-link,/home/km/anaconda3/envs/multiomics/lib']\n"
     ]
    }
   ],
   "source": [
    "from datetime import datetime\n",
    "import os\n",
    "import re\n",
    "import gc\n",
    "import pickle\n",
    "import datetime\n",
    "\n",
    "import pandas as pd\n",
    "import numpy as np\n",
    "import seaborn as sns\n",
    "from functools import reduce\n",
    "import matplotlib.pyplot as plt\n",
    "from matplotlib_venn import venn3_unweighted\n",
    "\n",
    "from sklearn import svm\n",
    "from sklearn.cluster import KMeans\n",
    "from sklearn.impute import KNNImputer\n",
    "from sklearn.manifold import TSNE\n",
    "from sklearn.preprocessing import MinMaxScaler\n",
    "from sklearn.preprocessing import StandardScaler\n",
    "from sklearn.model_selection import train_test_split\n",
    "from sklearn.feature_selection import SelectKBest\n",
    "from sklearn.feature_selection import f_classif\n",
    "from sklearn.feature_selection import mutual_info_classif\n",
    "from sklearn import metrics\n",
    "from sklearn.linear_model import LogisticRegression\n",
    "from sklearn.metrics import accuracy_score\n",
    "from sklearn.pipeline import Pipeline\n",
    "from sklearn.model_selection import GridSearchCV\n",
    "from sklearn.model_selection import RepeatedStratifiedKFold\n",
    "\n",
    "# rpy2\n",
    "os.environ['R_HOME'] = '/home/km/anaconda3/envs/multiomics/lib/R' # env R invoke\n",
    "import rpy2.robjects as ro\n",
    "from rpy2.robjects.packages import importr\n",
    "from rpy2.robjects import pandas2ri\n",
    "\n",
    "from rpy2.robjects.conversion import localconverter\n",
    "\n",
    "!python -m rpy2.situation"
   ]
  },
  {
   "cell_type": "markdown",
   "id": "345e37ae-f30b-44f6-8d82-0c33c473e9d7",
   "metadata": {},
   "source": [
    "## **UDF**"
   ]
  },
  {
   "cell_type": "code",
   "execution_count": 47,
   "id": "28e3963c-8d9c-42fe-bc66-5e29a102d956",
   "metadata": {
    "tags": []
   },
   "outputs": [],
   "source": [
    "def load_preprocess_tcga_dataset(pkl_path, raw_path, group_path, cancer_type, norm):\n",
    "    \n",
    "    if os.path.isfile(pkl_path + \"/\" + cancer_type + \"_omics.pkl\"):\n",
    "        # sep\n",
    "        rna = pd.read_pickle(pkl_path + \"/\" + cancer_type + \"_rna.pkl\")\n",
    "        mirna = pd.read_pickle(pkl_path + \"/\" + cancer_type + \"_mirna.pkl\")\n",
    "        mt_join_gene_filter = pd.read_pickle(pkl_path + \"/\" + cancer_type + \"_mt.pkl\")\n",
    "        \n",
    "    else :\n",
    "        # RNA gene expression\n",
    "        col = pd.read_csv(raw_path + \"tcga_RSEM_Hugo_norm_count.gz\",\n",
    "                     sep = \"\\t\", index_col=0, nrows=0).columns.to_list()\n",
    "        use_col = ['sample'] + cancer_select(cols=col, cancer_type=cancer_type)\n",
    "        df_chunk = pd.read_csv(raw_path + \"tcga_RSEM_Hugo_norm_count.gz\",\n",
    "                     sep = \"\\t\", index_col=0, iterator=True, chunksize=50000, usecols=use_col)\n",
    "        rna = pd.concat([chunk for chunk in df_chunk])\n",
    "        rna = rna[rna.index.isin(non_zero_column(rna))].T\n",
    "        \n",
    "        rna.to_pickle(pkl_path + \"/\" + cancer_type + \"_rna.pkl\")\n",
    "\n",
    "        # miRNA expression\n",
    "        col = pd.read_csv(raw_path + \"pancanMiRs_EBadjOnProtocolPlatformWithoutRepsWithUnCorrectMiRs_08_04_16.xena.gz\",\n",
    "                     sep = \"\\t\", index_col=0, nrows=0).columns.to_list()\n",
    "        use_col = ['sample'] + cancer_select(cols=col, cancer_type=cancer_type)\n",
    "\n",
    "        df_chunk = pd.read_csv(raw_path + \"pancanMiRs_EBadjOnProtocolPlatformWithoutRepsWithUnCorrectMiRs_08_04_16.xena.gz\",\n",
    "                         sep = \"\\t\", index_col=0, iterator=True, chunksize=50000, usecols=use_col)\n",
    "        mirna = pd.concat([chunk for chunk in df_chunk])\n",
    "        mirna = mirna[mirna.index.isin(non_zero_column(mirna))].T\n",
    "        \n",
    "        mirna.to_pickle(pkl_path + \"/\" + cancer_type + \"_mirna.pkl\")\n",
    "\n",
    "        # methylation\n",
    "        col = pd.read_csv(raw_path + \"jhu-usc.edu_PANCAN_HumanMethylation450.betaValue_whitelisted.tsv.synapse_download_5096262.xena.gz\",\n",
    "                     sep = \"\\t\", index_col=0, nrows=0).columns.to_list()\n",
    "        use_col = ['sample'] + cancer_select(cols=col, cancer_type=cancer_type)\n",
    "\n",
    "        df_chunk = pd.read_csv(raw_path + \"jhu-usc.edu_PANCAN_HumanMethylation450.betaValue_whitelisted.tsv.synapse_download_5096262.xena.gz\",\n",
    "                         sep = \"\\t\", index_col=0, iterator=True, chunksize=50000, usecols=use_col)\n",
    "        mt = pd.concat([chunk for chunk in df_chunk])\n",
    "\n",
    "        mt_map = pd.read_csv(raw_path + \"probeMap_illuminaMethyl450_hg19_GPL16304_TCGAlegacy\", sep=\"\\t\")\n",
    "\n",
    "        mt_join = pd.merge(mt, mt_map, how = \"left\", left_on = \"sample\", right_on = \"#id\")\\\n",
    "                 .drop(['chrom', 'chromStart', 'chromEnd', 'strand', '#id'], axis=1)\n",
    "        mt_join = mt_join[mt_join.gene != \".\"]\n",
    "        mt_join.dropna(subset = [\"gene\"], inplace=True)\n",
    "\n",
    "        # gene mean \n",
    "        mt_join_gene_filter = mt_join.groupby(['gene']).mean()\n",
    "        mt_join_gene_filter = mt_join_gene_filter[mt_join_gene_filter.index.isin(non_zero_column(mt_join_gene_filter))].T\n",
    "        \n",
    "        mt_join_gene_filter.to_pickle(pkl_path + \"/\" + cancer_type + \"_mt.pkl\")\n",
    "        \n",
    "        # set same column for merge\n",
    "        rna['sample'] = rna.index\n",
    "        mirna['sample'] = mirna.index\n",
    "        mt_join_gene_filter['sample'] = mt_join_gene_filter.index\n",
    "        \n",
    "    # set column for unique\n",
    "    rna.columns = list(map(lambda col : col + \"_RNA\", rna.columns.to_list()))\n",
    "    mirna.columns = list(map(lambda col : col + \"_miRNA\", mirna.columns.to_list()))\n",
    "    mt_join_gene_filter.columns = list(map(lambda col : col + \"_Methylation\", mt_join_gene_filter.columns.to_list()))\n",
    "        \n",
    "    # set index\n",
    "    rna_index = rna.index.to_list()\n",
    "    mirna_index = mirna.index.to_list()\n",
    "    mt_join_gene_filter_index = mt_join_gene_filter.index.to_list()\n",
    "    \n",
    "    # normalization\n",
    "    if norm:\n",
    "        scalerX = StandardScaler()\n",
    "        rna_scale = scalerX.fit_transform(rna)\n",
    "        mirna_scale = scalerX.fit_transform(mirna)\n",
    "        mt_join_gene_filter_scale = scalerX.fit_transform(mt_join_gene_filter)\n",
    "\n",
    "        # missing impute\n",
    "        imputer = KNNImputer(n_neighbors=10)\n",
    "        rna_impute = imputer.fit_transform(rna_scale)\n",
    "        mirna_impute = imputer.fit_transform(mirna_scale)\n",
    "        mt_join_gene_filter_impute = imputer.fit_transform(mt_join_gene_filter_scale)\n",
    "\n",
    "        # Pandas\n",
    "        rna = pd.DataFrame(rna_impute, columns=rna.columns)\n",
    "        rna.index = rna_index\n",
    "\n",
    "        mirna = pd.DataFrame(mirna_impute, columns=mirna.columns)\n",
    "        mirna.index = mirna_index\n",
    "\n",
    "        mt = pd.DataFrame(mt_join_gene_filter_impute, columns=mt_join_gene_filter.columns)\n",
    "        mt.index = mt_join_gene_filter_index\n",
    "    else :\n",
    "        # missing impute\n",
    "        imputer = KNNImputer(n_neighbors=10)\n",
    "        rna_impute = imputer.fit_transform(rna)\n",
    "        mirna_impute = imputer.fit_transform(mirna)\n",
    "        mt_join_gene_filter_impute = imputer.fit_transform(mt_join_gene_filtere)\n",
    "\n",
    "        # Pandas\n",
    "        rna = pd.DataFrame(rna_impute, columns=rna.columns)\n",
    "        rna.index = rna_index\n",
    "\n",
    "        mirna = pd.DataFrame(mirna_impute, columns=mirna.columns)\n",
    "        mirna.index = mirna_index\n",
    "\n",
    "        mt = pd.DataFrame(mt_join_gene_filter_impute, columns=mt_join_gene_filter.columns)\n",
    "        mt.index = mt_join_gene_filter_index\n",
    "    \n",
    "    # omics join group\n",
    "    group_df = pd.read_csv(group_path, sep = \"\\t\", index_col=0)\n",
    "    \n",
    "    omics = [rna, mirna, mt]\n",
    "    omics = list(map(lambda df : pd.merge(left=group_df, right=df, how=\"inner\", \n",
    "                                          left_index=True, right_index=True), omics))\n",
    "    \n",
    "    return omics\n",
    "\n",
    "def select_features(X, y, N, method):\n",
    "    # configure to select all features\n",
    "    # @ mehtod\n",
    "    # f_classif : ANOVA f-test Features\n",
    "    # mutual_info_classif : Mutual Information Features\n",
    "    \n",
    "    fs = SelectKBest(score_func=method, k= N)\n",
    "    fs.fit(X, y)\n",
    "    \n",
    "    # transform train input data\n",
    "    X_fs = fs.transform(X)\n",
    "    \n",
    "    return X_fs, fs\n",
    "\n",
    "def univariate_selection(group, feature, method):\n",
    "    '''\n",
    "        @group - target variable\n",
    "        @feautre - feature\n",
    "        @method - annovar -> f_classif / mutual -> mutual_info_classif\n",
    "    '''\n",
    "    \n",
    "    if method == \"anova\":\n",
    "        method_ = f_classif\n",
    "    else : # mutal\n",
    "        method_ = mutual_info_classif\n",
    "    \n",
    "    # Select Top - N using cv(cross-validation)\n",
    "    cv = RepeatedStratifiedKFold(n_splits=10, n_repeats=2, random_state=331)\n",
    "    \n",
    "    # Pipeline\n",
    "    model = svm.SVC(kernel='linear')\n",
    "    fs = SelectKBest(score_func=method_)\n",
    "\n",
    "    pipeline = Pipeline(steps=[('method',fs), ('lr', model)])\n",
    "    \n",
    "    # grid search\n",
    "    grid = dict()\n",
    "    grid['method__k'] = list(range(100, 1100, 100))\n",
    "\n",
    "    # define the grid search\n",
    "    search = GridSearchCV(pipeline, grid, scoring='accuracy', n_jobs=-1, cv=cv)\n",
    "    results = search.fit(feature, group)\n",
    "    \n",
    "    # Best Top-K\n",
    "    N = results.best_params_['method__k']\n",
    "    print('Best Top-K: %s' % N)\n",
    "    \n",
    "    # Select N feature\n",
    "    # feature selection : f_classif, mutual_info_classif\n",
    "    feature_fs, fs = select_features(feature, group, results.best_params_['method__k'], method_)\n",
    "    \n",
    "    # result DF\n",
    "    result_df = pd.DataFrame(fs.scores_, columns=[method])\n",
    "    result_df['feature'] = fs.feature_names_in_\n",
    "    result_df = result_df.sort_values(by = [method], axis=0, ascending=False).iloc[1:N,:]\n",
    "    \n",
    "    return result_df\n",
    "\n",
    "def createFolder(path):\n",
    "    try:\n",
    "        if not os.path.exists(path):\n",
    "            os.makedirs(path)\n",
    "    except OSError:\n",
    "        print ('Folder already exists. ' +  path)"
   ]
  },
  {
   "cell_type": "markdown",
   "id": "0e5a6f69-5954-4663-b27e-bbf5aafe89d8",
   "metadata": {},
   "source": [
    "## **Select top N Feature**"
   ]
  },
  {
   "cell_type": "code",
   "execution_count": 5,
   "id": "9be3a984-dd1b-4119-9b13-72024b3c5a71",
   "metadata": {},
   "outputs": [],
   "source": [
    "omics = load_preprocess_tcga_dataset(pkl_path=PKL_file_path, raw_path=RAW_file_path, \n",
    "                                     cancer_type=CANCER_TYPE, norm=True, \n",
    "                                     group_path=GROUP_PHTH+\"LIHC_GROUP_20220111-163051.txt\")"
   ]
  },
  {
   "cell_type": "markdown",
   "id": "05a3cb33-f1dc-44f2-bece-65769a3d7368",
   "metadata": {},
   "source": [
    "* **Train/Test split**"
   ]
  },
  {
   "cell_type": "code",
   "execution_count": 6,
   "id": "6bcd4ed6-b839-4bd0-9288-c52ba146c64c",
   "metadata": {},
   "outputs": [],
   "source": [
    "y = omics[0].pop('group')\n",
    "X = omics[0]"
   ]
  },
  {
   "cell_type": "markdown",
   "id": "9ac53dff-1d76-4d76-8206-db6dd4c88c96",
   "metadata": {},
   "source": [
    "### **Stochastic Based method**"
   ]
  },
  {
   "cell_type": "markdown",
   "id": "53a056a1-710a-458d-93e6-921b53433d01",
   "metadata": {},
   "source": [
    "* **Select N - Anovar**"
   ]
  },
  {
   "cell_type": "code",
   "execution_count": 48,
   "id": "48367e5c-c941-490a-9576-61283544c969",
   "metadata": {},
   "outputs": [
    {
     "name": "stdout",
     "output_type": "stream",
     "text": [
      "Best Top-K: 600\n"
     ]
    }
   ],
   "source": [
    "anovar_feature = univariate_selection(y, X, \"anova\")"
   ]
  },
  {
   "cell_type": "code",
   "execution_count": 49,
   "id": "b388b4a4-e5f9-4d8f-8f0a-7dc214a98776",
   "metadata": {},
   "outputs": [
    {
     "data": {
      "text/html": [
       "<div>\n",
       "<style scoped>\n",
       "    .dataframe tbody tr th:only-of-type {\n",
       "        vertical-align: middle;\n",
       "    }\n",
       "\n",
       "    .dataframe tbody tr th {\n",
       "        vertical-align: top;\n",
       "    }\n",
       "\n",
       "    .dataframe thead th {\n",
       "        text-align: right;\n",
       "    }\n",
       "</style>\n",
       "<table border=\"1\" class=\"dataframe\">\n",
       "  <thead>\n",
       "    <tr style=\"text-align: right;\">\n",
       "      <th></th>\n",
       "      <th>anova</th>\n",
       "      <th>feature</th>\n",
       "    </tr>\n",
       "  </thead>\n",
       "  <tbody>\n",
       "    <tr>\n",
       "      <th>14671</th>\n",
       "      <td>176.029974</td>\n",
       "      <td>ECT2_RNA</td>\n",
       "    </tr>\n",
       "    <tr>\n",
       "      <th>12447</th>\n",
       "      <td>167.564970</td>\n",
       "      <td>FANCD2_RNA</td>\n",
       "    </tr>\n",
       "    <tr>\n",
       "      <th>11206</th>\n",
       "      <td>164.058531</td>\n",
       "      <td>SHCBP1_RNA</td>\n",
       "    </tr>\n",
       "    <tr>\n",
       "      <th>17846</th>\n",
       "      <td>156.231376</td>\n",
       "      <td>CHEK1_RNA</td>\n",
       "    </tr>\n",
       "    <tr>\n",
       "      <th>15097</th>\n",
       "      <td>156.147967</td>\n",
       "      <td>MCM10_RNA</td>\n",
       "    </tr>\n",
       "    <tr>\n",
       "      <th>...</th>\n",
       "      <td>...</td>\n",
       "      <td>...</td>\n",
       "    </tr>\n",
       "    <tr>\n",
       "      <th>8006</th>\n",
       "      <td>70.529620</td>\n",
       "      <td>VPS37C_RNA</td>\n",
       "    </tr>\n",
       "    <tr>\n",
       "      <th>18451</th>\n",
       "      <td>70.528190</td>\n",
       "      <td>STRN4_RNA</td>\n",
       "    </tr>\n",
       "    <tr>\n",
       "      <th>80</th>\n",
       "      <td>70.445829</td>\n",
       "      <td>NBEAP3_RNA</td>\n",
       "    </tr>\n",
       "    <tr>\n",
       "      <th>1014</th>\n",
       "      <td>70.418751</td>\n",
       "      <td>MMAA_RNA</td>\n",
       "    </tr>\n",
       "    <tr>\n",
       "      <th>11711</th>\n",
       "      <td>70.386141</td>\n",
       "      <td>SENP1_RNA</td>\n",
       "    </tr>\n",
       "  </tbody>\n",
       "</table>\n",
       "<p>599 rows × 2 columns</p>\n",
       "</div>"
      ],
      "text/plain": [
       "            anova     feature\n",
       "14671  176.029974    ECT2_RNA\n",
       "12447  167.564970  FANCD2_RNA\n",
       "11206  164.058531  SHCBP1_RNA\n",
       "17846  156.231376   CHEK1_RNA\n",
       "15097  156.147967   MCM10_RNA\n",
       "...           ...         ...\n",
       "8006    70.529620  VPS37C_RNA\n",
       "18451   70.528190   STRN4_RNA\n",
       "80      70.445829  NBEAP3_RNA\n",
       "1014    70.418751    MMAA_RNA\n",
       "11711   70.386141   SENP1_RNA\n",
       "\n",
       "[599 rows x 2 columns]"
      ]
     },
     "execution_count": 49,
     "metadata": {},
     "output_type": "execute_result"
    }
   ],
   "source": [
    "anovar_feature"
   ]
  },
  {
   "cell_type": "markdown",
   "id": "91c78f75-e169-4517-8cb2-4def933a33c3",
   "metadata": {},
   "source": [
    "* **Select N - Mutual Information**"
   ]
  },
  {
   "cell_type": "code",
   "execution_count": null,
   "id": "05e3f279-3566-438c-91fa-3f0606f58e30",
   "metadata": {},
   "outputs": [],
   "source": [
    "mutual_feature = univariate_selection(y, X, \"mutual\")"
   ]
  },
  {
   "cell_type": "markdown",
   "id": "29d798b3-b9bb-4776-8312-f4ea5c26ab69",
   "metadata": {},
   "source": [
    "### **Machine Learning Based method**"
   ]
  },
  {
   "cell_type": "code",
   "execution_count": null,
   "id": "54c123ae-171e-4f46-80fa-7e59cc76cdc1",
   "metadata": {},
   "outputs": [],
   "source": []
  }
 ],
 "metadata": {
  "kernelspec": {
   "display_name": "multiomic",
   "language": "python",
   "name": "multiomics"
  },
  "language_info": {
   "codemirror_mode": {
    "name": "ipython",
    "version": 3
   },
   "file_extension": ".py",
   "mimetype": "text/x-python",
   "name": "python",
   "nbconvert_exporter": "python",
   "pygments_lexer": "ipython3",
   "version": "3.7.12"
  }
 },
 "nbformat": 4,
 "nbformat_minor": 5
}
