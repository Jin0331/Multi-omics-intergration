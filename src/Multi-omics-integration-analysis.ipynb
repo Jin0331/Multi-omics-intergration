{
 "cells": [
  {
   "cell_type": "markdown",
   "metadata": {},
   "source": [
    "## **Module**"
   ]
  },
  {
   "cell_type": "code",
   "execution_count": 1,
   "metadata": {},
   "outputs": [
    {
     "name": "stderr",
     "output_type": "stream",
     "text": [
      "/home/wmbio/anaconda3/envs/multiomics-cpu/lib/python3.8/site-packages/xgboost/compat.py:36: FutureWarning: pandas.Int64Index is deprecated and will be removed from pandas in a future version. Use pandas.Index with the appropriate dtype instead.\n",
      "  from pandas import MultiIndex, Int64Index\n"
     ]
    }
   ],
   "source": [
    "from wmbio import * "
   ]
  },
  {
   "cell_type": "markdown",
   "metadata": {},
   "source": [
    "## **Best Sub-Group Selection**"
   ]
  },
  {
   "cell_type": "markdown",
   "metadata": {},
   "source": [
    "* **FILE PATH**"
   ]
  },
  {
   "cell_type": "code",
   "execution_count": 2,
   "metadata": {},
   "outputs": [
    {
     "data": {
      "text/plain": [
       "'/home/wmbio/WORK/gitworking/Multi-omics-intergration'"
      ]
     },
     "execution_count": 2,
     "metadata": {},
     "output_type": "execute_result"
    }
   ],
   "source": [
    "os.chdir(\"..\")\n",
    "os.getcwd()"
   ]
  },
  {
   "cell_type": "code",
   "execution_count": 3,
   "metadata": {},
   "outputs": [],
   "source": [
    "# PATH\n",
    "CANCER_TYPE = \"LIHC\"\n",
    "GROUP_PHTH = os.getcwd() + '/group/'\n",
    "PNG_PATH = os.getcwd() + '/png/'\n",
    "GROUP_VALIDATION_PATH = os.getcwd() + '/group_validation/'\n",
    "DEG_PATH = os.getcwd() + \"/best_deg/\"\n",
    "RDATA_PATH = os.getcwd() + \"/RAW_DATA/GDC_PREPARE/\"\n",
    "METHOD = 'deseq2'"
   ]
  },
  {
   "cell_type": "code",
   "execution_count": 4,
   "metadata": {},
   "outputs": [],
   "source": [
    "# Load Validation score\n",
    "col=['FILENAME','Log Rank Test','Silhouette','RNA_ANOVA_F1','RNA_RF_F1',\n",
    "     'miRNA_ANOVA_F1','miRNA_RF_F1','Methylation_ANOVA_F1','Methylation_RF_F1']\n",
    "\n",
    "group_score = pd.read_csv(GROUP_VALIDATION_PATH + 'test_validation.csv', usecols=col)\n",
    "\n",
    "# Condition for Filtering\n",
    "filter_cond = (group_score['Silhouette'] >= 0.2) & (group_score['Log Rank Test'] < 0.05) & \\\n",
    "              ((group_score['RNA_ANOVA_F1'] > 80) | (group_score['RNA_RF_F1'] > 80)) & \\\n",
    "              ((group_score['miRNA_ANOVA_F1'] > 80) | (group_score['miRNA_RF_F1'] > 80)) & \\\n",
    "              ((group_score['Methylation_ANOVA_F1'] > 85) | (group_score['Methylation_RF_F1'] > 85))\n",
    "group_score = group_score[filter_cond].sort_values([\"Silhouette\"], ascending = (False))\n",
    "\n",
    "bestSubgroup = group_score.FILENAME.to_list()\n",
    "\n",
    "# 5 fold로 제한.\n",
    "if len(bestSubgroup) > 10:\n",
    "    bestSubgroup = bestSubgroup[:10]\n",
    "\n",
    "# DEA\n",
    "dea_result = list()\n",
    "for best_group in bestSubgroup:\n",
    "    SAMPLE_GROUP = GROUP_PHTH + CANCER_TYPE + \"_GROUP_\" + best_group + \".txt\"\n",
    "    \n",
    "    # DEG Extraction\n",
    "    deg_list = deg_extract(log_fc=1.5, fdr=0.05,\n",
    "                   cancer_type=CANCER_TYPE, \n",
    "                   sample_group=SAMPLE_GROUP, deg_path=DEG_PATH, \n",
    "                   file_name=best_group,\n",
    "                   rdata_path=RDATA_PATH,\n",
    "                   method=METHOD)\n",
    "    \n",
    "    dea_result.append(deg_list)\n",
    "\n",
    "# Filter DEA\n",
    "# combine result\n",
    "if METHOD == 'all':\n",
    "    dea_combine = list(map(deseq2_edger_combine, dea_result))\n",
    "    dea_combine = [col_rename(dea_combine[index], index, bestSubgroup) for index in range(len(dea_combine))]\n",
    "    dea_combine = reduce(lambda left, right : pd.merge(left, right, left_on='gene', right_on='gene', how = 'outer'), dea_combine)\n",
    "elif METHOD == 'deseq2' :\n",
    "    dea_combine = list(map(lambda d : d[[\"row\", \"log2FoldChange\"]], dea_result))\n",
    "    dea_combine = [col_rename(dea_combine[index], index, bestSubgroup) for index in range(len(dea_combine))]\n",
    "    dea_combine = reduce(lambda left, right : pd.merge(left, right, left_on='gene', right_on='gene', how = 'inner'), dea_combine)\n",
    "\n",
    "# median & mean\n",
    "dea_combine[\"SubGroup-log2FC_median\"] = dea_combine.iloc[:, 1:].median(axis=1)\n",
    "dea_combine[\"SubGroup-log2FC_mean\"] = dea_combine.iloc[:, 1:].mean(axis=1)"
   ]
  },
  {
   "cell_type": "code",
   "execution_count": null,
   "metadata": {},
   "outputs": [],
   "source": []
  }
 ],
 "metadata": {
  "kernelspec": {
   "display_name": "multiomic-cpu",
   "language": "python",
   "name": "multiomics-cpu"
  },
  "language_info": {
   "codemirror_mode": {
    "name": "ipython",
    "version": 3
   },
   "file_extension": ".py",
   "mimetype": "text/x-python",
   "name": "python",
   "nbconvert_exporter": "python",
   "pygments_lexer": "ipython3",
   "version": "3.8.12"
  }
 },
 "nbformat": 4,
 "nbformat_minor": 5
}
