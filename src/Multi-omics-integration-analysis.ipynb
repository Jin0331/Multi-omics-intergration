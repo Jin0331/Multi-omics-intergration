{
 "cells": [
  {
   "cell_type": "markdown",
   "id": "7dfd6e84-3e75-4e03-886b-7bcea6effa2b",
   "metadata": {},
   "source": [
    "## **Module**"
   ]
  },
  {
   "cell_type": "code",
   "execution_count": 2,
   "id": "043cf597-9393-4b45-9076-95d5c99381ba",
   "metadata": {},
   "outputs": [],
   "source": [
    "# rpy2\n",
    "import os\n",
    "import re\n",
    "import gc\n",
    "import pickle\n",
    "import datetime\n",
    "\n",
    "import pandas as pd\n",
    "import numpy as np\n",
    "import seaborn as sns\n",
    "from functools import reduce\n",
    "from itertools import chain\n",
    "import matplotlib.pyplot as plt\n",
    "from matplotlib_venn import venn3_unweighted\n",
    "from matplotlib import rcParams\n",
    "from IPython.display import SVG\n",
    "from tensorflow.keras.utils import model_to_dot\n",
    "\n",
    "os.environ['R_HOME'] = '/home/km/anaconda3/envs/multiomics/lib/R' # env R invoke\n",
    "import rpy2.robjects as ro\n",
    "from rpy2.robjects.packages import importr\n",
    "from rpy2.robjects import pandas2ri\n",
    "from rpy2.robjects.conversion import localconverter\n",
    "\n"
   ]
  },
  {
   "cell_type": "markdown",
   "id": "960b5373-d542-4b1d-aa80-99254e2bb514",
   "metadata": {},
   "source": [
    "* **20220121-110327 model 기준**"
   ]
  },
  {
   "cell_type": "code",
   "execution_count": null,
   "id": "6c5001a9-b790-4ce0-8cd6-01d7950b59a1",
   "metadata": {},
   "outputs": [],
   "source": []
  },
  {
   "cell_type": "code",
   "execution_count": null,
   "id": "ce4a69b8-908c-4686-b027-1ccdda0baf65",
   "metadata": {},
   "outputs": [],
   "source": []
  },
  {
   "cell_type": "code",
   "execution_count": null,
   "id": "3bb28fec-a960-4402-9197-30e0b79b981b",
   "metadata": {},
   "outputs": [],
   "source": []
  },
  {
   "cell_type": "code",
   "execution_count": null,
   "id": "af7c1c9c-5ee6-4bfa-9ba5-824982e2b898",
   "metadata": {},
   "outputs": [],
   "source": []
  }
 ],
 "metadata": {
  "kernelspec": {
   "display_name": "multiomic",
   "language": "python",
   "name": "multiomics"
  },
  "language_info": {
   "codemirror_mode": {
    "name": "ipython",
    "version": 3
   },
   "file_extension": ".py",
   "mimetype": "text/x-python",
   "name": "python",
   "nbconvert_exporter": "python",
   "pygments_lexer": "ipython3",
   "version": "3.7.12"
  }
 },
 "nbformat": 4,
 "nbformat_minor": 5
}
