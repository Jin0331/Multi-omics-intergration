{
 "cells": [
  {
   "cell_type": "markdown",
   "id": "4309ba2a-6ff8-4ede-b512-1b693d26a632",
   "metadata": {
    "tags": []
   },
   "source": [
    "### **File Path**"
   ]
  },
  {
   "cell_type": "code",
   "execution_count": 1,
   "id": "5c136126-7d9c-4902-9e12-210a680b3ddf",
   "metadata": {
    "tags": []
   },
   "outputs": [],
   "source": [
    "CANCER_TYPE = \"LIHC\"\n",
    "RAW_file_path = \"/home/km/gitworking/Multi-omics-intergration/RAW_DATA/\"\n",
    "PKL_file_path = \"/home/km/gitworking/Multi-omics-intergration/pkl/\"\n",
    "MODEL_path = \"/home/km/gitworking/Multi-omics-intergration/models/\"\n",
    "TENSORBOARD_PATH = '/home/km/gitworking/Multi-omics-intergration/log'\n",
    "GROUP_PHTH = '/home/km/gitworking/Multi-omics-intergration/group/'\n",
    "PNG_PATH = '/home/km/gitworking/Multi-omics-intergration/png/'"
   ]
  },
  {
   "cell_type": "markdown",
   "id": "70481502-18c4-440f-ac31-b934b0232ed5",
   "metadata": {},
   "source": [
    "### **GPU cehck**"
   ]
  },
  {
   "cell_type": "code",
   "execution_count": 2,
   "id": "268a6915-d620-4b39-b12f-e50aebcd134d",
   "metadata": {
    "tags": []
   },
   "outputs": [
    {
     "name": "stderr",
     "output_type": "stream",
     "text": [
      "2022-01-18 07:16:12.521122: I tensorflow/stream_executor/platform/default/dso_loader.cc:49] Successfully opened dynamic library libcudart.so.10.1\n",
      "2022-01-18 07:16:14.295401: I tensorflow/compiler/jit/xla_cpu_device.cc:41] Not creating XLA devices, tf_xla_enable_xla_devices not set\n",
      "2022-01-18 07:16:14.296511: I tensorflow/stream_executor/platform/default/dso_loader.cc:49] Successfully opened dynamic library libcuda.so.1\n",
      "2022-01-18 07:16:14.377488: I tensorflow/core/common_runtime/gpu/gpu_device.cc:1720] Found device 0 with properties: \n",
      "pciBusID: 0000:83:00.0 name: GeForce RTX 2080 Ti computeCapability: 7.5\n",
      "coreClock: 1.665GHz coreCount: 68 deviceMemorySize: 10.76GiB deviceMemoryBandwidth: 573.69GiB/s\n",
      "2022-01-18 07:16:14.377532: I tensorflow/stream_executor/platform/default/dso_loader.cc:49] Successfully opened dynamic library libcudart.so.10.1\n",
      "2022-01-18 07:16:14.380070: I tensorflow/stream_executor/platform/default/dso_loader.cc:49] Successfully opened dynamic library libcublas.so.10\n",
      "2022-01-18 07:16:14.380111: I tensorflow/stream_executor/platform/default/dso_loader.cc:49] Successfully opened dynamic library libcublasLt.so.10\n",
      "2022-01-18 07:16:14.381993: I tensorflow/stream_executor/platform/default/dso_loader.cc:49] Successfully opened dynamic library libcufft."
     ]
    },
    {
     "data": {
      "text/plain": [
       "OrderedDict([('cpu_compiler',\n",
       "              '/home/builder/ktietz/aggregate/tensorflow_recipes/ci_cpu/tensorflow-base_1614534878484/_build_env/bin/x86_64-conda_cos6-linux-gnu-gcc'),\n",
       "             ('cuda_compute_capabilities',\n",
       "              ['compute_35',\n",
       "               'compute_52',\n",
       "               'compute_60',\n",
       "               'compute_61',\n",
       "               'compute_70',\n",
       "               'compute_75']),\n",
       "             ('cuda_version', '10.1'),\n",
       "             ('cudnn_version', '7'),\n",
       "             ('is_cuda_build', True),\n",
       "             ('is_rocm_build', False)])"
      ]
     },
     "execution_count": 2,
     "metadata": {},
     "output_type": "execute_result"
    },
    {
     "name": "stderr",
     "output_type": "stream",
     "text": [
      "so.10\n",
      "2022-01-18 07:16:14.382336: I tensorflow/stream_executor/platform/default/dso_loader.cc:49] Successfully opened dynamic library libcurand.so.10\n",
      "2022-01-18 07:16:14.384862: I tensorflow/stream_executor/platform/default/dso_loader.cc:49] Successfully opened dynamic library libcusolver.so.10\n",
      "2022-01-18 07:16:14.386017: I tensorflow/stream_executor/platform/default/dso_loader.cc:49] Successfully opened dynamic library libcusparse.so.10\n",
      "2022-01-18 07:16:14.391295: I tensorflow/stream_executor/platform/default/dso_loader.cc:49] Successfully opened dynamic library libcudnn.so.7\n",
      "2022-01-18 07:16:14.392877: I tensorflow/core/common_runtime/gpu/gpu_device.cc:1862] Adding visible gpu devices: 0\n"
     ]
    }
   ],
   "source": [
    "import tensorflow as tf\n",
    "import tensorflow.keras.backend as K\n",
    "tf.test.is_built_with_cuda()\n",
    "tf.config.list_physical_devices('GPU')\n",
    "tf.sysconfig.get_build_info()"
   ]
  },
  {
   "cell_type": "markdown",
   "id": "24a7506f-5d91-4dbb-a14a-89ffb9796430",
   "metadata": {},
   "source": [
    "## **Module**"
   ]
  },
  {
   "cell_type": "code",
   "execution_count": 3,
   "id": "104b07b9-1261-4670-8ed9-87036110db6a",
   "metadata": {},
   "outputs": [],
   "source": [
    "import os\n",
    "import re\n",
    "import gc\n",
    "import pickle\n",
    "import datetime\n",
    "\n",
    "import pandas as pd\n",
    "import numpy as np\n",
    "import seaborn as sns\n",
    "from functools import reduce\n",
    "import matplotlib.pyplot as plt\n",
    "from matplotlib_venn import venn3_unweighted\n",
    "\n",
    "from sklearn import svm\n",
    "from sklearn.cluster import KMeans\n",
    "from sklearn.impute import KNNImputer\n",
    "from sklearn.manifold import TSNE\n",
    "from sklearn.preprocessing import MinMaxScaler\n",
    "from sklearn.preprocessing import StandardScaler\n",
    "from sklearn.model_selection import train_test_split\n",
    "from sklearn.feature_selection import SelectKBest\n",
    "from sklearn.feature_selection import f_classif\n",
    "from sklearn.feature_selection import mutual_info_classif\n",
    "from sklearn import metrics\n",
    "from sklearn.linear_model import LogisticRegression\n",
    "from sklearn.metrics import accuracy_score\n",
    "from sklearn.pipeline import Pipeline\n",
    "from sklearn.model_selection import GridSearchCV\n",
    "from sklearn.model_selection import RepeatedStratifiedKFold\n",
    "from sklearn.ensemble import RandomForestClassifier\n",
    "from sklearn.feature_selection import SelectFromModel\n",
    "from sklearn.model_selection import cross_val_score\n",
    "from xgboost import XGBClassifier\n",
    "\n",
    "# keras\n",
    "from tensorflow.keras.models import Model\n",
    "from tensorflow.keras.layers import Dense, Input\n",
    "from tensorflow.keras.preprocessing import sequence\n",
    "from tensorflow.keras.callbacks import EarlyStopping\n",
    "\n",
    "# rpy2\n",
    "os.environ['R_HOME'] = '/home/km/anaconda3/envs/multiomics/lib/R' # env R invoke\n",
    "import rpy2.robjects as ro\n",
    "from rpy2.robjects.packages import importr\n",
    "from rpy2.robjects import pandas2ri\n",
    "from rpy2.robjects.conversion import localconverter\n",
    "\n",
    "#!python -m rpy2.situation"
   ]
  },
  {
   "cell_type": "markdown",
   "id": "356cd486-13bb-458f-9ece-8d6087afeb95",
   "metadata": {},
   "source": [
    "## **UDF**"
   ]
  },
  {
   "cell_type": "code",
   "execution_count": 92,
   "id": "011d84eb-e0a4-43af-8bfd-5a2ff522e6d2",
   "metadata": {},
   "outputs": [],
   "source": [
    "def cancer_select(cols, cancer_type):\n",
    "    # phenotype\n",
    "    phe1 = pd.read_csv(\"https://gdc-hub.s3.us-east-1.amazonaws.com/download/GDC-PANCAN.basic_phenotype.tsv.gz\", sep=\"\\t\")\n",
    "    phe1 = phe1.loc[phe1.program == \"TCGA\", :].loc[:, ['sample', 'sample_type', 'project_id']].drop_duplicates(['sample'])\n",
    "    phe1['sample'] =  phe1.apply(lambda x : x['sample'][:-1], axis=1)\n",
    "    phe2 = pd.read_csv(\"https://tcga-pancan-atlas-hub.s3.us-east-1.amazonaws.com/download/TCGA_phenotype_denseDataOnlyDownload.tsv.gz\", sep=\"\\t\")\n",
    "    ph_join = pd.merge(left = phe2 , right = phe1, how = \"left\", on = \"sample\").dropna(subset=['project_id'])\n",
    "    \n",
    "    if cancer_type == \"PAN\" or cancer_type == \"PANCAN\":\n",
    "        filterd = ph_join.loc[ph_join['sample_type_y'] == \"Primary Tumor\", :]\n",
    "        sample_barcode = filterd[\"sample\"].tolist()\n",
    "    else:\n",
    "        filterd = ph_join.loc[(ph_join['sample_type_y'] == \"Primary Tumor\") & (ph_join['project_id'] == \"TCGA-\" + cancer_type) , :]\n",
    "        sample_barcode = filterd[\"sample\"].tolist()\n",
    "        \n",
    "    intersect_ = list(set(cols).intersection(sample_barcode))\n",
    "    \n",
    "    return intersect_\n",
    "\n",
    "def non_zero_column(DF):\n",
    "    sample_cnt = int(len(DF.columns) * 0.2)\n",
    "    zero_row = dict(DF.isin([0]).sum(axis=1))\n",
    "    non_remove_feature = list()\n",
    "\n",
    "    for key, value in zero_row.items():\n",
    "        if value < sample_cnt:\n",
    "            non_remove_feature.append(key)\n",
    "    \n",
    "    return non_remove_feature\n",
    "\n",
    "def load_tcga_dataset(pkl_path, raw_path, cancer_type, norm):\n",
    "    \n",
    "    if os.path.isfile(pkl_path + \"/\" + cancer_type + \"_omics.pkl\"):\n",
    "        omics = pd.read_pickle(pkl_path + \"/\" + cancer_type + \"_omics.pkl\")\n",
    "\n",
    "        # sep\n",
    "        rna = pd.read_pickle(pkl_path + \"/\" + cancer_type + \"_rna.pkl\")\n",
    "        mirna = pd.read_pickle(pkl_path + \"/\" + cancer_type + \"_mirna.pkl\")\n",
    "        mt = pd.read_pickle(pkl_path + \"/\" + cancer_type + \"_mt.pkl\")\n",
    "        \n",
    "        # intersect\n",
    "        venn3_unweighted([set(rna.index), set(mirna.index), set(mt.index)], ('RNA', 'miRNA', 'Methylation'))\n",
    "        plt.show()\n",
    "        \n",
    "    else :\n",
    "        # RNA gene expression\n",
    "        col = pd.read_csv(raw_path + \"tcga_RSEM_Hugo_norm_count.gz\",\n",
    "                     sep = \"\\t\", index_col=0, nrows=0).columns.to_list()\n",
    "        use_col = ['sample'] + cancer_select(cols=col, cancer_type=cancer_type)\n",
    "        df_chunk = pd.read_csv(raw_path + \"tcga_RSEM_Hugo_norm_count.gz\",\n",
    "                     sep = \"\\t\", index_col=0, iterator=True, chunksize=50000, usecols=use_col)\n",
    "        rna = pd.concat([chunk for chunk in df_chunk])\n",
    "        rna = rna[rna.index.isin(non_zero_column(rna))].T\n",
    "        \n",
    "        rna.to_pickle(pkl_path + \"/\" + cancer_type + \"_rna.pkl\")\n",
    "\n",
    "        # miRNA expression\n",
    "        col = pd.read_csv(raw_path + \"pancanMiRs_EBadjOnProtocolPlatformWithoutRepsWithUnCorrectMiRs_08_04_16.xena.gz\",\n",
    "                     sep = \"\\t\", index_col=0, nrows=0).columns.to_list()\n",
    "        use_col = ['sample'] + cancer_select(cols=col, cancer_type=cancer_type)\n",
    "\n",
    "        df_chunk = pd.read_csv(raw_path + \"pancanMiRs_EBadjOnProtocolPlatformWithoutRepsWithUnCorrectMiRs_08_04_16.xena.gz\",\n",
    "                         sep = \"\\t\", index_col=0, iterator=True, chunksize=50000, usecols=use_col)\n",
    "        mirna = pd.concat([chunk for chunk in df_chunk])\n",
    "        mirna = mirna[mirna.index.isin(non_zero_column(mirna))].T\n",
    "        \n",
    "        mirna.to_pickle(pkl_path + \"/\" + cancer_type + \"_mirna.pkl\")\n",
    "\n",
    "        # methylation\n",
    "        col = pd.read_csv(raw_path + \"jhu-usc.edu_PANCAN_HumanMethylation450.betaValue_whitelisted.tsv.synapse_download_5096262.xena.gz\",\n",
    "                     sep = \"\\t\", index_col=0, nrows=0).columns.to_list()\n",
    "        use_col = ['sample'] + cancer_select(cols=col, cancer_type=cancer_type)\n",
    "\n",
    "        df_chunk = pd.read_csv(raw_path + \"jhu-usc.edu_PANCAN_HumanMethylation450.betaValue_whitelisted.tsv.synapse_download_5096262.xena.gz\",\n",
    "                         sep = \"\\t\", index_col=0, iterator=True, chunksize=50000, usecols=use_col)\n",
    "        mt = pd.concat([chunk for chunk in df_chunk])\n",
    "\n",
    "        mt_map = pd.read_csv(raw_path + \"probeMap_illuminaMethyl450_hg19_GPL16304_TCGAlegacy\", sep=\"\\t\")\n",
    "\n",
    "        mt_join = pd.merge(mt, mt_map, how = \"left\", left_on = \"sample\", right_on = \"#id\")\\\n",
    "                 .drop(['chrom', 'chromStart', 'chromEnd', 'strand', '#id'], axis=1)\n",
    "        mt_join = mt_join[mt_join.gene != \".\"]\n",
    "        mt_join.dropna(subset = [\"gene\"], inplace=True)\n",
    "\n",
    "        # gene mean \n",
    "        mt_join_gene_filter = mt_join.groupby(['gene']).mean()\n",
    "        mt_join_gene_filter = mt_join_gene_filter[mt_join_gene_filter.index.isin(non_zero_column(mt_join_gene_filter))].T\n",
    "        \n",
    "        mt_join_gene_filter.to_pickle(pkl_path + \"/\" + cancer_type + \"_mt.pkl\")\n",
    "        \n",
    "        # intersect\n",
    "        venn3_unweighted([set(rna.index), set(mirna.index), set(mt_join_gene_filter.index)], ('RNA', 'miRNA', 'Methylation'))\n",
    "        plt.show()\n",
    "        \n",
    "        # set same column for merge\n",
    "        rna['sample'] = rna.index\n",
    "        mirna['sample'] = mirna.index\n",
    "        mt_join_gene_filter['sample'] = mt_join_gene_filter.index\n",
    "\n",
    "        # data join\n",
    "        merge_list = [rna, mirna, mt_join_gene_filter]\n",
    "        omics = reduce(lambda left, right : pd.merge(left, right, on = \"sample\"), merge_list)\n",
    "        omics.set_index('sample', inplace=True)\n",
    "\n",
    "        # pickle save\n",
    "        omics.to_pickle(pkl_path + \"/\" + cancer_type + \"_omics.pkl\")\n",
    "    \n",
    "    # set index\n",
    "    omics_index = omics.index.to_list()\n",
    "    \n",
    "    # normalization\n",
    "    if norm:\n",
    "        scalerX = StandardScaler()\n",
    "        omics_scale = scalerX.fit_transform(omics)\n",
    "    \n",
    "    # missing impute\n",
    "    imputer = KNNImputer(n_neighbors=10)\n",
    "    omics_impute = imputer.fit_transform(omics_scale)\n",
    "\n",
    "    omics = pd.DataFrame(omics_impute, columns=omics.columns)\n",
    "    omics.index = omics_index\n",
    "\n",
    "    return omics\n",
    "\n",
    "def root_mean_squared_log_error(y_true, y_pred):\n",
    "    msle = tf.keras.losses.MeanSquaredLogarithmicError()\n",
    "    return K.sqrt(msle(y_true, y_pred)) \n",
    "\n",
    "def make_Tensorboard_dir(dir_name):\n",
    "    root_logdir = os.path.join(os.curdir, dir_name) \n",
    "    sub_dir_name = datetime.datetime.now().strftime(\"%Y%m%d-%H%M%S\") \n",
    "    return os.path.join(root_logdir, sub_dir_name)\n",
    "\n",
    "# invoke r\n",
    "def log_test(df):\n",
    "    # pandas DF to R DF\n",
    "    with localconverter(ro.default_converter + pandas2ri.converter):\n",
    "        r_from_pd_df = ro.conversion.py2rpy(df)\n",
    "\n",
    "    # R UDF invoke\n",
    "    r = ro.r\n",
    "    r['source']('r-function.R')\n",
    "    log_rank_test_r = ro.globalenv['log_rank_test']\n",
    "    log_rank_test_feature = log_rank_test_r(r_from_pd_df)\n",
    "\n",
    "    # R DF to pandas DF\n",
    "    with localconverter(ro.default_converter + pandas2ri.converter):\n",
    "        log_rank_test = ro.conversion.rpy2py(log_rank_test_feature)\n",
    "\n",
    "    feature_log = log_rank_test['Features'].to_list()\n",
    "    \n",
    "    return feature_log\n",
    "\n",
    "# invoke r\n",
    "def nb_cluster(df):\n",
    "    # pandas DF to R DF\n",
    "    with localconverter(ro.default_converter + pandas2ri.converter):\n",
    "        omic_encoded_fc_r = ro.conversion.py2rpy(df)\n",
    "\n",
    "    r = ro.r\n",
    "    r['source']('r-function.R')\n",
    "    nb_cluster_test = ro.globalenv['nb_cluster_test']\n",
    "    nb_cluster_test_feature = nb_cluster_test(omic_encoded_fc_r)\n",
    "\n",
    "    # R DF to pandas DF\n",
    "    with localconverter(ro.default_converter + pandas2ri.converter):\n",
    "        omic_encoded_fc_r = ro.conversion.rpy2py(nb_cluster_test_feature)\n",
    "        \n",
    "    return omic_encoded_fc_r\n",
    "\n",
    "# invoke r\n",
    "def survfit(df, file_name, PNG_PATH):\n",
    "    # pandas DF to R DF\n",
    "    with localconverter(ro.default_converter + pandas2ri.converter):\n",
    "        r_from_pd_df = ro.conversion.py2rpy(df)\n",
    "\n",
    "    # R UDF invoke\n",
    "    r = ro.r\n",
    "    r['source']('r-function.R')\n",
    "    km_survival_r = ro.globalenv['km_survival']\n",
    "    km_survival_r(r_from_pd_df, file_name, PNG_PATH)\n",
    "    \n",
    "## For Target\n",
    "def load_preprocess_tcga_dataset(pkl_path, raw_path, group_path, cancer_type, norm):\n",
    "    \n",
    "    if os.path.isfile(pkl_path + \"/\" + cancer_type + \"_omics.pkl\"):\n",
    "        # sep\n",
    "        rna = pd.read_pickle(pkl_path + \"/\" + cancer_type + \"_rna.pkl\")\n",
    "        mirna = pd.read_pickle(pkl_path + \"/\" + cancer_type + \"_mirna.pkl\")\n",
    "        mt_join_gene_filter = pd.read_pickle(pkl_path + \"/\" + cancer_type + \"_mt.pkl\")\n",
    "        \n",
    "    else :\n",
    "        # RNA gene expression\n",
    "        col = pd.read_csv(raw_path + \"tcga_RSEM_Hugo_norm_count.gz\",\n",
    "                     sep = \"\\t\", index_col=0, nrows=0).columns.to_list()\n",
    "        use_col = ['sample'] + cancer_select(cols=col, cancer_type=cancer_type)\n",
    "        df_chunk = pd.read_csv(raw_path + \"tcga_RSEM_Hugo_norm_count.gz\",\n",
    "                     sep = \"\\t\", index_col=0, iterator=True, chunksize=50000, usecols=use_col)\n",
    "        rna = pd.concat([chunk for chunk in df_chunk])\n",
    "        rna = rna[rna.index.isin(non_zero_column(rna))].T\n",
    "        \n",
    "        rna.to_pickle(pkl_path + \"/\" + cancer_type + \"_rna.pkl\")\n",
    "\n",
    "        # miRNA expression\n",
    "        col = pd.read_csv(raw_path + \"pancanMiRs_EBadjOnProtocolPlatformWithoutRepsWithUnCorrectMiRs_08_04_16.xena.gz\",\n",
    "                     sep = \"\\t\", index_col=0, nrows=0).columns.to_list()\n",
    "        use_col = ['sample'] + cancer_select(cols=col, cancer_type=cancer_type)\n",
    "\n",
    "        df_chunk = pd.read_csv(raw_path + \"pancanMiRs_EBadjOnProtocolPlatformWithoutRepsWithUnCorrectMiRs_08_04_16.xena.gz\",\n",
    "                         sep = \"\\t\", index_col=0, iterator=True, chunksize=50000, usecols=use_col)\n",
    "        mirna = pd.concat([chunk for chunk in df_chunk])\n",
    "        mirna = mirna[mirna.index.isin(non_zero_column(mirna))].T\n",
    "        \n",
    "        mirna.to_pickle(pkl_path + \"/\" + cancer_type + \"_mirna.pkl\")\n",
    "\n",
    "        # methylation\n",
    "        col = pd.read_csv(raw_path + \"jhu-usc.edu_PANCAN_HumanMethylation450.betaValue_whitelisted.tsv.synapse_download_5096262.xena.gz\",\n",
    "                     sep = \"\\t\", index_col=0, nrows=0).columns.to_list()\n",
    "        use_col = ['sample'] + cancer_select(cols=col, cancer_type=cancer_type)\n",
    "\n",
    "        df_chunk = pd.read_csv(raw_path + \"jhu-usc.edu_PANCAN_HumanMethylation450.betaValue_whitelisted.tsv.synapse_download_5096262.xena.gz\",\n",
    "                         sep = \"\\t\", index_col=0, iterator=True, chunksize=50000, usecols=use_col)\n",
    "        mt = pd.concat([chunk for chunk in df_chunk])\n",
    "\n",
    "        mt_map = pd.read_csv(raw_path + \"probeMap_illuminaMethyl450_hg19_GPL16304_TCGAlegacy\", sep=\"\\t\")\n",
    "\n",
    "        mt_join = pd.merge(mt, mt_map, how = \"left\", left_on = \"sample\", right_on = \"#id\")\\\n",
    "                 .drop(['chrom', 'chromStart', 'chromEnd', 'strand', '#id'], axis=1)\n",
    "        mt_join = mt_join[mt_join.gene != \".\"]\n",
    "        mt_join.dropna(subset = [\"gene\"], inplace=True)\n",
    "\n",
    "        # gene mean \n",
    "        mt_join_gene_filter = mt_join.groupby(['gene']).mean()\n",
    "        mt_join_gene_filter = mt_join_gene_filter[mt_join_gene_filter.index.isin(non_zero_column(mt_join_gene_filter))].T\n",
    "        \n",
    "        mt_join_gene_filter.to_pickle(pkl_path + \"/\" + cancer_type + \"_mt.pkl\")\n",
    "        \n",
    "        # set same column for merge\n",
    "        rna['sample'] = rna.index\n",
    "        mirna['sample'] = mirna.index\n",
    "        mt_join_gene_filter['sample'] = mt_join_gene_filter.index\n",
    "        \n",
    "    # set column for unique\n",
    "    rna.columns = list(map(lambda col : col + \"_RNA\", rna.columns.to_list()))\n",
    "    mirna.columns = list(map(lambda col : col + \"_miRNA\", mirna.columns.to_list()))\n",
    "    mt_join_gene_filter.columns = list(map(lambda col : col + \"_Methylation\", mt_join_gene_filter.columns.to_list()))\n",
    "        \n",
    "    # set index\n",
    "    rna_index = rna.index.to_list()\n",
    "    mirna_index = mirna.index.to_list()\n",
    "    mt_join_gene_filter_index = mt_join_gene_filter.index.to_list()\n",
    "    \n",
    "    # normalization\n",
    "    if norm:\n",
    "        scalerX = StandardScaler()\n",
    "        rna_scale = scalerX.fit_transform(rna)\n",
    "        mirna_scale = scalerX.fit_transform(mirna)\n",
    "        mt_join_gene_filter_scale = scalerX.fit_transform(mt_join_gene_filter)\n",
    "\n",
    "        # missing impute\n",
    "        imputer = KNNImputer(n_neighbors=10)\n",
    "        rna_impute = imputer.fit_transform(rna_scale)\n",
    "        mirna_impute = imputer.fit_transform(mirna_scale)\n",
    "        mt_join_gene_filter_impute = imputer.fit_transform(mt_join_gene_filter_scale)\n",
    "\n",
    "        # Pandas\n",
    "        rna = pd.DataFrame(rna_impute, columns=rna.columns)\n",
    "        rna.index = rna_index\n",
    "\n",
    "        mirna = pd.DataFrame(mirna_impute, columns=mirna.columns)\n",
    "        mirna.index = mirna_index\n",
    "\n",
    "        mt = pd.DataFrame(mt_join_gene_filter_impute, columns=mt_join_gene_filter.columns)\n",
    "        mt.index = mt_join_gene_filter_index\n",
    "    else :\n",
    "        # missing impute\n",
    "        imputer = KNNImputer(n_neighbors=10)\n",
    "        rna_impute = imputer.fit_transform(rna)\n",
    "        mirna_impute = imputer.fit_transform(mirna)\n",
    "        mt_join_gene_filter_impute = imputer.fit_transform(mt_join_gene_filtere)\n",
    "\n",
    "        # Pandas\n",
    "        rna = pd.DataFrame(rna_impute, columns=rna.columns)\n",
    "        rna.index = rna_index\n",
    "\n",
    "        mirna = pd.DataFrame(mirna_impute, columns=mirna.columns)\n",
    "        mirna.index = mirna_index\n",
    "\n",
    "        mt = pd.DataFrame(mt_join_gene_filter_impute, columns=mt_join_gene_filter.columns)\n",
    "        mt.index = mt_join_gene_filter_index\n",
    "    \n",
    "    # omics join group\n",
    "    group_df = pd.read_csv(group_path, sep = \"\\t\", index_col=0)\n",
    "    \n",
    "    omics = [rna, mirna, mt]\n",
    "    omics = list(map(lambda df : pd.merge(left=group_df, right=df, how=\"inner\", \n",
    "                                          left_index=True, right_index=True), omics))\n",
    "    \n",
    "    # list to dict\n",
    "    zipbObj = zip(data_type, omics)\n",
    "    omics = dict(zipbObj)\n",
    "    \n",
    "    return omics\n",
    "\n",
    "def select_top_n(X, y, cv, method_, univariate):    \n",
    "    # Pipeline\n",
    "    model = svm.SVC(kernel='linear')\n",
    "    \n",
    "    if univariate:\n",
    "        # grid search\n",
    "        fs = SelectKBest(score_func=method_)\n",
    "        pipeline = Pipeline(steps=[('method',fs), ('lr', model)])\n",
    "        grid = dict()\n",
    "        \n",
    "        if len(X.columns) < 1000 :\n",
    "            grid['method__k'] = list(range(100, len(X.columns), 100))\n",
    "        else:\n",
    "            grid['method__k'] = list(range(100, 1100, 100))\n",
    "    else :\n",
    "        # grid search\n",
    "        fs = SelectFromModel(estimator=method_)\n",
    "        pipeline = Pipeline(steps=[('method',fs), ('lr', model)])\n",
    "        grid = dict()\n",
    "        \n",
    "        if len(X.columns) < 1000 :\n",
    "            grid['method__max_features'] = list(range(100, len(X.columns), 100))\n",
    "        else:\n",
    "            grid['method__max_features'] = list(range(100, 1100, 100))\n",
    "\n",
    "    # define the grid search\n",
    "    search = GridSearchCV(pipeline, grid, scoring='accuracy', n_jobs=-1, cv=cv)\n",
    "    results = search.fit(X, y)\n",
    "    \n",
    "    return results\n",
    "\n",
    "def select_features(X, y, N, method):   \n",
    "    fs = SelectKBest(score_func=method, k= N)\n",
    "    fs.fit(X, y)\n",
    "    \n",
    "    # transform train input data\n",
    "    X_fs = fs.transform(X)\n",
    "    \n",
    "    return X_fs, fs\n",
    "\n",
    "def select_features_ml(X, y, N, method):   \n",
    "    fs = SelectFromModel(estimator=method, max_features=N)\n",
    "    fs.fit(X, y)\n",
    "    \n",
    "    # transform train input data\n",
    "    X_fs = fs.transform(X)\n",
    "    \n",
    "    return X_fs, fs\n",
    "\n",
    "def Feature_selection(group, feature, method, univariate):\n",
    "    '''\n",
    "        @group - target variable\n",
    "        @feautre - feature\n",
    "        @method - annovar -> f_classif / mutual -> mutual_info_classif / rf -> RandomForest / xg -> XGboost / \n",
    "    '''\n",
    "    if univariate:\n",
    "        if method == \"anova\":\n",
    "            method_ = f_classif\n",
    "        else : # mutal\n",
    "            method_ = mutual_info_classif\n",
    "\n",
    "        # Select Top - N using cv(cross-validation)\n",
    "        cv = RepeatedStratifiedKFold(n_splits=10, n_repeats=2, random_state=331)\n",
    "\n",
    "        # grid search\n",
    "        gird_result = select_top_n(feature, group, cv, method_, univariate=True)\n",
    "\n",
    "        # Best Top-K\n",
    "        N = gird_result.best_params_['method__k']\n",
    "        B = gird_result.best_score_*100\n",
    "\n",
    "        print('Best Top-K: %s' % N)\n",
    "        print('Accuracy: %.2f' % B)\n",
    "\n",
    "        #Select N feature\n",
    "        #feature selection : f_classif, mutual_info_classif\n",
    "        feature_fs, fs = select_features(feature, group, N, method_)\n",
    "\n",
    "        # result DF\n",
    "        result_df = pd.DataFrame(fs.scores_, columns=[method])\n",
    "        result_df['feature'] = fs.feature_names_in_\n",
    "        result_df = result_df.sort_values(by = [method], axis=0, ascending=False).iloc[1:N,:]\n",
    "\n",
    "        return result_df.reset_index(drop=True), N, B\n",
    "    \n",
    "    else :\n",
    "        if method == \"rf\":\n",
    "            if len(feature.columns) > 10000:\n",
    "                method_ = RandomForestClassifier(n_estimators = 500)\n",
    "            else:\n",
    "                method_ = RandomForestClassifier()\n",
    "        else : \n",
    "            method_ = XGBClassifier()\n",
    "\n",
    "        # Select Top - N using cv(cross-validation)\n",
    "        cv = RepeatedStratifiedKFold(n_splits=5, n_repeats=2, random_state=331)\n",
    "\n",
    "        # grid search\n",
    "        gird_result = select_top_n(feature, group, cv, method_, univariate=False)\n",
    "        \n",
    "        # Best Top-K\n",
    "        N = gird_result.best_params_['method__max_features']\n",
    "        B = gird_result.best_score_*100\n",
    "        \n",
    "        print('Best Top-K: %s' % N)\n",
    "        print('Accuracy: %.2f' % B)\n",
    "\n",
    "        # Select N feature\n",
    "        feature_fs, fs = select_features_ml(X, y, N, method_)\n",
    "\n",
    "        # result DF\n",
    "        result_df = pd.DataFrame(fs.get_feature_names_out(), columns=[method])\n",
    "\n",
    "        # feature DF, ACC, \n",
    "        return result_df.reset_index(drop=True), N, B"
   ]
  },
  {
   "cell_type": "markdown",
   "id": "4250f18a-b0e2-41cb-adcf-747d65735643",
   "metadata": {},
   "source": [
    "## **Preprocessing**"
   ]
  },
  {
   "cell_type": "markdown",
   "id": "1f24e8ea-7352-466c-b386-1d9660d7a535",
   "metadata": {},
   "source": [
    "* **Data-Load**"
   ]
  },
  {
   "cell_type": "code",
   "execution_count": 5,
   "id": "c057f640-c1d9-4e99-8a17-7f226ec7e592",
   "metadata": {},
   "outputs": [
    {
     "data": {
      "image/png": "[encoded data removed]",
      "text/plain": [
       "<Figure size 432x288 with 1 Axes>"
      ]
     },
     "metadata": {},
     "output_type": "display_data"
    }
   ],
   "source": [
    "omics = load_tcga_dataset(pkl_path=PKL_file_path, raw_path=RAW_file_path, cancer_type=CANCER_TYPE, norm=True)"
   ]
  },
  {
   "cell_type": "code",
   "execution_count": 6,
   "id": "8f19d88c-19dd-40f3-81b4-851c47e7eaf1",
   "metadata": {},
   "outputs": [],
   "source": [
    "X_train, X_test = train_test_split(omics, test_size = .2, random_state = 21, shuffle=True)"
   ]
  },
  {
   "cell_type": "markdown",
   "id": "88473f47-ded2-482e-92d4-4fefaccd663f",
   "metadata": {
    "tags": []
   },
   "source": [
    "## **Auto-Encoder**"
   ]
  },
  {
   "cell_type": "markdown",
   "id": "d0f89011-3546-43cc-accf-b7f954c6b3fd",
   "metadata": {},
   "source": [
    "* **end-to-end**"
   ]
  },
  {
   "cell_type": "code",
   "execution_count": 7,
   "id": "4fffe928-94f7-4874-bef6-107052b2909f",
   "metadata": {
    "tags": []
   },
   "outputs": [
    {
     "name": "stderr",
     "output_type": "stream",
     "text": [
      "2022-01-18 07:16:58.759094: I tensorflow/core/platform/cpu_feature_guard.cc:142] This TensorFlow binary is optimized with oneAPI Deep Neural Network Library (oneDNN) to use the following CPU instructions in performance-critical operations:  SSE4.1 SSE4.2 AVX\n",
      "To enable them in other operations, rebuild TensorFlow with the appropriate compiler flags.\n",
      "2022-01-18 07:16:58.760984: I tensorflow/compiler/jit/xla_gpu_device.cc:99] Not creating XLA devices, tf_xla_enable_xla_devices not set\n",
      "2022-01-18 07:16:58.763742: I tensorflow/core/common_runtime/gpu/gpu_device.cc:1720] Found device 0 with properties: \n",
      "pciBusID: 0000:83:00.0 name: GeForce RTX 2080 Ti computeCapability: 7.5\n",
      "coreClock: 1.665GHz coreCount: 68 deviceMemorySize: 10.76GiB deviceMemoryBandwidth: 573.69GiB/s\n",
      "2022-01-18 07:16:58.763921: I tensorflow/stream_executor/platform/default/dso_loader.cc:49] Successfully opened dynamic library libcudart.so.10.1\n",
      "2022-01-18 07:16:58.764096: I tensorflow/stream_executor/platform/default/dso_loader.cc:49] Successfully opened dynamic library libcublas.so.10\n",
      "2022-01-18 07:16:58.764191: I tensorflow/stream_executor/platform/default/dso_loader.cc:49] Successfully opened dynamic library libcublasLt.so.10\n",
      "2022-01-18 07:16:58.764306: I tensorflow/stream_executor/platform/default/dso_loader.cc:49] Successfully opened dynamic library libcufft.so.10\n",
      "2022-01-18 07:16:58.764401: I tensorflow/stream_executor/platform/default/dso_loader.cc:49] Successfully opened dynamic library libcurand.so.10\n",
      "2022-01-18 07:16:58.764477: I tensorflow/stream_executor/platform/default/dso_loader.cc:49] Successfully opened dynamic library libcusolver.so.10\n",
      "2022-01-18 07:16:58.764561: I tensorflow/stream_executor/platform/default/dso_loader.cc:49] Successfully opened dynamic library libcusparse.so.10\n",
      "2022-01-18 07:16:58.764658: I tensorflow/stream_executor/platform/default/dso_loader.cc:49] Successfully opened dynamic library libcudnn.so.7\n",
      "2022-01-18 07:16:58.768097: I tensorflow/core/common_runtime/gpu/gpu_device.cc:1862] Adding visible gpu devices: 0\n",
      "2022-01-18 07:16:58.768210: I tensorflow/stream_executor/platform/default/dso_loader.cc:49] Successfully opened dynamic library libcudart.so.10.1\n",
      "2022-01-18 07:16:59.735474: I tensorflow/core/common_runtime/gpu/gpu_device.cc:1261] Device interconnect StreamExecutor with strength 1 edge matrix:\n",
      "2022-01-18 07:16:59.735507: I tensorflow/core/common_runtime/gpu/gpu_device.cc:1267]      0 \n",
      "2022-01-18 07:16:59.735516: I tensorflow/core/common_runtime/gpu/gpu_device.cc:1280] 0:   N \n",
      "2022-01-18 07:16:59.738252: I tensorflow/core/common_runtime/gpu/gpu_device.cc:1406] Created TensorFlow device (/job:localhost/replica:0/task:0/device:GPU:0 with 10027 MB memory) -> physical GPU (device: 0, name: GeForce RTX 2080 Ti, pci bus id: 0000:83:00.0, compute capability: 7.5)\n"
     ]
    }
   ],
   "source": [
    "tf.keras.backend.clear_session()\n",
    "\n",
    "inputs_dim = X_train.shape[1]\n",
    "encoder = Input(shape = (inputs_dim, ))\n",
    "e = Dense(1000, activation = \"relu\")(encoder)\n",
    "# e = Dense(256, activation = \"relu\")(e)\n",
    "e = Dense(500, activation = \"relu\")(e)\n",
    "\n",
    "## bottleneck layer\n",
    "n_bottleneck = 100\n",
    "\n",
    "## defining it with a name to extract it later\n",
    "bottleneck_layer = \"bottleneck_layer\"\n",
    "\n",
    "# can also be defined with an activation function, relu for instance\n",
    "bottleneck = Dense(n_bottleneck, name = bottleneck_layer)(e)\n",
    "\n",
    "## define the decoder (in reverse)\n",
    "decoder = Dense(500, activation = \"relu\")(bottleneck)\n",
    "# decoder = Dense(256, activation = \"relu\")(decoder)\n",
    "decoder = Dense(1000, activation = \"relu\")(decoder)\n",
    "\n",
    "## output layer\n",
    "output = Dense(inputs_dim)(decoder)\n",
    "\n",
    "## model\n",
    "model = Model(inputs = encoder, outputs = output)\n",
    "# model.summary()"
   ]
  },
  {
   "cell_type": "markdown",
   "id": "751593ba-852f-4e46-bfd6-a0735864f31d",
   "metadata": {},
   "source": [
    "* **Encoder for Latent Vector**"
   ]
  },
  {
   "cell_type": "code",
   "execution_count": 8,
   "id": "1f573ae6-6422-47b1-aab5-84f63383d8b0",
   "metadata": {},
   "outputs": [],
   "source": [
    "encoder = Model(inputs = model.input, outputs = bottleneck)\n",
    "# encoder.summary()"
   ]
  },
  {
   "cell_type": "markdown",
   "id": "5f89deba-292c-45a8-add5-f483dc5aba37",
   "metadata": {},
   "source": [
    "* **Model compile & Fit**"
   ]
  },
  {
   "cell_type": "code",
   "execution_count": 9,
   "id": "cb624287-d6f2-4f6d-b4d2-60444a69578d",
   "metadata": {
    "tags": []
   },
   "outputs": [
    {
     "name": "stderr",
     "output_type": "stream",
     "text": [
      "2022-01-18 07:17:00.529367: I tensorflow/core/profiler/lib/profiler_session.cc:136] Profiler session initializing.\n",
      "2022-01-18 07:17:00.529405: I tensorflow/core/profiler/lib/profiler_session.cc:155] Profiler session started.\n",
      "2022-01-18 07:17:00.529461: I tensorflow/core/profiler/internal/gpu/cupti_tracer.cc:1365] Profiler found 1 GPUs\n",
      "2022-01-18 07:17:00.531337: I tensorflow/stream_executor/platform/default/dso_loader.cc:49] Successfully opened dynamic library libcupti.so.10.1\n",
      "2022-01-18 07:17:00.631984: E tensorflow/core/profiler/internal/gpu/cupti_tracer.cc:1415] function cupti_interface_->Subscribe( &subscriber_, (CUpti_CallbackFunc)ApiCallback, this)failed with error CUPTI_ERROR_INSUFFICIENT_PRIVILEGES\n",
      "2022-01-18 07:17:00.633360: I tensorflow/core/profiler/lib/profiler_session.cc:172] Profiler session tear down.\n",
      "2022-01-18 07:17:01.436271: I tensorflow/compiler/mlir/mlir_graph_optimization_pass.cc:116] None of the MLIR optimization passes are enabled (registered 2)\n",
      "2022-01-18 07:17:01.456261: I tensorflow/core/platform/profile_utils/cpu_utils.cc:112] CPU Frequency: 2600085000 Hz\n",
      "2022-01-18 07:17:01.982216: I tensorflow/stream_executor/platform/default/dso_loader.cc:49] Successfully opened dynamic library libcublas.so.10\n",
      "2022-01-18 07:17:02.510716: I tensorflow/core/profiler/lib/profiler_session.cc:136] Profiler session initializing.\n",
      "2022-01-18 07:17:02.510763: I tensorflow/core/profiler/lib/profiler_session.cc:155] Profiler session started.\n",
      "2022-01-18 07:17:02.511772: E tensorflow/core/profiler/internal/gpu/cupti_tracer.cc:1415] function cupti_interface_->Subscribe( &subscriber_, (CUpti_CallbackFunc)ApiCallback, this)failed with error CUPTI_ERROR_INSUFFICIENT_PRIVILEGES\n",
      "2022-01-18 07:17:02.598331: I tensorflow/core/profiler/lib/profiler_session.cc:71] Profiler session collecting data.\n",
      "2022-01-18 07:17:02.599402: I tensorflow/core/profiler/internal/gpu/cupti_collector.cc:228]  GpuTracer has collected 0 callback api events and 0 activity events. \n",
      "2022-01-18 07:17:02.600202: I tensorflow/core/profiler/lib/profiler_session.cc:172] Profiler session tear down.\n",
      "2022-01-18 07:17:02.601460: I tensorflow/core/profiler/rpc/client/save_profile.cc:137] Creating directory: /home/km/gitworking/Multi-omics-intergration/log/20220118-071700/train/plugins/profile/2022_01_18_07_17_02\n",
      "2022-01-18 07:17:02.602025: I tensorflow/core/profiler/rpc/client/save_profile.cc:143] Dumped gzipped tool data for trace.json.gz to /home/km/gitworking/Multi-omics-intergration/log/20220118-071700/train/plugins/profile/2022_01_18_07_17_02/dbdock.trace.json.gz\n",
      "2022-01-18 07:17:02.606566: I tensorflow/core/profiler/rpc/client/save_profile.cc:137] Creating directory: /home/km/gitworking/Multi-omics-intergration/log/20220118-071700/train/plugins/profile/2022_01_18_07_17_02\n",
      "2022-01-18 07:17:02.607397: I tensorflow/core/profiler/rpc/client/save_profile.cc:143] Dumped gzipped tool data for memory_profile.json.gz to /home/km/gitworking/Multi-omics-intergration/log/20220118-071700/train/plugins/profile/2022_01_18_07_17_02/dbdock.memory_profile.json.gz\n",
      "2022-01-18 07:17:02.607659: I tensorflow/core/profiler/rpc/client/capture_profile.cc:251] Creating directory: /home/km/gitworking/Multi-omics-intergration/log/20220118-071700/train/plugins/profile/2022_01_18_07_17_02Dumped tool data for xplane.pb to /home/km/gitworking/Multi-omics-intergration/log/20220118-071700/train/plugins/profile/2022_01_18_07_17_02/dbdock.xplane.pb\n",
      "Dumped tool data for overview_page.pb to /home/km/gitworking/Multi-omics-intergration/log/20220118-071700/train/plugins/profile/2022_01_18_07_17_02/dbdock.overview_page.pb\n",
      "Dumped tool data for input_pipeline.pb to /home/km/gitworking/Multi-omics-intergration/log/20220118-071700/train/plugins/profile/2022_01_18_07_17_02/dbdock.input_pipeline.pb\n",
      "Dumped tool data for tensorflow_stats.pb to /home/km/gitworking/Multi-omics-intergration/log/20220118-071700/train/plugins/profile/2022_01_18_07_17_02/dbdock.tensorflow_stats.pb\n",
      "Dumped tool data for kernel_stats.pb to /home/km/gitworking/Multi-omics-intergration/log/20220118-071700/train/plugins/profile/2022_01_18_07_17_02/dbdock.kernel_stats.pb\n",
      "\n",
      "2022-01-18 07:17:12.946500: W tensorflow/python/util/util.cc:348] Sets are not currently considered sequences, but this may change in the future, so consider avoiding using them.\n"
     ]
    },
    {
     "name": "stdout",
     "output_type": "stream",
     "text": [
      "INFO:tensorflow:Assets written to: /home/km/gitworking/Multi-omics-intergration/models/AE_LIHC_20220118-071712/assets\n"
     ]
    }
   ],
   "source": [
    "# callback function\n",
    "# es = EarlyStopping(monitor='val_loss', mode='min', verbose=1, patience=3)\n",
    "TB_log_dir = make_Tensorboard_dir(TENSORBOARD_PATH)\n",
    "TensorB = tf.keras.callbacks.TensorBoard(log_dir = TB_log_dir)\n",
    "\n",
    "# compile & fit\n",
    "model.compile(loss = \"mean_squared_error\",\n",
    "              optimizer = \"adam\")\n",
    "history = model.fit(\n",
    "    X_train,\n",
    "    X_train,\n",
    "    batch_size = 128,\n",
    "    epochs = 30,\n",
    "    verbose = 0,\n",
    "    validation_data = (X_test, X_test),\n",
    "    callbacks=[TensorB]\n",
    ")\n",
    "file_name = datetime.datetime.now().strftime(\"%Y%m%d-%H%M%S\") \n",
    "model.save(MODEL_path + \"AE_\" + CANCER_TYPE + \"_\" + file_name)"
   ]
  },
  {
   "cell_type": "markdown",
   "id": "0ac05041-35ee-4684-ac9d-9191e04c8cbe",
   "metadata": {
    "tags": []
   },
   "source": [
    "## **Feature Selection**"
   ]
  },
  {
   "cell_type": "code",
   "execution_count": 10,
   "id": "93b4819d-c18c-4ffc-b546-b9e044acd646",
   "metadata": {
    "tags": []
   },
   "outputs": [],
   "source": [
    "omic_encoded = pd.DataFrame(encoder.predict(omics))\n",
    "column_name = [\"Feature\" + str(index) for index in range(1, len(omic_encoded.columns) + 1)]\n",
    "omic_encoded.columns = column_name\n",
    "\n",
    "omic_encoded['sample'] = omics.index.to_list()\n",
    "omic_encoded.set_index('sample', inplace=True)"
   ]
  },
  {
   "cell_type": "markdown",
   "id": "add6a4a8-cccc-4e41-b513-19ee95a8d07f",
   "metadata": {},
   "source": [
    "* **sample phenotype**"
   ]
  },
  {
   "cell_type": "code",
   "execution_count": 42,
   "id": "fc6ca37d-2523-4a0b-8d89-0a45074a5961",
   "metadata": {},
   "outputs": [],
   "source": [
    "pheno = pd.read_csv(\"https://tcga-pancan-atlas-hub.s3.us-east-1.amazonaws.com/download/Survival_SupplementalTable_S1_20171025_xena_sp\", \n",
    "                    sep = \"\\t\", usecols=['sample', 'OS', 'OS.time', 'DSS', 'DSS.time', 'DFI', 'DFI.time', 'PFI', 'PFI.time'])\n",
    "\n",
    "# pd.merge(left, right, how, on, left_on, right_on, left_index, right_index)\n",
    "omic_encoded_pheno = pd.merge(left=omic_encoded, right=pheno, how=\"inner\", on=\"sample\")\n",
    "omic_encoded_pheno.set_index('sample', inplace=True)"
   ]
  },
  {
   "cell_type": "markdown",
   "id": "2b9c8d9f-0ee0-4102-a812-6a670ba4fe33",
   "metadata": {},
   "source": [
    "* **Invoke R - log rank test**"
   ]
  },
  {
   "cell_type": "code",
   "execution_count": 13,
   "id": "ff913b8f-bb61-4342-bab5-b5661b3c38e7",
   "metadata": {},
   "outputs": [
    {
     "name": "stderr",
     "output_type": "stream",
     "text": [
      "R[write to console]: ── Attaching packages ─────────────────────────────────────── tidyverse 1.3.1 ──\n",
      "\n",
      "R[write to console]: ✔ ggplot2 3.3.5     ✔ purrr   0.3.4\n",
      "✔ tibble  3.1.6     ✔ dplyr   1.0.7\n",
      "✔ tidyr   1.1.4     ✔ stringr 1.4.0\n",
      "✔ readr   2.1.1     ✔ forcats 0.5.1\n",
      "\n",
      "R[write to console]: ── Conflicts ────────────────────────────────────────── tidyverse_conflicts() ──\n",
      "✖ dplyr::filter() masks stats::filter()\n",
      "✖ dplyr::lag()    masks stats::lag()\n",
      "\n",
      "R[write to console]: Loading required package: ggpubr\n",
      "\n",
      "R[write to console]: \n",
      "Attaching package: ‘survminer’\n",
      "\n",
      "\n",
      "R[write to console]: The following object is masked from ‘package:survival’:\n",
      "\n",
      "    myeloma\n",
      "\n",
      "\n"
     ]
    }
   ],
   "source": [
    "# r invoke log rank test\n",
    "omic_encoded_fc = omic_encoded[log_test(omic_encoded_pheno)]"
   ]
  },
  {
   "cell_type": "markdown",
   "id": "82b60a94-d216-4bee-8d88-583bfb40b434",
   "metadata": {},
   "source": [
    "## **Sample Clustering**"
   ]
  },
  {
   "cell_type": "code",
   "execution_count": 36,
   "id": "44610489-0b52-4d4d-aef0-52aeee79a49b",
   "metadata": {},
   "outputs": [
    {
     "name": "stdout",
     "output_type": "stream",
     "text": [
      "******************************************************************* \n",
      "* Among all indices:                                                \n",
      "* 8 proposed 2 as the best number of clusters \n",
      "* 9 proposed 3 as the best number of clusters \n",
      "* 1 proposed 4 as the best number of clusters \n",
      "* 1 proposed 5 as the best number of clusters \n",
      "* 1 proposed 6 as the best number of clusters \n",
      "* 3 proposed 9 as the best number of clusters \n",
      "\n",
      "                   ***** Conclusion *****                            \n",
      " \n",
      "* According to the majority rule, the best number of clusters is  3 \n",
      " \n",
      " \n",
      "******************************************************************* \n"
     ]
    }
   ],
   "source": [
    "# K-Mean Clustering\n",
    "# invoke r\n",
    "nb_result = nb_cluster(omic_encoded_fc)\n",
    "nb_result_K = 2 if int(np.mean(nb_result.iloc[0, :].to_list())) == 3 else int(np.mean(nb_result.iloc[0, :].to_list()))\n",
    "\n",
    "# k-mean clustering\n",
    "kmeans = KMeans(n_clusters = nb_result_K, random_state = 31, max_iter = 1000).fit_predict(omic_encoded_fc)\n",
    "\n",
    "ae_groups = pd.DataFrame(kmeans, columns = ['group'])\n",
    "ae_groups['sample'] = omic_encoded_fc.index.to_list()\n",
    "ae_groups.set_index('sample', inplace=True)\n",
    "ae_groups.to_csv(GROUP_PHTH + CANCER_TYPE + \"_GROUP_\" + file_name + \".txt\", sep=\"\\t\")"
   ]
  },
  {
   "cell_type": "markdown",
   "id": "1bf835c0-8fa2-49e6-9955-8f4391c6b095",
   "metadata": {},
   "source": [
    "* **Survival Analysis**"
   ]
  },
  {
   "cell_type": "code",
   "execution_count": 43,
   "id": "dc2ea608-5c3f-4289-a78b-c42ec208e559",
   "metadata": {},
   "outputs": [],
   "source": [
    "pheno.set_index('sample', inplace=True)\n",
    "ae_groups_pheno = pd.merge(left=ae_groups, right=pheno, how=\"inner\", left_index=True, right_index=True)\n",
    "\n",
    "# invoke r\n",
    "survfit(ae_groups_pheno, file_name, PNG_PATH)"
   ]
  },
  {
   "cell_type": "markdown",
   "id": "88f2b0f9-2d49-453e-bbec-6b23ee2f82a2",
   "metadata": {},
   "source": [
    "## **Select top N Feature**"
   ]
  },
  {
   "cell_type": "markdown",
   "id": "1fa92aa1-b56d-4712-9553-1c618b12b521",
   "metadata": {},
   "source": [
    "* **Preprocessed Data Load**"
   ]
  },
  {
   "cell_type": "code",
   "execution_count": 109,
   "id": "e1f66bfa-90a8-46b5-93c9-3eb85ea80db6",
   "metadata": {},
   "outputs": [],
   "source": [
    "data_type = [\"rna\", \"mirna\", \"mt\"]\n",
    "feature_result = dict()\n",
    "\n",
    "# load preprocess data\n",
    "omics = load_preprocess_tcga_dataset(pkl_path=PKL_file_path, raw_path=RAW_file_path, \n",
    "                                     cancer_type=CANCER_TYPE, norm=True, \n",
    "                                     group_path=GROUP_PHTH + CANCER_TYPE + \"_GROUP_\" + file_name + \".txt\")"
   ]
  },
  {
   "cell_type": "markdown",
   "id": "bd43d548-e7f9-4c97-8343-9ae613f57256",
   "metadata": {},
   "source": [
    "* **Select N Feature**"
   ]
  },
  {
   "cell_type": "code",
   "execution_count": null,
   "id": "16fed638-a798-4ca6-abb9-8bbf568f977b",
   "metadata": {},
   "outputs": [
    {
     "name": "stdout",
     "output_type": "stream",
     "text": [
      "rna\n",
      "Best Top-K: 1000\n",
      "Accuracy: 91.15\n"
     ]
    }
   ],
   "source": [
    "for d_type in data_type:\n",
    "    print(d_type)\n",
    "    \n",
    "    tmp = list()\n",
    "    df = omics[d_type]\n",
    "    y = df.pop('group')\n",
    "    X = df\n",
    "    \n",
    "    # anova\n",
    "    tmp.append(Feature_selection(y, X, \"anova\", univariate=True))\n",
    "    \n",
    "    # randomforest\n",
    "    tmp.append(Feature_selection(y, X, \"rf\", univariate=False))\n",
    "        \n",
    "    feature_result[d_type] = tmp"
   ]
  },
  {
   "cell_type": "code",
   "execution_count": null,
   "id": "be14c094-7e71-4b99-a098-d9f4788ac651",
   "metadata": {},
   "outputs": [],
   "source": []
  },
  {
   "cell_type": "code",
   "execution_count": null,
   "id": "b1696438-7e28-46c3-8ff4-b97e1e7357a9",
   "metadata": {},
   "outputs": [],
   "source": []
  },
  {
   "cell_type": "markdown",
   "id": "ef7aee30-796c-4a3e-8da7-7d8ab5675a46",
   "metadata": {},
   "source": [
    "### **Machine & Stochastic Based Feature selection method**"
   ]
  },
  {
   "cell_type": "code",
   "execution_count": 56,
   "id": "be4c5bce-4da2-4b90-87bf-d51a8281a0a3",
   "metadata": {},
   "outputs": [
    {
     "name": "stdout",
     "output_type": "stream",
     "text": [
      "Best Top-K: 400\n",
      "Accuracy: 87.68\n",
      "Best Top-K: 200\n",
      "Accuracy: 86.31\n"
     ]
    }
   ],
   "source": [
    "# Select Feature - Anovar\n",
    "anovar_feature = Feature_selection(y, X, \"anova\", univariate=True)\n",
    "rf_feature = Feature_selection(y, X, \"rf\", univariate=False)\n",
    "# mutual_feature = Feature_selection(y, X, \"mutual\", univariate=True)\n",
    "# xg_feature = Feature_selection(y, X, \"xg\", univariate=False)"
   ]
  },
  {
   "cell_type": "code",
   "execution_count": null,
   "id": "6d5488e7-524e-485d-9f99-7f9b250e00d8",
   "metadata": {},
   "outputs": [],
   "source": []
  },
  {
   "cell_type": "code",
   "execution_count": null,
   "id": "22eeb85f-6273-452e-bc63-228dfc504c9f",
   "metadata": {},
   "outputs": [],
   "source": []
  },
  {
   "cell_type": "markdown",
   "id": "96f78180-2b10-466b-8c72-202879f2039b",
   "metadata": {},
   "source": [
    "* **Feature intersection**"
   ]
  },
  {
   "cell_type": "code",
   "execution_count": null,
   "id": "6418dad5-b535-48c0-938e-ba2d85b3be9f",
   "metadata": {},
   "outputs": [],
   "source": [
    "intersect_feature = set(anovar_feature[0].iloc[:, 1]) & set(rf_feature[0].iloc[:, 0])"
   ]
  },
  {
   "cell_type": "code",
   "execution_count": null,
   "id": "8f164d7a-37c6-4697-9cc1-dc94aec0ac5a",
   "metadata": {},
   "outputs": [],
   "source": []
  }
 ],
 "metadata": {
  "kernelspec": {
   "display_name": "multiomic",
   "language": "python",
   "name": "multiomics"
  },
  "language_info": {
   "codemirror_mode": {
    "name": "ipython",
    "version": 3
   },
   "file_extension": ".py",
   "mimetype": "text/x-python",
   "name": "python",
   "nbconvert_exporter": "python",
   "pygments_lexer": "ipython3",
   "version": "3.7.12"
  }
 },
 "nbformat": 4,
 "nbformat_minor": 5
}
