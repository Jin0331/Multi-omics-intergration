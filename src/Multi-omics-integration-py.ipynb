{
 "cells": [
  {
   "cell_type": "markdown",
   "metadata": {},
   "source": [
    "### **GPU cehck**"
   ]
  },
  {
   "cell_type": "code",
   "execution_count": 21,
   "metadata": {},
   "outputs": [
    {
     "data": {
      "text/plain": [
       "OrderedDict([('cpu_compiler',\n",
       "              '/home/builder/ktietz/aggregate/tensorflow_recipes/ci_cpu/tensorflow-base_1614534878484/_build_env/bin/x86_64-conda_cos6-linux-gnu-gcc'),\n",
       "             ('cuda_compute_capabilities',\n",
       "              ['compute_35',\n",
       "               'compute_52',\n",
       "               'compute_60',\n",
       "               'compute_61',\n",
       "               'compute_70',\n",
       "               'compute_75']),\n",
       "             ('cuda_version', '10.1'),\n",
       "             ('cudnn_version', '7'),\n",
       "             ('is_cuda_build', True),\n",
       "             ('is_rocm_build', False)])"
      ]
     },
     "execution_count": 21,
     "metadata": {},
     "output_type": "execute_result"
    }
   ],
   "source": [
    "import tensorflow as tf\n",
    "import tensorflow.keras.backend as K\n",
    "tf.test.is_built_with_cuda()\n",
    "tf.config.list_physical_devices('GPU')\n",
    "tf.sysconfig.get_build_info()"
   ]
  },
  {
   "cell_type": "markdown",
   "metadata": {},
   "source": [
    "## **Module**"
   ]
  },
  {
   "cell_type": "code",
   "execution_count": 22,
   "metadata": {},
   "outputs": [
    {
     "name": "stdout",
     "output_type": "stream",
     "text": [
      "\u001b[1mrpy2 version:\u001b[0m\n",
      "3.4.5\n",
      "\u001b[1mPython version:\u001b[0m\n",
      "3.8.8 (default, Apr 13 2021, 19:58:26) \n",
      "[GCC 7.3.0]\n",
      "\u001b[1mLooking for R's HOME:\u001b[0m\n",
      "    Environment variable R_HOME: /home/km/anaconda3/envs/multiomics/lib/R\n",
      "    Calling `R RHOME`: /usr/lib/R\n",
      "    Environment variable R_LIBS_USER: ~/R/x86_64-conda-linux-gnu-library/4.1\n",
      "    Warning: The environment variable R_HOME differs from the default R in the PATH.\n",
      "\u001b[1mR's additions to LD_LIBRARY_PATH:\u001b[0m\n",
      "\n",
      "\u001b[1mR version:\u001b[0m\n",
      "    In the PATH: R version 4.0.5 (2021-03-31) -- \"Shake and Throw\"\n",
      "    Loading R library from rpy2: OK\n",
      "\u001b[1mAdditional directories to load R packages from:\u001b[0m\n",
      "None\n",
      "\u001b[1mC extension compilation:\u001b[0m\n",
      "  include:\n",
      "  ['/home/km/anaconda3/envs/multiomics/lib/R/include']\n",
      "  libraries:\n",
      "  ['R', 'pcre2-8', 'lzma', 'bz2', 'z', 'rt', 'dl', 'm', 'iconv', 'icuuc', 'icui18n']\n",
      "  library_dirs:\n",
      "  ['/home/km/anaconda3/envs/multiomics/lib', '/home/km/anaconda3/envs/multiomics/lib/R/lib', '/home/km/anaconda3/envs/multiomics/lib']\n",
      "  extra_compile_args:\n",
      "  []\n",
      "  extra_link_args:\n",
      "  ['-Wl,--export-dynamic', '-fopenmp', '-Wl,-O2', '-Wl,--sort-common', '-Wl,--as-needed', '-Wl,-z,relro', '-Wl,-z,now', '-Wl,--disable-new-dtags', '-Wl,--gc-sections', '-Wl,-rpath,/home/km/anaconda3/envs/multiomics/lib', '-Wl,-rpath-link,/home/km/anaconda3/envs/multiomics/lib']\n"
     ]
    }
   ],
   "source": [
    "from datetime import datetime\n",
    "import os\n",
    "import re\n",
    "import gc\n",
    "import pickle\n",
    "import datetime\n",
    "\n",
    "import pandas as pd\n",
    "import numpy as np\n",
    "import seaborn as sns\n",
    "from functools import reduce\n",
    "\n",
    "from sklearn.manifold import Isomap\n",
    "from sklearn.decomposition import PCA\n",
    "from sklearn.decomposition import KernelPCA\n",
    "from sklearn.cluster import KMeans\n",
    "from sklearn.impute import KNNImputer\n",
    "from sklearn.manifold import TSNE\n",
    "from sklearn.preprocessing import MinMaxScaler\n",
    "from sklearn.preprocessing import StandardScaler\n",
    "from sklearn.model_selection import train_test_split\n",
    "from sklearn.cluster import DBSCAN\n",
    "from sklearn.ensemble import RandomForestClassifier\n",
    "from sklearn import metrics\n",
    "\n",
    "import matplotlib.pyplot as plt\n",
    "from matplotlib_venn import venn3_unweighted\n",
    "import umap.umap_ as umap\n",
    "\n",
    "# keras\n",
    "from tensorflow.keras.models import Model\n",
    "from tensorflow.keras.layers import Dense, Input\n",
    "from tensorflow.keras.preprocessing import sequence\n",
    "from tensorflow.keras.callbacks import EarlyStopping\n",
    "\n",
    "# rpy2\n",
    "os.environ['R_HOME'] = '/home/km/anaconda3/envs/multiomics/lib/R' # env R invoke\n",
    "import rpy2.robjects as ro\n",
    "from rpy2.robjects.packages import importr\n",
    "from rpy2.robjects import pandas2ri\n",
    "\n",
    "from rpy2.robjects.conversion import localconverter\n",
    "\n",
    "!python -m rpy2.situation"
   ]
  },
  {
   "cell_type": "markdown",
   "metadata": {},
   "source": [
    "## **UDF**"
   ]
  },
  {
   "cell_type": "code",
   "execution_count": 23,
   "metadata": {},
   "outputs": [],
   "source": [
    "def cancer_select(cols, cancer_type):\n",
    "    # phenotype\n",
    "    phe1 = pd.read_csv(\"https://gdc-hub.s3.us-east-1.amazonaws.com/download/GDC-PANCAN.basic_phenotype.tsv.gz\", sep=\"\\t\")\n",
    "    phe1 = phe1.loc[phe1.program == \"TCGA\", :].loc[:, ['sample', 'sample_type', 'project_id']].drop_duplicates(['sample'])\n",
    "    phe1['sample'] =  phe1.apply(lambda x : x['sample'][:-1], axis=1)\n",
    "    phe2 = pd.read_csv(\"https://tcga-pancan-atlas-hub.s3.us-east-1.amazonaws.com/download/TCGA_phenotype_denseDataOnlyDownload.tsv.gz\", sep=\"\\t\")\n",
    "    ph_join = pd.merge(left = phe2 , right = phe1, how = \"left\", on = \"sample\").dropna(subset=['project_id'])\n",
    "    \n",
    "    if cancer_type == \"PAN\" or cancer_type == \"PANCAN\":\n",
    "        filterd = ph_join.loc[ph_join['sample_type_y'] == \"Primary Tumor\", :]\n",
    "        sample_barcode = filterd[\"sample\"].tolist()\n",
    "    else:\n",
    "        filterd = ph_join.loc[(ph_join['sample_type_y'] == \"Primary Tumor\") & (ph_join['project_id'] == \"TCGA-\" + cancer_type) , :]\n",
    "        sample_barcode = filterd[\"sample\"].tolist()\n",
    "        \n",
    "    intersect_ = list(set(cols).intersection(sample_barcode))\n",
    "    \n",
    "    return intersect_\n",
    "\n",
    "def non_zero_column(DF):\n",
    "    sample_cnt = int(len(DF.columns) * 0.2)\n",
    "    zero_row = dict(DF.isin([0]).sum(axis=1))\n",
    "    non_remove_feature = list()\n",
    "\n",
    "    for key, value in zero_row.items():\n",
    "        if value < sample_cnt:\n",
    "            non_remove_feature.append(key)\n",
    "    \n",
    "    return non_remove_feature\n",
    "\n",
    "def load_tcga_dataset(pkl_path, raw_path, cancer_type, norm):\n",
    "    \n",
    "    if os.path.isfile(pkl_path + \"/\" + cancer_type + \"_omics.pkl\"):\n",
    "        omics = pd.read_pickle(pkl_path + \"/\" + cancer_type + \"_omics.pkl\")\n",
    "\n",
    "        # sep\n",
    "        rna = pd.read_pickle(pkl_path + \"/\" + cancer_type + \"_rna.pkl\")\n",
    "        mirna = pd.read_pickle(pkl_path + \"/\" + cancer_type + \"_mirna.pkl\")\n",
    "        mt = pd.read_pickle(pkl_path + \"/\" + cancer_type + \"_mt.pkl\")\n",
    "        \n",
    "        # intersect\n",
    "        venn3_unweighted([set(rna.index), set(mirna.index), set(mt.index)], ('RNA', 'miRNA', 'Methylation'))\n",
    "        plt.show()\n",
    "        \n",
    "    else :\n",
    "        # RNA gene expression\n",
    "        col = pd.read_csv(raw_path + \"tcga_RSEM_Hugo_norm_count.gz\",\n",
    "                     sep = \"\\t\", index_col=0, nrows=0).columns.to_list()\n",
    "        use_col = ['sample'] + cancer_select(cols=col, cancer_type=cancer_type)\n",
    "        df_chunk = pd.read_csv(raw_path + \"tcga_RSEM_Hugo_norm_count.gz\",\n",
    "                     sep = \"\\t\", index_col=0, iterator=True, chunksize=50000, usecols=use_col)\n",
    "        rna = pd.concat([chunk for chunk in df_chunk])\n",
    "        rna = rna[rna.index.isin(non_zero_column(rna))].T\n",
    "        \n",
    "        rna.to_pickle(pkl_path + \"/\" + cancer_type + \"_rna.pkl\")\n",
    "\n",
    "        # miRNA expression\n",
    "        col = pd.read_csv(raw_path + \"pancanMiRs_EBadjOnProtocolPlatformWithoutRepsWithUnCorrectMiRs_08_04_16.xena.gz\",\n",
    "                     sep = \"\\t\", index_col=0, nrows=0).columns.to_list()\n",
    "        use_col = ['sample'] + cancer_select(cols=col, cancer_type=cancer_type)\n",
    "\n",
    "        df_chunk = pd.read_csv(raw_path + \"pancanMiRs_EBadjOnProtocolPlatformWithoutRepsWithUnCorrectMiRs_08_04_16.xena.gz\",\n",
    "                         sep = \"\\t\", index_col=0, iterator=True, chunksize=50000, usecols=use_col)\n",
    "        mirna = pd.concat([chunk for chunk in df_chunk])\n",
    "        mirna = mirna[mirna.index.isin(non_zero_column(mirna))].T\n",
    "        \n",
    "        mirna.to_pickle(pkl_path + \"/\" + cancer_type + \"_mirna.pkl\")\n",
    "\n",
    "        # methylation\n",
    "        col = pd.read_csv(raw_path + \"jhu-usc.edu_PANCAN_HumanMethylation450.betaValue_whitelisted.tsv.synapse_download_5096262.xena.gz\",\n",
    "                     sep = \"\\t\", index_col=0, nrows=0).columns.to_list()\n",
    "        use_col = ['sample'] + cancer_select(cols=col, cancer_type=cancer_type)\n",
    "\n",
    "        df_chunk = pd.read_csv(raw_path + \"jhu-usc.edu_PANCAN_HumanMethylation450.betaValue_whitelisted.tsv.synapse_download_5096262.xena.gz\",\n",
    "                         sep = \"\\t\", index_col=0, iterator=True, chunksize=50000, usecols=use_col)\n",
    "        mt = pd.concat([chunk for chunk in df_chunk])\n",
    "\n",
    "        mt_map = pd.read_csv(raw_path + \"probeMap_illuminaMethyl450_hg19_GPL16304_TCGAlegacy\", sep=\"\\t\")\n",
    "\n",
    "        mt_join = pd.merge(mt, mt_map, how = \"left\", left_on = \"sample\", right_on = \"#id\")\\\n",
    "                 .drop(['chrom', 'chromStart', 'chromEnd', 'strand', '#id'], axis=1)\n",
    "        mt_join = mt_join[mt_join.gene != \".\"]\n",
    "        mt_join.dropna(subset = [\"gene\"], inplace=True)\n",
    "\n",
    "        # gene mean \n",
    "        mt_join_gene_filter = mt_join.groupby(['gene']).mean()\n",
    "        mt_join_gene_filter = mt_join_gene_filter[mt_join_gene_filter.index.isin(non_zero_column(mt_join_gene_filter))].T\n",
    "        \n",
    "        mt_join_gene_filter.to_pickle(pkl_path + \"/\" + cancer_type + \"_mt.pkl\")\n",
    "        \n",
    "        # intersect\n",
    "        venn3_unweighted([set(rna.index), set(mirna.index), set(mt_join_gene_filter.index)], ('RNA', 'miRNA', 'Methylation'))\n",
    "        plt.show()\n",
    "        \n",
    "        # set same column for merge\n",
    "        rna['sample'] = rna.index\n",
    "        mirna['sample'] = mirna.index\n",
    "        mt_join_gene_filter['sample'] = mt_join_gene_filter.index\n",
    "\n",
    "        # data join\n",
    "        merge_list = [rna, mirna, mt_join_gene_filter]\n",
    "        omics = reduce(lambda left, right : pd.merge(left, right, on = \"sample\"), merge_list)\n",
    "        omics.set_index('sample', inplace=True)\n",
    "\n",
    "        # pickle save\n",
    "        omics.to_pickle(pkl_path + \"/\" + cancer_type + \"_omics.pkl\")\n",
    "    \n",
    "    # set index\n",
    "    omics_index = omics.index.to_list()\n",
    "#     omics = omics.drop(['sample'], axis = 1)\n",
    "    \n",
    "    # normalization\n",
    "    if norm:\n",
    "        scalerX = StandardScaler()\n",
    "        scalerX.fit(omics)\n",
    "        omics_scale = scalerX.transform(omics)\n",
    "    \n",
    "    # missing impute\n",
    "    imputer = KNNImputer(n_neighbors=10)\n",
    "    omics_impute = imputer.fit_transform(omics_scale)\n",
    "\n",
    "    omics = pd.DataFrame(omics_impute, columns=omics.columns)\n",
    "    omics.index = omics_index\n",
    "\n",
    "    return omics\n",
    "\n",
    "def root_mean_squared_log_error(y_true, y_pred):\n",
    "    msle = tf.keras.losses.MeanSquaredLogarithmicError()\n",
    "    return K.sqrt(msle(y_true, y_pred)) \n",
    "\n",
    "def make_Tensorboard_dir(dir_name):\n",
    "    root_logdir = os.path.join(os.curdir, dir_name) \n",
    "    sub_dir_name = datetime.datetime.now().strftime(\"%Y%m%d-%H%M%S\") \n",
    "    return os.path.join(root_logdir, sub_dir_name)\n",
    "\n",
    "\n",
    "def createFolder(path):\n",
    "    try:\n",
    "        if not os.path.exists(path):\n",
    "            os.makedirs(path)\n",
    "    except OSError:\n",
    "        print ('Folder already exists. ' +  path)"
   ]
  },
  {
   "cell_type": "markdown",
   "metadata": {},
   "source": [
    "## **Preprocessing**"
   ]
  },
  {
   "cell_type": "markdown",
   "metadata": {},
   "source": [
    "### **File Path**"
   ]
  },
  {
   "cell_type": "code",
   "execution_count": 24,
   "metadata": {},
   "outputs": [
    {
     "data": {
      "text/plain": [
       "'/home/km/gitworking/Multi-omics-intergration/src'"
      ]
     },
     "execution_count": 24,
     "metadata": {},
     "output_type": "execute_result"
    }
   ],
   "source": [
    "os.getcwd()"
   ]
  },
  {
   "cell_type": "code",
   "execution_count": 50,
   "metadata": {},
   "outputs": [],
   "source": [
    "CANCER_TYPE = \"LIHC\"\n",
    "RAW_file_path = \"/home/km/gitworking/Multi-omics-intergration/RAW_DATA/\"\n",
    "PKL_file_path = \"/home/km/gitworking/Multi-omics-intergration/pkl/\"\n",
    "MODEL_path = \"/home/km/gitworking/Multi-omics-intergration/models/\"\n",
    "TENSORBOARD_PATH = '/home/km/gitworking/Multi-omics-intergration/log'\n",
    "GROUP_PHTH = '/home/km/gitworking/Multi-omics-intergration/group/'"
   ]
  },
  {
   "cell_type": "markdown",
   "metadata": {},
   "source": [
    "* **Data-Load**"
   ]
  },
  {
   "cell_type": "code",
   "execution_count": 26,
   "metadata": {},
   "outputs": [
    {
     "data": {
      "image/png": "[encoded data removed]",
      "text/plain": [
       "<Figure size 432x288 with 1 Axes>"
      ]
     },
     "metadata": {},
     "output_type": "display_data"
    }
   ],
   "source": [
    "omics = load_tcga_dataset(pkl_path=PKL_file_path, raw_path=RAW_file_path, cancer_type=CANCER_TYPE, norm=True)"
   ]
  },
  {
   "cell_type": "code",
   "execution_count": 27,
   "metadata": {},
   "outputs": [],
   "source": [
    "X_train, X_test = train_test_split(omics, test_size = .2, random_state = 21, shuffle=True)"
   ]
  },
  {
   "cell_type": "markdown",
   "metadata": {
    "tags": []
   },
   "source": [
    "## **Auto-Encoder**"
   ]
  },
  {
   "cell_type": "markdown",
   "metadata": {},
   "source": [
    "* **end-to-end**"
   ]
  },
  {
   "cell_type": "code",
   "execution_count": 28,
   "metadata": {},
   "outputs": [
    {
     "name": "stdout",
     "output_type": "stream",
     "text": [
      "Model: \"model\"\n",
      "_________________________________________________________________\n",
      "Layer (type)                 Output Shape              Param #   \n",
      "=================================================================\n",
      "input_1 (InputLayer)         [(None, 58419)]           0         \n",
      "_________________________________________________________________\n",
      "dense (Dense)                (None, 1000)              58420000  \n",
      "_________________________________________________________________\n",
      "dense_1 (Dense)              (None, 500)               500500    \n",
      "_________________________________________________________________\n",
      "bottleneck_layer (Dense)     (None, 100)               50100     \n",
      "_________________________________________________________________\n",
      "dense_2 (Dense)              (None, 500)               50500     \n",
      "_________________________________________________________________\n",
      "dense_3 (Dense)              (None, 1000)              501000    \n",
      "_________________________________________________________________\n",
      "dense_4 (Dense)              (None, 58419)             58477419  \n",
      "=================================================================\n",
      "Total params: 117,999,519\n",
      "Trainable params: 117,999,519\n",
      "Non-trainable params: 0\n",
      "_________________________________________________________________\n"
     ]
    }
   ],
   "source": [
    "tf.keras.backend.clear_session()\n",
    "\n",
    "inputs_dim = X_train.shape[1]\n",
    "encoder = Input(shape = (inputs_dim, ))\n",
    "e = Dense(1000, activation = \"relu\")(encoder)\n",
    "# e = Dense(256, activation = \"relu\")(e)\n",
    "e = Dense(500, activation = \"relu\")(e)\n",
    "\n",
    "## bottleneck layer\n",
    "n_bottleneck = 100\n",
    "\n",
    "## defining it with a name to extract it later\n",
    "bottleneck_layer = \"bottleneck_layer\"\n",
    "\n",
    "# can also be defined with an activation function, relu for instance\n",
    "bottleneck = Dense(n_bottleneck, name = bottleneck_layer)(e)\n",
    "\n",
    "## define the decoder (in reverse)\n",
    "decoder = Dense(500, activation = \"relu\")(bottleneck)\n",
    "# decoder = Dense(256, activation = \"relu\")(decoder)\n",
    "decoder = Dense(1000, activation = \"relu\")(decoder)\n",
    "\n",
    "## output layer\n",
    "output = Dense(inputs_dim)(decoder)\n",
    "\n",
    "## model\n",
    "model = Model(inputs = encoder, outputs = output)\n",
    "model.summary()"
   ]
  },
  {
   "cell_type": "markdown",
   "metadata": {},
   "source": [
    "* **Encoder for Latent Vector**"
   ]
  },
  {
   "cell_type": "code",
   "execution_count": 29,
   "metadata": {},
   "outputs": [
    {
     "name": "stdout",
     "output_type": "stream",
     "text": [
      "Model: \"model_1\"\n",
      "_________________________________________________________________\n",
      "Layer (type)                 Output Shape              Param #   \n",
      "=================================================================\n",
      "input_1 (InputLayer)         [(None, 58419)]           0         \n",
      "_________________________________________________________________\n",
      "dense (Dense)                (None, 1000)              58420000  \n",
      "_________________________________________________________________\n",
      "dense_1 (Dense)              (None, 500)               500500    \n",
      "_________________________________________________________________\n",
      "bottleneck_layer (Dense)     (None, 100)               50100     \n",
      "=================================================================\n",
      "Total params: 58,970,600\n",
      "Trainable params: 58,970,600\n",
      "Non-trainable params: 0\n",
      "_________________________________________________________________\n"
     ]
    }
   ],
   "source": [
    "encoder = Model(inputs = model.input, outputs = bottleneck)\n",
    "encoder.summary()"
   ]
  },
  {
   "cell_type": "markdown",
   "metadata": {},
   "source": [
    "* **Model compile & Fit**"
   ]
  },
  {
   "cell_type": "code",
   "execution_count": 30,
   "metadata": {},
   "outputs": [
    {
     "name": "stderr",
     "output_type": "stream",
     "text": [
      "2022-01-11 16:14:46.610578: I tensorflow/core/profiler/lib/profiler_session.cc:136] Profiler session initializing.\n",
      "2022-01-11 16:14:46.610609: I tensorflow/core/profiler/lib/profiler_session.cc:155] Profiler session started.\n",
      "2022-01-11 16:14:46.610763: E tensorflow/core/profiler/internal/gpu/cupti_tracer.cc:1415] function cupti_interface_->Subscribe( &subscriber_, (CUpti_CallbackFunc)ApiCallback, this)failed with error CUPTI_ERROR_NOT_INITIALIZED\n",
      "2022-01-11 16:14:46.610787: I tensorflow/core/profiler/lib/profiler_session.cc:172] Profiler session tear down.\n",
      "2022-01-11 16:14:47.854459: I tensorflow/core/profiler/lib/profiler_session.cc:136] Profiler session initializing.\n",
      "2022-01-11 16:14:47.854562: I tensorflow/core/profiler/lib/profiler_session.cc:155] Profiler session started.\n",
      "2022-01-11 16:14:47.854733: E tensorflow/core/profiler/internal/gpu/cupti_tracer.cc:1415] function cupti_interface_->Subscribe( &subscriber_, (CUpti_CallbackFunc)ApiCallback, this)failed with error CUPTI_ERROR_NOT_INITIALIZED\n",
      "2022-01-11 16:14:47.949485: I tensorflow/core/profiler/lib/profiler_session.cc:71] Profiler session collecting data.\n",
      "2022-01-11 16:14:47.950647: I tensorflow/core/profiler/internal/gpu/cupti_collector.cc:228]  GpuTracer has collected 0 callback api events and 0 activity events. \n",
      "2022-01-11 16:14:47.951713: I tensorflow/core/profiler/lib/profiler_session.cc:172] Profiler session tear down.\n",
      "2022-01-11 16:14:47.952968: I tensorflow/core/profiler/rpc/client/save_profile.cc:137] Creating directory: /home/km/gitworking/Multi-omics-intergration/log/20220111-161446/train/plugins/profile/2022_01_11_16_14_47\n",
      "2022-01-11 16:14:47.953558: I tensorflow/core/profiler/rpc/client/save_profile.cc:143] Dumped gzipped tool data for trace.json.gz to /home/km/gitworking/Multi-omics-intergration/log/20220111-161446/train/plugins/profile/2022_01_11_16_14_47/dbdock.trace.json.gz\n",
      "2022-01-11 16:14:47.957934: I tensorflow/core/profiler/rpc/client/save_profile.cc:137] Creating directory: /home/km/gitworking/Multi-omics-intergration/log/20220111-161446/train/plugins/profile/2022_01_11_16_14_47\n",
      "2022-01-11 16:14:47.959020: I tensorflow/core/profiler/rpc/client/save_profile.cc:143] Dumped gzipped tool data for memory_profile.json.gz to /home/km/gitworking/Multi-omics-intergration/log/20220111-161446/train/plugins/profile/2022_01_11_16_14_47/dbdock.memory_profile.json.gz\n",
      "2022-01-11 16:14:47.959332: I tensorflow/core/profiler/rpc/client/capture_profile.cc:251] Creating directory: /home/km/gitworking/Multi-omics-intergration/log/20220111-161446/train/plugins/profile/2022_01_11_16_14_47Dumped tool data for xplane.pb to /home/km/gitworking/Multi-omics-intergration/log/20220111-161446/train/plugins/profile/2022_01_11_16_14_47/dbdock.xplane.pb\n",
      "Dumped tool data for overview_page.pb to /home/km/gitworking/Multi-omics-intergration/log/20220111-161446/train/plugins/profile/2022_01_11_16_14_47/dbdock.overview_page.pb\n",
      "Dumped tool data for input_pipeline.pb to /home/km/gitworking/Multi-omics-intergration/log/20220111-161446/train/plugins/profile/2022_01_11_16_14_47/dbdock.input_pipeline.pb\n",
      "Dumped tool data for tensorflow_stats.pb to /home/km/gitworking/Multi-omics-intergration/log/20220111-161446/train/plugins/profile/2022_01_11_16_14_47/dbdock.tensorflow_stats.pb\n",
      "Dumped tool data for kernel_stats.pb to /home/km/gitworking/Multi-omics-intergration/log/20220111-161446/train/plugins/profile/2022_01_11_16_14_47/dbdock.kernel_stats.pb\n",
      "\n"
     ]
    },
    {
     "name": "stdout",
     "output_type": "stream",
     "text": [
      "INFO:tensorflow:Assets written to: /home/km/gitworking/Multi-omics-intergration/models/AE_20220111-161458/assets\n"
     ]
    }
   ],
   "source": [
    "# callback function\n",
    "es = EarlyStopping(monitor='val_loss', mode='min', verbose=1, patience=3)\n",
    "TB_log_dir = make_Tensorboard_dir(TENSORBOARD_PATH)\n",
    "TensorB = tf.keras.callbacks.TensorBoard(log_dir = TB_log_dir)\n",
    "\n",
    "# compile & fit\n",
    "model.compile(loss = \"mean_squared_error\",\n",
    "              optimizer = \"adam\")\n",
    "history = model.fit(\n",
    "    X_train,\n",
    "    X_train,\n",
    "    batch_size = 128,\n",
    "    epochs = 30,\n",
    "    verbose = 0,\n",
    "    validation_data = (X_test, X_test),\n",
    "    callbacks=[TensorB]\n",
    ")\n",
    "file_name = datetime.datetime.now().strftime(\"%Y%m%d-%H%M%S\") \n",
    "model.save(MODEL_path + \"AE_\" + file_name)"
   ]
  },
  {
   "cell_type": "markdown",
   "metadata": {
    "tags": []
   },
   "source": [
    "## **Feature Selection**"
   ]
  },
  {
   "cell_type": "code",
   "execution_count": 31,
   "metadata": {
    "tags": []
   },
   "outputs": [],
   "source": [
    "omic_encoded = pd.DataFrame(encoder.predict(omics))\n",
    "column_name = [\"Feature\" + str(index) for index in range(1, len(omic_encoded.columns) + 1)]\n",
    "omic_encoded.columns = column_name\n",
    "\n",
    "omic_encoded['sample'] = omics.index.to_list()\n",
    "omic_encoded.set_index('sample', inplace=True)"
   ]
  },
  {
   "cell_type": "markdown",
   "metadata": {},
   "source": [
    "* **sample phenotype**"
   ]
  },
  {
   "cell_type": "code",
   "execution_count": 32,
   "metadata": {},
   "outputs": [],
   "source": [
    "pheno = pd.read_csv(\"https://tcga-pancan-atlas-hub.s3.us-east-1.amazonaws.com/download/Survival_SupplementalTable_S1_20171025_xena_sp\", \n",
    "                    sep = \"\\t\", usecols=['sample', 'OS', 'OS.time', 'DSS', 'DSS.time', 'DFI', 'DFI.time', 'PFI', 'PFI.time'])\n",
    "\n",
    "# pd.merge(left, right, how, on, left_on, right_on, left_index, right_index)\n",
    "omic_encoded_pheno = pd.merge(left=omic_encoded, right=pheno, how=\"inner\", on=\"sample\")\n",
    "omic_encoded_pheno.set_index('sample', inplace=True)"
   ]
  },
  {
   "cell_type": "markdown",
   "metadata": {},
   "source": [
    "* **Invoke R - log rank test**"
   ]
  },
  {
   "cell_type": "code",
   "execution_count": 33,
   "metadata": {},
   "outputs": [],
   "source": [
    "# pandas DF to R DF\n",
    "with localconverter(ro.default_converter + pandas2ri.converter):\n",
    "    r_from_pd_df = ro.conversion.py2rpy(omic_encoded_pheno)\n",
    "\n",
    "# R UDF invoke\n",
    "r = ro.r\n",
    "r['source']('r-function.R')\n",
    "log_rank_test_r = ro.globalenv['log_rank_test']\n",
    "log_rank_test_feature = log_rank_test_r(r_from_pd_df)\n",
    "\n",
    "# R DF to pandas DF\n",
    "with localconverter(ro.default_converter + pandas2ri.converter):\n",
    "    log_rank_test = ro.conversion.rpy2py(log_rank_test_feature)\n",
    "\n",
    "feature_log = log_rank_test['Features'].to_list()\n",
    "\n",
    "omic_encoded_fc = omic_encoded[feature_log]"
   ]
  },
  {
   "cell_type": "markdown",
   "metadata": {},
   "source": [
    "## **Sample Clustering**"
   ]
  },
  {
   "cell_type": "code",
   "execution_count": 34,
   "metadata": {},
   "outputs": [
    {
     "name": "stdout",
     "output_type": "stream",
     "text": [
      "******************************************************************* \n",
      "* Among all indices:                                                \n",
      "* 7 proposed 2 as the best number of clusters \n",
      "* 8 proposed 3 as the best number of clusters \n",
      "* 1 proposed 4 as the best number of clusters \n",
      "* 1 proposed 5 as the best number of clusters \n",
      "* 1 proposed 6 as the best number of clusters \n",
      "* 2 proposed 7 as the best number of clusters \n",
      "* 3 proposed 9 as the best number of clusters \n",
      "\n",
      "                   ***** Conclusion *****                            \n",
      " \n",
      "* According to the majority rule, the best number of clusters is  3 \n",
      " \n",
      " \n",
      "******************************************************************* \n"
     ]
    }
   ],
   "source": [
    "# pandas DF to R DF\n",
    "with localconverter(ro.default_converter + pandas2ri.converter):\n",
    "    omic_encoded_fc_r = ro.conversion.py2rpy(omic_encoded_fc)\n",
    "\n",
    "r = ro.r\n",
    "r['source']('r-function.R')\n",
    "nb_cluster_test = ro.globalenv['nb_cluster_test']\n",
    "nb_cluster_test_feature = nb_cluster_test(omic_encoded_fc_r)\n",
    "\n",
    "# R DF to pandas DF\n",
    "with localconverter(ro.default_converter + pandas2ri.converter):\n",
    "    omic_encoded_fc_r = ro.conversion.rpy2py(nb_cluster_test_feature)"
   ]
  },
  {
   "cell_type": "markdown",
   "metadata": {},
   "source": [
    "* **K-Mean Clustering**"
   ]
  },
  {
   "cell_type": "code",
   "execution_count": 45,
   "metadata": {},
   "outputs": [],
   "source": [
    "kmeans = KMeans(n_clusters = 2, random_state = 31, max_iter = 1000).fit_predict(omic_encoded_fc)\n",
    "ae_groups = pd.DataFrame(kmeans, columns = ['group'])\n",
    "ae_groups['sample'] = omic_encoded_fc.index.to_list()\n",
    "ae_groups.set_index('sample', inplace=True)"
   ]
  },
  {
   "cell_type": "code",
   "execution_count": 51,
   "metadata": {},
   "outputs": [],
   "source": [
    "ae_groups.to_csv(GROUP_PHTH + CANCER_TYPE + \"_GROUP_\" + time_stamp + \".txt\", sep=\"\\t\")"
   ]
  }
 ],
 "metadata": {
  "kernelspec": {
   "display_name": "multiomic",
   "language": "python",
   "name": "multiomics"
  },
  "language_info": {
   "codemirror_mode": {
    "name": "ipython",
    "version": 3
   },
   "file_extension": ".py",
   "mimetype": "text/x-python",
   "name": "python",
   "nbconvert_exporter": "python",
   "pygments_lexer": "ipython3",
   "version": "3.7.12"
  }
 },
 "nbformat": 4,
 "nbformat_minor": 4
}
