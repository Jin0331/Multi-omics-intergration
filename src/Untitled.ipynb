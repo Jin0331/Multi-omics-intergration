{
 "cells": [
  {
   "cell_type": "markdown",
   "id": "743ae06d-37ab-446d-a687-0548ad46407c",
   "metadata": {},
   "source": [
    "### **File Path**"
   ]
  },
  {
   "cell_type": "code",
   "execution_count": 1,
   "id": "bd5cb10a-b1af-4995-9ed4-24e36f1b0d2e",
   "metadata": {},
   "outputs": [],
   "source": [
    "CANCER_TYPE = \"LIHC\"\n",
    "PKL_file_path = \"/home/km/gitworking/Multi-omics-intergration/pkl/\"\n",
    "MODEL_path = \"/home/km/gitworking/Multi-omics-intergration/models/\"\n",
    "GROUP_PHTH = '/home/km/gitworking/Multi-omics-intergration/group/'"
   ]
  },
  {
   "cell_type": "markdown",
   "id": "60b4f71a-e586-4ff7-9236-e15c0cff166d",
   "metadata": {},
   "source": [
    "### **GPU cehck**"
   ]
  },
  {
   "cell_type": "code",
   "execution_count": 2,
   "id": "eda8b3fc-a74c-4ac1-ad4a-f39ad9220899",
   "metadata": {
    "collapsed": true,
    "jupyter": {
     "outputs_hidden": true
    },
    "tags": []
   },
   "outputs": [
    {
     "name": "stderr",
     "output_type": "stream",
     "text": [
      "2022-01-12 08:17:50.930684: I tensorflow/stream_executor/platform/default/dso_loader.cc:49] Successfully opened dynamic library libcudart.so.10.1\n",
      "2022-01-12 08:17:52.584683: I tensorflow/compiler/jit/xla_cpu_device.cc:41] Not creating XLA devices, tf_xla_enable_xla_devices not set\n"
     ]
    },
    {
     "data": {
      "text/plain": [
       "OrderedDict([('cpu_compiler',\n",
       "              '/home/builder/ktietz/aggregate/tensorflow_recipes/ci_cpu/tensorflow-base_1614534878484/_build_env/bin/x86_64-conda_cos6-linux-gnu-gcc'),\n",
       "             ('cuda_compute_capabilities',\n",
       "              ['compute_35',\n",
       "               'compute_52',\n",
       "               'compute_60',\n",
       "               'compute_61',\n",
       "               'compute_70',\n",
       "               'compute_75']),\n",
       "             ('cuda_version', '10.1'),\n",
       "             ('cudnn_version', '7'),\n",
       "             ('is_cuda_build', True),\n",
       "             ('is_rocm_build', False)])"
      ]
     },
     "execution_count": 2,
     "metadata": {},
     "output_type": "execute_result"
    },
    {
     "name": "stderr",
     "output_type": "stream",
     "text": [
      "2022-01-12 08:17:52.585822: I tensorflow/stream_executor/platform/default/dso_loader.cc:49] Successfully opened dynamic library libcuda.so.1\n",
      "2022-01-12 08:17:52.663235: I tensorflow/core/common_runtime/gpu/gpu_device.cc:1720] Found device 0 with properties: \n",
      "pciBusID: 0000:83:00.0 name: GeForce RTX 2080 Ti computeCapability: 7.5\n",
      "coreClock: 1.665GHz coreCount: 68 deviceMemorySize: 10.76GiB deviceMemoryBandwidth: 573.69GiB/s\n",
      "2022-01-12 08:17:52.663274: I tensorflow/stream_executor/platform/default/dso_loader.cc:49] Successfully opened dynamic library libcudart.so.10.1\n",
      "2022-01-12 08:17:52.665457: I tensorflow/stream_executor/platform/default/dso_loader.cc:49] Successfully opened dynamic library libcublas.so.10\n",
      "2022-01-12 08:17:52.665496: I tensorflow/stream_executor/platform/default/dso_loader.cc:49] Successfully opened dynamic library libcublasLt.so.10\n",
      "2022-01-12 08:17:52.667088: I tensorflow/stream_executor/platform/default/dso_loader.cc:49] Successfully opened dynamic library libcufft.so.10\n",
      "2022-01-12 08:17:52.667372: I tensorflow/stream_executor/platform/default/dso_loader.cc:49] Successfully opened dynamic library libcurand.so.10\n",
      "2022-01-12 08:17:52.669478: I tensorflow/stream_executor/platform/default/dso_loader.cc:49] Successfully opened dynamic library libcusolver.so.10\n",
      "2022-01-12 08:17:52.670563: I tensorflow/stream_executor/platform/default/dso_loader.cc:49] Successfully opened dynamic library libcusparse.so.10\n",
      "2022-01-12 08:17:52.675143: I tensorflow/stream_executor/platform/default/dso_loader.cc:49] Successfully opened dynamic library libcudnn.so.7\n",
      "2022-01-12 08:17:52.676732: I tensorflow/core/common_runtime/gpu/gpu_device.cc:1862] Adding visible gpu devices: 0\n"
     ]
    }
   ],
   "source": [
    "import tensorflow as tf\n",
    "import tensorflow.keras.backend as K\n",
    "tf.test.is_built_with_cuda()\n",
    "tf.config.list_physical_devices('GPU')\n",
    "tf.sysconfig.get_build_info()"
   ]
  },
  {
   "cell_type": "markdown",
   "id": "695764e3-b743-4bb5-90f9-857d4c5a2a9d",
   "metadata": {},
   "source": [
    "## **Module**"
   ]
  },
  {
   "cell_type": "code",
   "execution_count": 3,
   "id": "2e71499d-df69-4a1f-9b36-1e7c2bd01677",
   "metadata": {},
   "outputs": [
    {
     "name": "stdout",
     "output_type": "stream",
     "text": [
      "\u001b[1mrpy2 version:\u001b[0m\n",
      "3.4.5\n",
      "\u001b[1mPython version:\u001b[0m\n",
      "3.8.8 (default, Apr 13 2021, 19:58:26) \n",
      "[GCC 7.3.0]\n",
      "\u001b[1mLooking for R's HOME:\u001b[0m\n",
      "    Environment variable R_HOME: /home/km/anaconda3/envs/multiomics/lib/R\n",
      "    Calling `R RHOME`: /usr/lib/R\n",
      "    Environment variable R_LIBS_USER: ~/R/x86_64-conda-linux-gnu-library/4.1\n",
      "    Warning: The environment variable R_HOME differs from the default R in the PATH.\n",
      "\u001b[1mR's additions to LD_LIBRARY_PATH:\u001b[0m\n",
      "\n",
      "\u001b[1mR version:\u001b[0m\n",
      "    In the PATH: R version 4.0.5 (2021-03-31) -- \"Shake and Throw\"\n",
      "    Loading R library from rpy2: OK\n",
      "\u001b[1mAdditional directories to load R packages from:\u001b[0m\n",
      "None\n",
      "\u001b[1mC extension compilation:\u001b[0m\n",
      "  include:\n",
      "  ['/home/km/anaconda3/envs/multiomics/lib/R/include']\n",
      "  libraries:\n",
      "  ['R', 'pcre2-8', 'lzma', 'bz2', 'z', 'rt', 'dl', 'm', 'iconv', 'icuuc', 'icui18n']\n",
      "  library_dirs:\n",
      "  ['/home/km/anaconda3/envs/multiomics/lib', '/home/km/anaconda3/envs/multiomics/lib/R/lib', '/home/km/anaconda3/envs/multiomics/lib']\n",
      "  extra_compile_args:\n",
      "  []\n",
      "  extra_link_args:\n",
      "  ['-Wl,--export-dynamic', '-fopenmp', '-Wl,-O2', '-Wl,--sort-common', '-Wl,--as-needed', '-Wl,-z,relro', '-Wl,-z,now', '-Wl,--disable-new-dtags', '-Wl,--gc-sections', '-Wl,-rpath,/home/km/anaconda3/envs/multiomics/lib', '-Wl,-rpath-link,/home/km/anaconda3/envs/multiomics/lib']\n"
     ]
    }
   ],
   "source": [
    "from datetime import datetime\n",
    "import os\n",
    "import re\n",
    "import gc\n",
    "import pickle\n",
    "import datetime\n",
    "\n",
    "import pandas as pd\n",
    "import numpy as np\n",
    "import seaborn as sns\n",
    "from functools import reduce\n",
    "\n",
    "from sklearn.manifold import Isomap\n",
    "from sklearn.decomposition import PCA\n",
    "from sklearn.decomposition import KernelPCA\n",
    "from sklearn.cluster import KMeans\n",
    "from sklearn.impute import KNNImputer\n",
    "from sklearn.manifold import TSNE\n",
    "from sklearn.preprocessing import MinMaxScaler\n",
    "from sklearn.preprocessing import StandardScaler\n",
    "from sklearn.model_selection import train_test_split\n",
    "from sklearn.cluster import DBSCAN\n",
    "from sklearn.ensemble import RandomForestClassifier\n",
    "from sklearn import metrics\n",
    "\n",
    "import matplotlib.pyplot as plt\n",
    "from matplotlib_venn import venn3_unweighted\n",
    "import umap.umap_ as umap\n",
    "\n",
    "# keras\n",
    "from tensorflow.keras.models import Model\n",
    "from tensorflow.keras.layers import Dense, Input\n",
    "from tensorflow.keras.preprocessing import sequence\n",
    "from tensorflow.keras.callbacks import EarlyStopping\n",
    "\n",
    "# rpy2\n",
    "os.environ['R_HOME'] = '/home/km/anaconda3/envs/multiomics/lib/R' # env R invoke\n",
    "import rpy2.robjects as ro\n",
    "from rpy2.robjects.packages import importr\n",
    "from rpy2.robjects import pandas2ri\n",
    "\n",
    "from rpy2.robjects.conversion import localconverter\n",
    "\n",
    "!python -m rpy2.situation"
   ]
  },
  {
   "cell_type": "code",
   "execution_count": null,
   "id": "39432b29-9ea8-4a73-802f-12c1eaeddb45",
   "metadata": {},
   "outputs": [],
   "source": []
  }
 ],
 "metadata": {
  "kernelspec": {
   "display_name": "multiomic",
   "language": "python",
   "name": "multiomics"
  },
  "language_info": {
   "codemirror_mode": {
    "name": "ipython",
    "version": 3
   },
   "file_extension": ".py",
   "mimetype": "text/x-python",
   "name": "python",
   "nbconvert_exporter": "python",
   "pygments_lexer": "ipython3",
   "version": "3.7.12"
  }
 },
 "nbformat": 4,
 "nbformat_minor": 5
}
