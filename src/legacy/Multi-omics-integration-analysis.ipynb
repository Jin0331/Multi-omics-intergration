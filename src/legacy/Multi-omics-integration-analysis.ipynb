{
 "cells": [
  {
   "cell_type": "markdown",
   "id": "d2c6fac5",
   "metadata": {},
   "source": [
    "## **Module**"
   ]
  },
  {
   "cell_type": "code",
   "execution_count": 1,
   "id": "09965ead",
   "metadata": {},
   "outputs": [
    {
     "name": "stderr",
     "output_type": "stream",
     "text": [
      "/home/wmbio/anaconda3/envs/multiomics-cpu/lib/python3.8/site-packages/xgboost/compat.py:36: FutureWarning: pandas.Int64Index is deprecated and will be removed from pandas in a future version. Use pandas.Index with the appropriate dtype instead.\n",
      "  from pandas import MultiIndex, Int64Index\n"
     ]
    }
   ],
   "source": [
    "from wmbio import * "
   ]
  },
  {
   "cell_type": "markdown",
   "id": "9849aa7d",
   "metadata": {},
   "source": [
    "## **Best Sub-Group Selection**"
   ]
  },
  {
   "cell_type": "markdown",
   "id": "c594ec47",
   "metadata": {},
   "source": [
    "* **FILE PATH**"
   ]
  },
  {
   "cell_type": "code",
   "execution_count": 2,
   "id": "ca0054e7",
   "metadata": {},
   "outputs": [
    {
     "data": {
      "text/plain": [
       "'/home/wmbio/WORK/gitworking/Multi-omics-intergration'"
      ]
     },
     "execution_count": 2,
     "metadata": {},
     "output_type": "execute_result"
    }
   ],
   "source": [
    "os.chdir(\"/home/wmbio/WORK/gitworking/Multi-omics-intergration\")\n",
    "os.getcwd()"
   ]
  },
  {
   "cell_type": "code",
   "execution_count": 3,
   "id": "9b690e0c",
   "metadata": {},
   "outputs": [],
   "source": [
    "# PATH\n",
    "CANCER_TYPE = \"BRCA\"\n",
    "GROUP_PHTH = os.getcwd() + '/group/'\n",
    "PNG_PATH = os.getcwd() + '/png/'\n",
    "GROUP_VALIDATION_PATH = os.getcwd() + '/group_validation/'\n",
    "DEG_PATH = os.getcwd() + \"/best_deg/\"\n",
    "RDATA_PATH = os.getcwd() + \"/RAW_DATA/GDC_PREPARE/\"\n",
    "RAW_PATH = os.getcwd() + \"/RAW_DATA/\"\n",
    "\n",
    "METHOD = 'deseq2'\n",
    "LOGFC=1\n",
    "FDR=0.05"
   ]
  },
  {
   "cell_type": "code",
   "execution_count": 4,
   "id": "bcfe097d-630b-4fd0-bc95-e8694121adb0",
   "metadata": {},
   "outputs": [],
   "source": [
    "# Load Validation score\n",
    "col=['FILENAME','Log Rank Test','Silhouette','RNA_ANOVA_F1','RNA_RF_F1',\n",
    "     'miRNA_ANOVA_F1','miRNA_RF_F1','Methylation_ANOVA_F1','Methylation_RF_F1']\n",
    "\n",
    "group_score = pd.read_csv(GROUP_VALIDATION_PATH + 'BRCA_validation.csv', usecols=col)\n",
    "\n",
    "# Q3 value\n",
    "SILHOUETTE = group_score.Silhouette.quantile(.7)\n",
    "RNA_ANOVA = group_score.RNA_ANOVA_F1.quantile(.7)\n",
    "RNA_RF = group_score.RNA_RF_F1.quantile(.7)\n",
    "MIRNA_ANOVAR = group_score.miRNA_ANOVA_F1.quantile(.7)\n",
    "MIRNA_RF = group_score.miRNA_RF_F1.quantile(.7)\n",
    "MT_ANOVAR = group_score.Methylation_ANOVA_F1.quantile(.7)\n",
    "MT_RF = group_score.Methylation_RF_F1.quantile(.7)\n",
    "\n",
    "# Condition for Filtering\n",
    "filter_cond = (group_score['Silhouette'] >= SILHOUETTE) & (group_score['Log Rank Test'] < 0.05) & \\\n",
    "              ((group_score['RNA_ANOVA_F1'] > RNA_ANOVA) | (group_score['RNA_RF_F1'] > RNA_RF)) & \\\n",
    "              ((group_score['miRNA_ANOVA_F1'] > MIRNA_ANOVAR) | (group_score['miRNA_RF_F1'] > MIRNA_RF)) & \\\n",
    "              ((group_score['Methylation_ANOVA_F1'] > MT_ANOVAR) | (group_score['Methylation_RF_F1'] > MT_RF))"
   ]
  },
  {
   "cell_type": "code",
   "execution_count": 5,
   "id": "14196e91-f633-4f20-a888-dadc1305f5cb",
   "metadata": {},
   "outputs": [],
   "source": [
    "group_score = group_score[filter_cond].sort_values([\"Silhouette\"], ascending = (False))"
   ]
  },
  {
   "cell_type": "code",
   "execution_count": 6,
   "id": "0861d5e4-3f63-4f70-b19c-23cd77da088b",
   "metadata": {},
   "outputs": [],
   "source": [
    "bestSubgroup = group_score.FILENAME.to_list()"
   ]
  },
  {
   "cell_type": "code",
   "execution_count": 7,
   "id": "e7b790e8-dd08-4291-8ecf-99f1243b7f6c",
   "metadata": {},
   "outputs": [],
   "source": [
    "if len(bestSubgroup) > 100:\n",
    "    random.seed(331)\n",
    "    bestSubgroup = random.sample(bestSubgroup, k=100)"
   ]
  },
  {
   "cell_type": "code",
   "execution_count": 8,
   "id": "05fc8c3c",
   "metadata": {},
   "outputs": [],
   "source": [
    "DEG_CHECK = \"_\".join([CANCER_TYPE, METHOD.upper(), bestSubgroup[0]]) + \".txt\""
   ]
  },
  {
   "cell_type": "code",
   "execution_count": 9,
   "id": "e1c1322c",
   "metadata": {},
   "outputs": [
    {
     "name": "stderr",
     "output_type": "stream",
     "text": [
      "R[write to console]: Error in value[[3L]](cond) : \n",
      "  GDC server down, try to use this package later\n",
      "\n"
     ]
    },
    {
     "ename": "RRuntimeError",
     "evalue": "Error in value[[3L]](cond) : \n  GDC server down, try to use this package later\n",
     "output_type": "error",
     "traceback": [
      "\u001b[0;31m---------------------------------------------------------------------------\u001b[0m",
      "\u001b[0;31mRRuntimeError\u001b[0m                             Traceback (most recent call last)",
      "Input \u001b[0;32mIn [9]\u001b[0m, in \u001b[0;36m<module>\u001b[0;34m\u001b[0m\n\u001b[1;32m      9\u001b[0m     deg_list \u001b[38;5;241m=\u001b[39m pd\u001b[38;5;241m.\u001b[39mread_csv(DEG_PATH \u001b[38;5;241m+\u001b[39m CANCER_TYPE \u001b[38;5;241m+\u001b[39m \u001b[38;5;124m\"\u001b[39m\u001b[38;5;124m/\u001b[39m\u001b[38;5;124m\"\u001b[39m \u001b[38;5;241m+\u001b[39m DEG_CHECK, sep \u001b[38;5;241m=\u001b[39m \u001b[38;5;124m\"\u001b[39m\u001b[38;5;130;01m\\t\u001b[39;00m\u001b[38;5;124m\"\u001b[39m)\n\u001b[1;32m     10\u001b[0m \u001b[38;5;28;01melse\u001b[39;00m :\n\u001b[1;32m     11\u001b[0m     \u001b[38;5;66;03m# DEG Extraction\u001b[39;00m\n\u001b[0;32m---> 12\u001b[0m     deg_list \u001b[38;5;241m=\u001b[39m \u001b[43mdeg_extract\u001b[49m\u001b[43m(\u001b[49m\u001b[43mlog_fc\u001b[49m\u001b[38;5;241;43m=\u001b[39;49m\u001b[43mLOGFC\u001b[49m\u001b[43m,\u001b[49m\u001b[43m \u001b[49m\u001b[43mfdr\u001b[49m\u001b[38;5;241;43m=\u001b[39;49m\u001b[43mFDR\u001b[49m\u001b[43m,\u001b[49m\n\u001b[1;32m     13\u001b[0m \u001b[43m                   \u001b[49m\u001b[43mcancer_type\u001b[49m\u001b[38;5;241;43m=\u001b[39;49m\u001b[43mCANCER_TYPE\u001b[49m\u001b[43m,\u001b[49m\u001b[43m \u001b[49m\n\u001b[1;32m     14\u001b[0m \u001b[43m                   \u001b[49m\u001b[43msample_group\u001b[49m\u001b[38;5;241;43m=\u001b[39;49m\u001b[43mSAMPLE_GROUP\u001b[49m\u001b[43m,\u001b[49m\u001b[43m \u001b[49m\u001b[43mdeg_path\u001b[49m\u001b[38;5;241;43m=\u001b[39;49m\u001b[43mDEG_PATH\u001b[49m\u001b[43m,\u001b[49m\u001b[43m \u001b[49m\n\u001b[1;32m     15\u001b[0m \u001b[43m                   \u001b[49m\u001b[43mfile_name\u001b[49m\u001b[38;5;241;43m=\u001b[39;49m\u001b[43mbest_group\u001b[49m\u001b[43m,\u001b[49m\n\u001b[1;32m     16\u001b[0m \u001b[43m                   \u001b[49m\u001b[43mrdata_path\u001b[49m\u001b[38;5;241;43m=\u001b[39;49m\u001b[43mRDATA_PATH\u001b[49m\u001b[43m,\u001b[49m\n\u001b[1;32m     17\u001b[0m \u001b[43m                   \u001b[49m\u001b[43mmethod\u001b[49m\u001b[38;5;241;43m=\u001b[39;49m\u001b[43mMETHOD\u001b[49m\u001b[43m,\u001b[49m\n\u001b[1;32m     18\u001b[0m \u001b[43m                   \u001b[49m\u001b[43mbatch_removal\u001b[49m\u001b[38;5;241;43m=\u001b[39;49m\u001b[38;5;28;43;01mTrue\u001b[39;49;00m\u001b[43m,\u001b[49m\n\u001b[1;32m     19\u001b[0m \u001b[43m                   \u001b[49m\u001b[43mraw_path\u001b[49m\u001b[43m \u001b[49m\u001b[38;5;241;43m=\u001b[39;49m\u001b[43m \u001b[49m\u001b[43mRAW_PATH\u001b[49m\u001b[43m)\u001b[49m\n\u001b[1;32m     21\u001b[0m dea_result\u001b[38;5;241m.\u001b[39mappend(deg_list)\n",
      "File \u001b[0;32m~/WORK/gitworking/Multi-omics-intergration/src/legacy/wmbio.py:852\u001b[0m, in \u001b[0;36mdeg_extract\u001b[0;34m(log_fc, fdr, method, cancer_type, sample_group, deg_path, file_name, rdata_path, batch_removal, raw_path)\u001b[0m\n\u001b[1;32m    848\u001b[0m     edger\u001b[38;5;241m.\u001b[39mto_csv(deg_path \u001b[38;5;241m+\u001b[39m cancer_type \u001b[38;5;241m+\u001b[39m \u001b[38;5;124m\"\u001b[39m\u001b[38;5;124m/\u001b[39m\u001b[38;5;124m\"\u001b[39m \u001b[38;5;241m+\u001b[39m cancer_type \u001b[38;5;241m+\u001b[39m \u001b[38;5;124m\"\u001b[39m\u001b[38;5;124m_EDGER_\u001b[39m\u001b[38;5;124m\"\u001b[39m \u001b[38;5;241m+\u001b[39m file_name \u001b[38;5;241m+\u001b[39m \u001b[38;5;124m\"\u001b[39m\u001b[38;5;124m.txt\u001b[39m\u001b[38;5;124m\"\u001b[39m, sep \u001b[38;5;241m=\u001b[39m \u001b[38;5;124m\"\u001b[39m\u001b[38;5;130;01m\\t\u001b[39;00m\u001b[38;5;124m\"\u001b[39m, index \u001b[38;5;241m=\u001b[39m \u001b[38;5;28;01mFalse\u001b[39;00m)\n\u001b[1;32m    850\u001b[0m \u001b[38;5;28;01mif\u001b[39;00m method \u001b[38;5;241m==\u001b[39m \u001b[38;5;124m\"\u001b[39m\u001b[38;5;124mdeseq2\u001b[39m\u001b[38;5;124m\"\u001b[39m \u001b[38;5;129;01mor\u001b[39;00m method \u001b[38;5;241m==\u001b[39m \u001b[38;5;124m\"\u001b[39m\u001b[38;5;124mall\u001b[39m\u001b[38;5;124m\"\u001b[39m:\n\u001b[1;32m    851\u001b[0m \u001b[38;5;66;03m## Deseq2\u001b[39;00m\n\u001b[0;32m--> 852\u001b[0m     deseq \u001b[38;5;241m=\u001b[39m \u001b[43mrun_deseq_r\u001b[49m\u001b[43m(\u001b[49m\u001b[43mcancer_type\u001b[49m\u001b[43m,\u001b[49m\u001b[43m \u001b[49m\u001b[43msample_group\u001b[49m\u001b[43m,\u001b[49m\u001b[43m \u001b[49m\u001b[43mrdata_path\u001b[49m\u001b[43m,\u001b[49m\u001b[43m \u001b[49m\u001b[43mgroup_reverse\u001b[49m\u001b[43m,\u001b[49m\u001b[43m \u001b[49m\u001b[43mfile_name\u001b[49m\u001b[43m,\u001b[49m\u001b[43m \u001b[49m\u001b[43mdeg_path\u001b[49m\u001b[43m,\u001b[49m\u001b[43m \u001b[49m\u001b[43mbatch_removal\u001b[49m\u001b[43m)\u001b[49m\n\u001b[1;32m    853\u001b[0m     \u001b[38;5;28;01mwith\u001b[39;00m localconverter(ro\u001b[38;5;241m.\u001b[39mdefault_converter \u001b[38;5;241m+\u001b[39m pandas2ri\u001b[38;5;241m.\u001b[39mconverter):\n\u001b[1;32m    854\u001b[0m         deseq \u001b[38;5;241m=\u001b[39m ro\u001b[38;5;241m.\u001b[39mconversion\u001b[38;5;241m.\u001b[39mrpy2py(deseq)\n",
      "File \u001b[0;32m~/anaconda3/envs/multiomics-cpu/lib/python3.8/site-packages/rpy2/robjects/functions.py:198\u001b[0m, in \u001b[0;36mSignatureTranslatedFunction.__call__\u001b[0;34m(self, *args, **kwargs)\u001b[0m\n\u001b[1;32m    196\u001b[0m         v \u001b[38;5;241m=\u001b[39m kwargs\u001b[38;5;241m.\u001b[39mpop(k)\n\u001b[1;32m    197\u001b[0m         kwargs[r_k] \u001b[38;5;241m=\u001b[39m v\n\u001b[0;32m--> 198\u001b[0m \u001b[38;5;28;01mreturn\u001b[39;00m (\u001b[38;5;28;43msuper\u001b[39;49m\u001b[43m(\u001b[49m\u001b[43mSignatureTranslatedFunction\u001b[49m\u001b[43m,\u001b[49m\u001b[43m \u001b[49m\u001b[38;5;28;43mself\u001b[39;49m\u001b[43m)\u001b[49m\n\u001b[1;32m    199\u001b[0m \u001b[43m        \u001b[49m\u001b[38;5;241;43m.\u001b[39;49m\u001b[38;5;21;43m__call__\u001b[39;49m\u001b[43m(\u001b[49m\u001b[38;5;241;43m*\u001b[39;49m\u001b[43margs\u001b[49m\u001b[43m,\u001b[49m\u001b[43m \u001b[49m\u001b[38;5;241;43m*\u001b[39;49m\u001b[38;5;241;43m*\u001b[39;49m\u001b[43mkwargs\u001b[49m\u001b[43m)\u001b[49m)\n",
      "File \u001b[0;32m~/anaconda3/envs/multiomics-cpu/lib/python3.8/site-packages/rpy2/robjects/functions.py:125\u001b[0m, in \u001b[0;36mFunction.__call__\u001b[0;34m(self, *args, **kwargs)\u001b[0m\n\u001b[1;32m    123\u001b[0m     \u001b[38;5;28;01melse\u001b[39;00m:\n\u001b[1;32m    124\u001b[0m         new_kwargs[k] \u001b[38;5;241m=\u001b[39m conversion\u001b[38;5;241m.\u001b[39mpy2rpy(v)\n\u001b[0;32m--> 125\u001b[0m res \u001b[38;5;241m=\u001b[39m \u001b[38;5;28;43msuper\u001b[39;49m\u001b[43m(\u001b[49m\u001b[43mFunction\u001b[49m\u001b[43m,\u001b[49m\u001b[43m \u001b[49m\u001b[38;5;28;43mself\u001b[39;49m\u001b[43m)\u001b[49m\u001b[38;5;241;43m.\u001b[39;49m\u001b[38;5;21;43m__call__\u001b[39;49m\u001b[43m(\u001b[49m\u001b[38;5;241;43m*\u001b[39;49m\u001b[43mnew_args\u001b[49m\u001b[43m,\u001b[49m\u001b[43m \u001b[49m\u001b[38;5;241;43m*\u001b[39;49m\u001b[38;5;241;43m*\u001b[39;49m\u001b[43mnew_kwargs\u001b[49m\u001b[43m)\u001b[49m\n\u001b[1;32m    126\u001b[0m res \u001b[38;5;241m=\u001b[39m conversion\u001b[38;5;241m.\u001b[39mrpy2py(res)\n\u001b[1;32m    127\u001b[0m \u001b[38;5;28;01mreturn\u001b[39;00m res\n",
      "File \u001b[0;32m~/anaconda3/envs/multiomics-cpu/lib/python3.8/site-packages/rpy2/rinterface_lib/conversion.py:45\u001b[0m, in \u001b[0;36m_cdata_res_to_rinterface.<locals>._\u001b[0;34m(*args, **kwargs)\u001b[0m\n\u001b[1;32m     44\u001b[0m \u001b[38;5;28;01mdef\u001b[39;00m \u001b[38;5;21m_\u001b[39m(\u001b[38;5;241m*\u001b[39margs, \u001b[38;5;241m*\u001b[39m\u001b[38;5;241m*\u001b[39mkwargs):\n\u001b[0;32m---> 45\u001b[0m     cdata \u001b[38;5;241m=\u001b[39m \u001b[43mfunction\u001b[49m\u001b[43m(\u001b[49m\u001b[38;5;241;43m*\u001b[39;49m\u001b[43margs\u001b[49m\u001b[43m,\u001b[49m\u001b[43m \u001b[49m\u001b[38;5;241;43m*\u001b[39;49m\u001b[38;5;241;43m*\u001b[39;49m\u001b[43mkwargs\u001b[49m\u001b[43m)\u001b[49m\n\u001b[1;32m     46\u001b[0m     \u001b[38;5;66;03m# TODO: test cdata is of the expected CType\u001b[39;00m\n\u001b[1;32m     47\u001b[0m     \u001b[38;5;28;01mreturn\u001b[39;00m _cdata_to_rinterface(cdata)\n",
      "File \u001b[0;32m~/anaconda3/envs/multiomics-cpu/lib/python3.8/site-packages/rpy2/rinterface.py:680\u001b[0m, in \u001b[0;36mSexpClosure.__call__\u001b[0;34m(self, *args, **kwargs)\u001b[0m\n\u001b[1;32m    673\u001b[0m     res \u001b[38;5;241m=\u001b[39m rmemory\u001b[38;5;241m.\u001b[39mprotect(\n\u001b[1;32m    674\u001b[0m         openrlib\u001b[38;5;241m.\u001b[39mrlib\u001b[38;5;241m.\u001b[39mR_tryEval(\n\u001b[1;32m    675\u001b[0m             call_r,\n\u001b[1;32m    676\u001b[0m             call_context\u001b[38;5;241m.\u001b[39m__sexp__\u001b[38;5;241m.\u001b[39m_cdata,\n\u001b[1;32m    677\u001b[0m             error_occured)\n\u001b[1;32m    678\u001b[0m     )\n\u001b[1;32m    679\u001b[0m     \u001b[38;5;28;01mif\u001b[39;00m error_occured[\u001b[38;5;241m0\u001b[39m]:\n\u001b[0;32m--> 680\u001b[0m         \u001b[38;5;28;01mraise\u001b[39;00m embedded\u001b[38;5;241m.\u001b[39mRRuntimeError(_rinterface\u001b[38;5;241m.\u001b[39m_geterrmessage())\n\u001b[1;32m    681\u001b[0m \u001b[38;5;28;01mreturn\u001b[39;00m res\n",
      "\u001b[0;31mRRuntimeError\u001b[0m: Error in value[[3L]](cond) : \n  GDC server down, try to use this package later\n"
     ]
    }
   ],
   "source": [
    "# DEA\n",
    "dea_result = list()\n",
    "for best_group in bestSubgroup:\n",
    "    \n",
    "    DEG_CHECK = \"_\".join([CANCER_TYPE, METHOD.upper(), best_group]) + \".txt\"\n",
    "    SAMPLE_GROUP = GROUP_PHTH + CANCER_TYPE + \"/\" + CANCER_TYPE + \"_GROUP_\" + best_group + \".txt\"\n",
    "    \n",
    "    if os.path.isfile(DEG_PATH + CANCER_TYPE + \"/\" + DEG_CHECK):\n",
    "        deg_list = pd.read_csv(DEG_PATH + CANCER_TYPE + \"/\" + DEG_CHECK, sep = \"\\t\")\n",
    "    else :\n",
    "        # DEG Extraction\n",
    "        deg_list = deg_extract(log_fc=LOGFC, fdr=FDR,\n",
    "                       cancer_type=CANCER_TYPE, \n",
    "                       sample_group=SAMPLE_GROUP, deg_path=DEG_PATH, \n",
    "                       file_name=best_group,\n",
    "                       rdata_path=RDATA_PATH,\n",
    "                       method=METHOD,\n",
    "                       batch_removal=True,\n",
    "                       raw_path = RAW_PATH)\n",
    "    \n",
    "    dea_result.append(deg_list)"
   ]
  },
  {
   "cell_type": "code",
   "execution_count": 40,
   "id": "fa76c54e",
   "metadata": {},
   "outputs": [],
   "source": [
    "# Filter DEA\n",
    "# combine result\n",
    "if METHOD == 'all':\n",
    "    dea_combine = list(map(deseq2_edger_combine, dea_result))\n",
    "    dea_combine = [col_rename(dea_combine[index], index, bestSubgroup) for index in range(len(dea_combine))]\n",
    "    dea_combine = reduce(lambda left, right : pd.merge(left, right, left_on='gene', right_on='gene', how = 'outer'), dea_combine)\n",
    "elif METHOD == 'deseq2' :\n",
    "    dea_combine = list(map(lambda d : d[[\"row\", \"log2FoldChange\"]], dea_result))\n",
    "    dea_combine = [col_rename(dea_combine[index], index, bestSubgroup) for index in range(len(dea_combine))]\n",
    "    dea_combine = reduce(lambda left, right : pd.merge(left, right, left_on='gene', right_on='gene', how = 'inner'), dea_combine)\n",
    "\n",
    "# median & mean\n",
    "dea_combine[\"SubGroup-log2FC_median\"] = dea_combine.iloc[:, 1:].median(axis=1)\n",
    "dea_combine[\"SubGroup-log2FC_mean\"] = dea_combine.iloc[:, 1:].mean(axis=1)"
   ]
  },
  {
   "cell_type": "markdown",
   "id": "273dc0a0",
   "metadata": {},
   "source": [
    "* **NT vs TP DEA(Deseq2)**"
   ]
  },
  {
   "cell_type": "code",
   "execution_count": 11,
   "id": "6571a8c0",
   "metadata": {},
   "outputs": [
    {
     "name": "stdout",
     "output_type": "stream",
     "text": [
      "Number of significant surrogate variables is:  2 \n",
      "Iteration (out of 5 ):1  2  3  4  5  "
     ]
    }
   ],
   "source": [
    "nt_tp_deseq2 = deg_extract_normal(log_fc=0, pvalue=0.25, cancer_type=CANCER_TYPE, \n",
    "                                  rdata_path=RDATA_PATH, deg_path=DEG_PATH, batch_removal=True)\n",
    "\n",
    "nt_tp_deseq2_col = nt_tp_deseq2[['row', 'log2FoldChange', 'pvalue']]\n",
    "nt_tp_deseq2_col.columns = ['gene', 'NT-TP_log2FoldChange', 'pvalue']"
   ]
  },
  {
   "cell_type": "markdown",
   "id": "baf674ff",
   "metadata": {},
   "source": [
    "* **Write Result**"
   ]
  },
  {
   "cell_type": "code",
   "execution_count": 12,
   "id": "a3fa0768",
   "metadata": {},
   "outputs": [],
   "source": [
    "pd.merge(left=dea_combine, right=nt_tp_deseq2_col, left_on='gene', right_on='gene', how = 'left').to_csv('temp.csv', index = False)"
   ]
  }
 ],
 "metadata": {
  "kernelspec": {
   "display_name": "multiomic-cpu",
   "language": "python",
   "name": "multiomics-cpu"
  },
  "language_info": {
   "codemirror_mode": {
    "name": "ipython",
    "version": 3
   },
   "file_extension": ".py",
   "mimetype": "text/x-python",
   "name": "python",
   "nbconvert_exporter": "python",
   "pygments_lexer": "ipython3",
   "version": "3.8.12"
  }
 },
 "nbformat": 4,
 "nbformat_minor": 5
}
