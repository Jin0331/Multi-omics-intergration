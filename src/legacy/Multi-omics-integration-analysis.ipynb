{
 "cells": [
  {
   "cell_type": "markdown",
   "metadata": {},
   "source": [
    "## **Module**"
   ]
  },
  {
   "cell_type": "code",
   "execution_count": 1,
   "metadata": {},
   "outputs": [
    {
     "name": "stderr",
     "output_type": "stream",
     "text": [
      "/home/wmbio/anaconda3/envs/multiomics-cpu/lib/python3.8/site-packages/xgboost/compat.py:36: FutureWarning: pandas.Int64Index is deprecated and will be removed from pandas in a future version. Use pandas.Index with the appropriate dtype instead.\n",
      "  from pandas import MultiIndex, Int64Index\n"
     ]
    }
   ],
   "source": [
    "from wmbio import * "
   ]
  },
  {
   "cell_type": "markdown",
   "metadata": {},
   "source": [
    "## **Best Sub-Group Selection**"
   ]
  },
  {
   "cell_type": "markdown",
   "metadata": {},
   "source": [
    "* **FILE PATH**"
   ]
  },
  {
   "cell_type": "code",
   "execution_count": 10,
   "metadata": {},
   "outputs": [
    {
     "data": {
      "text/plain": [
       "'/home/wmbio/WORK/gitworking/Multi-omics-intergration'"
      ]
     },
     "execution_count": 10,
     "metadata": {},
     "output_type": "execute_result"
    }
   ],
   "source": [
    "os.chdir(\"..\")\n",
    "os.getcwd()"
   ]
  },
  {
   "cell_type": "code",
   "execution_count": 20,
   "metadata": {},
   "outputs": [],
   "source": [
    "# PATH\n",
    "CANCER_TYPE = \"BRCA\"\n",
    "GROUP_PHTH = os.getcwd() + '/group/'\n",
    "PNG_PATH = os.getcwd() + '/png/'\n",
    "GROUP_VALIDATION_PATH = os.getcwd() + '/group_validation/'\n",
    "DEG_PATH = os.getcwd() + \"/best_deg/\"\n",
    "RDATA_PATH = os.getcwd() + \"/RAW_DATA/GDC_PREPARE/\"\n",
    "METHOD = 'deseq2'\n",
    "LOGFC=1\n",
    "FDR=0.05"
   ]
  },
  {
   "cell_type": "code",
   "execution_count": 15,
   "metadata": {},
   "outputs": [],
   "source": [
    "# Load Validation score\n",
    "col=['FILENAME','Log Rank Test','Silhouette','RNA_ANOVA_F1','RNA_RF_F1',\n",
    "     'miRNA_ANOVA_F1','miRNA_RF_F1','Methylation_ANOVA_F1','Methylation_RF_F1']\n",
    "\n",
    "group_score = pd.read_csv(GROUP_VALIDATION_PATH + 'BRCA_validation.csv', usecols=col)\n",
    "\n",
    "# Condition for Filtering\n",
    "filter_cond = (group_score['Silhouette'] >= 0.2) & (group_score['Log Rank Test'] < 0.05) & \\\n",
    "              ((group_score['RNA_ANOVA_F1'] > 80) | (group_score['RNA_RF_F1'] > 80)) & \\\n",
    "              ((group_score['miRNA_ANOVA_F1'] > 80) | (group_score['miRNA_RF_F1'] > 80)) & \\\n",
    "              ((group_score['Methylation_ANOVA_F1'] > 85) | (group_score['Methylation_RF_F1'] > 85))\n",
    "group_score = group_score[filter_cond].sort_values([\"Silhouette\"], ascending = (False))\n",
    "\n",
    "bestSubgroup = group_score.FILENAME.to_list()\n",
    "\n",
    "# 5 fold로 제한.\n",
    "if len(bestSubgroup) > 10:\n",
    "    bestSubgroup = bestSubgroup[:10]"
   ]
  },
  {
   "cell_type": "code",
   "execution_count": 16,
   "metadata": {},
   "outputs": [
    {
     "data": {
      "text/plain": [
       "['20220304-184536',\n",
       " '20220320-011639',\n",
       " '20220320-012539',\n",
       " '20220315-162103',\n",
       " '20220319-160047',\n",
       " '20220320-204635',\n",
       " '20220317-163050',\n",
       " '20220316-221634',\n",
       " '20220311-154105',\n",
       " '20220319-215519']"
      ]
     },
     "execution_count": 16,
     "metadata": {},
     "output_type": "execute_result"
    }
   ],
   "source": [
    "bestSubgroup"
   ]
  },
  {
   "cell_type": "code",
   "execution_count": 25,
   "metadata": {},
   "outputs": [
    {
     "data": {
      "text/plain": [
       "'deseq2'"
      ]
     },
     "execution_count": 25,
     "metadata": {},
     "output_type": "execute_result"
    }
   ],
   "source": [
    "METHOD"
   ]
  },
  {
   "cell_type": "code",
   "execution_count": 33,
   "metadata": {},
   "outputs": [],
   "source": [
    "DEG_CHECK = \"_\".join([CANCER_TYPE, METHOD.upper(), bestSubgroup[0]]) + \".txt\""
   ]
  },
  {
   "cell_type": "code",
   "execution_count": 32,
   "metadata": {},
   "outputs": [
    {
     "data": {
      "text/plain": [
       "'/home/wmbio/WORK/gitworking/Multi-omics-intergration/best_deg/BRCA'"
      ]
     },
     "execution_count": 32,
     "metadata": {},
     "output_type": "execute_result"
    }
   ],
   "source": [
    "DEG_PATH + CANCER_TYPE"
   ]
  },
  {
   "cell_type": "code",
   "execution_count": 34,
   "metadata": {},
   "outputs": [
    {
     "data": {
      "text/plain": [
       "True"
      ]
     },
     "execution_count": 34,
     "metadata": {},
     "output_type": "execute_result"
    }
   ],
   "source": [
    "os.path.isfile(DEG_PATH + CANCER_TYPE + \"/\" + DEG_CHECK) "
   ]
  },
  {
   "cell_type": "code",
   "execution_count": 37,
   "metadata": {},
   "outputs": [
    {
     "data": {
      "text/html": [
       "<div>\n",
       "<style scoped>\n",
       "    .dataframe tbody tr th:only-of-type {\n",
       "        vertical-align: middle;\n",
       "    }\n",
       "\n",
       "    .dataframe tbody tr th {\n",
       "        vertical-align: top;\n",
       "    }\n",
       "\n",
       "    .dataframe thead th {\n",
       "        text-align: right;\n",
       "    }\n",
       "</style>\n",
       "<table border=\"1\" class=\"dataframe\">\n",
       "  <thead>\n",
       "    <tr style=\"text-align: right;\">\n",
       "      <th></th>\n",
       "      <th>row</th>\n",
       "      <th>baseMean</th>\n",
       "      <th>log2FoldChange</th>\n",
       "      <th>lfcSE</th>\n",
       "      <th>stat</th>\n",
       "      <th>pvalue</th>\n",
       "      <th>padj</th>\n",
       "    </tr>\n",
       "  </thead>\n",
       "  <tbody>\n",
       "    <tr>\n",
       "      <th>0</th>\n",
       "      <td>NAT1</td>\n",
       "      <td>7705.240699</td>\n",
       "      <td>-1.970460</td>\n",
       "      <td>0.123975</td>\n",
       "      <td>-15.893965</td>\n",
       "      <td>6.977178e-57</td>\n",
       "      <td>2.133698e-55</td>\n",
       "    </tr>\n",
       "    <tr>\n",
       "      <th>1</th>\n",
       "      <td>ABAT</td>\n",
       "      <td>3844.197065</td>\n",
       "      <td>-1.509023</td>\n",
       "      <td>0.088463</td>\n",
       "      <td>-17.058272</td>\n",
       "      <td>3.033971e-65</td>\n",
       "      <td>1.448235e-63</td>\n",
       "    </tr>\n",
       "    <tr>\n",
       "      <th>2</th>\n",
       "      <td>ABP1</td>\n",
       "      <td>223.403991</td>\n",
       "      <td>2.124583</td>\n",
       "      <td>0.173080</td>\n",
       "      <td>12.275169</td>\n",
       "      <td>1.231349e-34</td>\n",
       "      <td>1.168056e-33</td>\n",
       "    </tr>\n",
       "    <tr>\n",
       "      <th>3</th>\n",
       "      <td>ACACB</td>\n",
       "      <td>1572.979236</td>\n",
       "      <td>-1.043797</td>\n",
       "      <td>0.083287</td>\n",
       "      <td>-12.532482</td>\n",
       "      <td>4.958604e-36</td>\n",
       "      <td>5.051196e-35</td>\n",
       "    </tr>\n",
       "    <tr>\n",
       "      <th>4</th>\n",
       "      <td>ACADSB</td>\n",
       "      <td>6202.049094</td>\n",
       "      <td>-1.045333</td>\n",
       "      <td>0.072554</td>\n",
       "      <td>-14.407596</td>\n",
       "      <td>4.635650e-47</td>\n",
       "      <td>8.597601e-46</td>\n",
       "    </tr>\n",
       "    <tr>\n",
       "      <th>...</th>\n",
       "      <td>...</td>\n",
       "      <td>...</td>\n",
       "      <td>...</td>\n",
       "      <td>...</td>\n",
       "      <td>...</td>\n",
       "      <td>...</td>\n",
       "      <td>...</td>\n",
       "    </tr>\n",
       "    <tr>\n",
       "      <th>1085</th>\n",
       "      <td>FAM72A</td>\n",
       "      <td>102.879465</td>\n",
       "      <td>1.363876</td>\n",
       "      <td>0.085020</td>\n",
       "      <td>16.041873</td>\n",
       "      <td>6.515904e-58</td>\n",
       "      <td>2.086911e-56</td>\n",
       "    </tr>\n",
       "    <tr>\n",
       "      <th>1086</th>\n",
       "      <td>SNORD116-28</td>\n",
       "      <td>75.248228</td>\n",
       "      <td>-1.133515</td>\n",
       "      <td>0.095882</td>\n",
       "      <td>-11.822042</td>\n",
       "      <td>3.002945e-32</td>\n",
       "      <td>2.491524e-31</td>\n",
       "    </tr>\n",
       "    <tr>\n",
       "      <th>1087</th>\n",
       "      <td>FAM47E</td>\n",
       "      <td>313.735255</td>\n",
       "      <td>-1.146521</td>\n",
       "      <td>0.072873</td>\n",
       "      <td>-15.733168</td>\n",
       "      <td>8.961300e-56</td>\n",
       "      <td>2.586446e-54</td>\n",
       "    </tr>\n",
       "    <tr>\n",
       "      <th>1088</th>\n",
       "      <td>GAGE12D</td>\n",
       "      <td>261.656401</td>\n",
       "      <td>6.809779</td>\n",
       "      <td>0.947321</td>\n",
       "      <td>7.188461</td>\n",
       "      <td>6.552555e-13</td>\n",
       "      <td>1.896002e-12</td>\n",
       "    </tr>\n",
       "    <tr>\n",
       "      <th>1089</th>\n",
       "      <td>C17orf96</td>\n",
       "      <td>538.030855</td>\n",
       "      <td>1.238523</td>\n",
       "      <td>0.093700</td>\n",
       "      <td>13.217932</td>\n",
       "      <td>6.913836e-40</td>\n",
       "      <td>8.587803e-39</td>\n",
       "    </tr>\n",
       "  </tbody>\n",
       "</table>\n",
       "<p>1090 rows × 7 columns</p>\n",
       "</div>"
      ],
      "text/plain": [
       "              row     baseMean  log2FoldChange     lfcSE       stat  \\\n",
       "0            NAT1  7705.240699       -1.970460  0.123975 -15.893965   \n",
       "1            ABAT  3844.197065       -1.509023  0.088463 -17.058272   \n",
       "2            ABP1   223.403991        2.124583  0.173080  12.275169   \n",
       "3           ACACB  1572.979236       -1.043797  0.083287 -12.532482   \n",
       "4          ACADSB  6202.049094       -1.045333  0.072554 -14.407596   \n",
       "...           ...          ...             ...       ...        ...   \n",
       "1085       FAM72A   102.879465        1.363876  0.085020  16.041873   \n",
       "1086  SNORD116-28    75.248228       -1.133515  0.095882 -11.822042   \n",
       "1087       FAM47E   313.735255       -1.146521  0.072873 -15.733168   \n",
       "1088      GAGE12D   261.656401        6.809779  0.947321   7.188461   \n",
       "1089     C17orf96   538.030855        1.238523  0.093700  13.217932   \n",
       "\n",
       "            pvalue          padj  \n",
       "0     6.977178e-57  2.133698e-55  \n",
       "1     3.033971e-65  1.448235e-63  \n",
       "2     1.231349e-34  1.168056e-33  \n",
       "3     4.958604e-36  5.051196e-35  \n",
       "4     4.635650e-47  8.597601e-46  \n",
       "...            ...           ...  \n",
       "1085  6.515904e-58  2.086911e-56  \n",
       "1086  3.002945e-32  2.491524e-31  \n",
       "1087  8.961300e-56  2.586446e-54  \n",
       "1088  6.552555e-13  1.896002e-12  \n",
       "1089  6.913836e-40  8.587803e-39  \n",
       "\n",
       "[1090 rows x 7 columns]"
      ]
     },
     "execution_count": 37,
     "metadata": {},
     "output_type": "execute_result"
    }
   ],
   "source": [
    "pd.read_csv(DEG_PATH + CANCER_TYPE + \"/\" + DEG_CHECK, sep = \"\\t\")"
   ]
  },
  {
   "cell_type": "code",
   "execution_count": 38,
   "metadata": {},
   "outputs": [],
   "source": [
    "# DEA\n",
    "dea_result = list()\n",
    "for best_group in bestSubgroup:\n",
    "    \n",
    "    DEG_CHECK = \"_\".join([CANCER_TYPE, METHOD.upper(), best_group]) + \".txt\"\n",
    "    SAMPLE_GROUP = GROUP_PHTH + CANCER_TYPE + \"/\" + CANCER_TYPE + \"_GROUP_\" + best_group + \".txt\"\n",
    "    \n",
    "    if os.path.isfile(DEG_PATH + CANCER_TYPE + \"/\" + DEG_CHECK):\n",
    "        deg_list = pd.read_csv(DEG_PATH + CANCER_TYPE + \"/\" + DEG_CHECK, sep = \"\\t\")\n",
    "    else :\n",
    "        # DEG Extraction\n",
    "        deg_list = deg_extract(log_fc=LOGFC, fdr=FDR,\n",
    "                       cancer_type=CANCER_TYPE, \n",
    "                       sample_group=SAMPLE_GROUP, deg_path=DEG_PATH, \n",
    "                       file_name=best_group,\n",
    "                       rdata_path=RDATA_PATH,\n",
    "                       method=METHOD,\n",
    "                       batch_removal=True)\n",
    "    \n",
    "    dea_result.append(deg_list)"
   ]
  },
  {
   "cell_type": "code",
   "execution_count": 40,
   "metadata": {},
   "outputs": [],
   "source": [
    "# Filter DEA\n",
    "# combine result\n",
    "if METHOD == 'all':\n",
    "    dea_combine = list(map(deseq2_edger_combine, dea_result))\n",
    "    dea_combine = [col_rename(dea_combine[index], index, bestSubgroup) for index in range(len(dea_combine))]\n",
    "    dea_combine = reduce(lambda left, right : pd.merge(left, right, left_on='gene', right_on='gene', how = 'outer'), dea_combine)\n",
    "elif METHOD == 'deseq2' :\n",
    "    dea_combine = list(map(lambda d : d[[\"row\", \"log2FoldChange\"]], dea_result))\n",
    "    dea_combine = [col_rename(dea_combine[index], index, bestSubgroup) for index in range(len(dea_combine))]\n",
    "    dea_combine = reduce(lambda left, right : pd.merge(left, right, left_on='gene', right_on='gene', how = 'inner'), dea_combine)\n",
    "\n",
    "# median & mean\n",
    "dea_combine[\"SubGroup-log2FC_median\"] = dea_combine.iloc[:, 1:].median(axis=1)\n",
    "dea_combine[\"SubGroup-log2FC_mean\"] = dea_combine.iloc[:, 1:].mean(axis=1)"
   ]
  },
  {
   "cell_type": "markdown",
   "metadata": {},
   "source": [
    "* **NT vs TP DEA(Deseq2)**"
   ]
  },
  {
   "cell_type": "code",
   "execution_count": 11,
   "metadata": {},
   "outputs": [
    {
     "name": "stdout",
     "output_type": "stream",
     "text": [
      "Number of significant surrogate variables is:  2 \n",
      "Iteration (out of 5 ):1  2  3  4  5  "
     ]
    }
   ],
   "source": [
    "nt_tp_deseq2 = deg_extract_normal(log_fc=0, pvalue=0.25, cancer_type=CANCER_TYPE, \n",
    "                                  rdata_path=RDATA_PATH, deg_path=DEG_PATH, batch_removal=True)\n",
    "\n",
    "nt_tp_deseq2_col = nt_tp_deseq2[['row', 'log2FoldChange', 'pvalue']]\n",
    "nt_tp_deseq2_col.columns = ['gene', 'NT-TP_log2FoldChange', 'pvalue']"
   ]
  },
  {
   "cell_type": "markdown",
   "metadata": {},
   "source": [
    "* **Write Result**"
   ]
  },
  {
   "cell_type": "code",
   "execution_count": 12,
   "metadata": {},
   "outputs": [],
   "source": [
    "pd.merge(left=dea_combine, right=nt_tp_deseq2_col, left_on='gene', right_on='gene', how = 'left').to_csv('temp.csv', index = False)"
   ]
  }
 ],
 "metadata": {
  "kernelspec": {
   "display_name": "multiomic-cpu",
   "language": "python",
   "name": "multiomics-cpu"
  },
  "language_info": {
   "codemirror_mode": {
    "name": "ipython",
    "version": 3
   },
   "file_extension": ".py",
   "mimetype": "text/x-python",
   "name": "python",
   "nbconvert_exporter": "python",
   "pygments_lexer": "ipython3",
   "version": "3.8.12"
  }
 },
 "nbformat": 4,
 "nbformat_minor": 5
}
