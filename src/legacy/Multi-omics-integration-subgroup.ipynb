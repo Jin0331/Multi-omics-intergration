{
 "cells": [
  {
   "cell_type": "code",
   "execution_count": 1,
   "id": "6c984962",
   "metadata": {
    "tags": []
   },
   "outputs": [
    {
     "name": "stderr",
     "output_type": "stream",
     "text": [
      "/home/wmbio/anaconda3/envs/multiomics-cpu/lib/python3.8/site-packages/xgboost/compat.py:36: FutureWarning: pandas.Int64Index is deprecated and will be removed from pandas in a future version. Use pandas.Index with the appropriate dtype instead.\n",
      "  from pandas import MultiIndex, Int64Index\n"
     ]
    }
   ],
   "source": [
    "from wmbio import * "
   ]
  },
  {
   "cell_type": "markdown",
   "id": "523308b5",
   "metadata": {},
   "source": [
    "## **Preprocessing**"
   ]
  },
  {
   "cell_type": "markdown",
   "id": "c359d0f4",
   "metadata": {
    "tags": []
   },
   "source": [
    "### **File Path**"
   ]
  },
  {
   "cell_type": "code",
   "execution_count": 5,
   "id": "59d755ea",
   "metadata": {},
   "outputs": [
    {
     "data": {
      "text/plain": [
       "'/home/wmbio/WORK/gitworking/Multi-omics-intergration'"
      ]
     },
     "execution_count": 5,
     "metadata": {},
     "output_type": "execute_result"
    }
   ],
   "source": [
    "os.chdir(\"..\")\n",
    "os.getcwd()"
   ]
  },
  {
   "cell_type": "code",
   "execution_count": 6,
   "id": "f63a4347",
   "metadata": {
    "tags": []
   },
   "outputs": [],
   "source": [
    "CANCER_TYPE = \"COAD\"\n",
    "RAW_file_path = os.getcwd() + \"/RAW_DATA/\"\n",
    "PKL_file_path = os.getcwd() + \"/pkl/\"\n",
    "MODEL_PATH = os.getcwd() + \"/models/\"\n",
    "TENSORBOARD_PATH = os.getcwd() + '/log'\n",
    "GROUP_PHTH = os.getcwd() + '/group/'\n",
    "PNG_PATH = os.getcwd() + '/png/'\n",
    "GROUP_VALIDATION_PATH = os.getcwd() + '/group_validation/'\n",
    "DEG_PATH = os.getcwd() + \"/deg/\"\n",
    "CYCLE = 1"
   ]
  },
  {
   "cell_type": "markdown",
   "id": "16418cfe",
   "metadata": {},
   "source": [
    "* **Data-Load**"
   ]
  },
  {
   "cell_type": "code",
   "execution_count": 7,
   "id": "d81ac425",
   "metadata": {},
   "outputs": [
    {
     "data": {
      "image/png": "[encoded data removed]",
      "text/plain": [
       "<Figure size 432x288 with 1 Axes>"
      ]
     },
     "metadata": {},
     "output_type": "display_data"
    }
   ],
   "source": [
    "omics = load_tcga_dataset(pkl_path=PKL_file_path, raw_path=RAW_file_path, cancer_type=CANCER_TYPE, norm=True)\n",
    "X_train, X_test = train_test_split(omics, test_size = .2, random_state = 21, shuffle=True)"
   ]
  },
  {
   "cell_type": "markdown",
   "id": "4c27aef9",
   "metadata": {
    "tags": []
   },
   "source": [
    "## **Best Auto-Encoder & K-Mean Clustering**"
   ]
  },
  {
   "cell_type": "code",
   "execution_count": 9,
   "id": "eb2e4abe-b6eb-4b22-878b-3cca676ff88a",
   "metadata": {
    "tags": []
   },
   "outputs": [
    {
     "name": "stdout",
     "output_type": "stream",
     "text": [
      "20220323-083514\n"
     ]
    }
   ],
   "source": [
    "# for _ in range(CYCLE):\n",
    "log_pvalue_l, silhouette_score_l, rna_anovar_f1, rna_rf_f1 = [], [], [], []\n",
    "mirna_anovar_f1, mirna_rf_f1, mt_anovar_f1, mt_rf_f1 = [], [], [], []\n",
    "file_name = []\n",
    "\n",
    "FILE_NAME = datetime.datetime.now().strftime(\"%Y%m%d-%H%M%S\")\n",
    "#SAMPLE_GROUP = GROUP_PHTH + CANCER_TYPE + \"_GROUP_\" + FILE_NAME + \".txt\"\n",
    "file_name.append(FILE_NAME)\n",
    "print(FILE_NAME)"
   ]
  },
  {
   "cell_type": "code",
   "execution_count": 10,
   "id": "641e037a-35d0-431f-93c9-ac9b78f533eb",
   "metadata": {
    "tags": []
   },
   "outputs": [],
   "source": [
    "## AE(vanilla, sparse, denoisy) - Model compile & Fit\n",
    "encoder_vanilla = run_ae(X_train=X_train, X_test=X_test, tensorboard_path=TENSORBOARD_PATH)\n",
    "encoder_sparse = run_ae_sparse(X_train=X_train, X_test=X_test, tensorboard_path=TENSORBOARD_PATH)\n",
    "encoder_denoisy = run_ae_denoisy(X_train=X_train, X_test=X_test, tensorboard_path=TENSORBOARD_PATH)"
   ]
  },
  {
   "cell_type": "code",
   "execution_count": 11,
   "id": "760e950c-118d-4e12-a715-d9fda43a24a6",
   "metadata": {
    "tags": []
   },
   "outputs": [
    {
     "name": "stdout",
     "output_type": "stream",
     "text": [
      "INFO:tensorflow:Assets written to: /home/wmbio/WORK/gitworking/Multi-omics-intergration/models/COAD/AE_encoder_vanilla_COAD_20220323-083514/assets\n",
      "Best AE : encoder_vanilla\n",
      "Silhouette score : 0.236\n"
     ]
    }
   ],
   "source": [
    "group, silhouette_score = best_ae_model(model_list=[encoder_vanilla, encoder_sparse, encoder_denoisy], o=omics,\n",
    "              group_path=GROUP_PHTH, model_path=MODEL_PATH, cancer_type=CANCER_TYPE, raw_path=RAW_file_path, file_name=FILE_NAME)"
   ]
  },
  {
   "cell_type": "code",
   "execution_count": 5,
   "id": "fc6979ab-2e12-4808-9bc0-96c97b65de67",
   "metadata": {
    "tags": []
   },
   "outputs": [
    {
     "name": "stdout",
     "output_type": "stream",
     "text": [
      "20220223-100040\n",
      "INFO:tensorflow:Assets written to: /home/wmbio/WORK/gitworking/Multi-omics-intergration/models/COAD/AE_encoder_denoisy_COAD_20220223-100040/assets\n",
      "Best AE : encoder_denoisy\n",
      "Silhouette score : 0.3471\n"
     ]
    },
    {
     "data": {
      "image/png": "[encoded data removed]",
      "text/plain": [
       "<Figure size 360x360 with 1 Axes>"
      ]
     },
     "metadata": {
      "needs_background": "light"
     },
     "output_type": "display_data"
    }
   ],
   "source": [
    "## Sub-group Evalutation\n",
    "### load preprocess data\n",
    "omics_preprocess = load_preprocess_tcga_dataset(pkl_path=PKL_file_path, raw_path=RAW_file_path, group=group, norm=True, \n",
    "                                               cancer_type=CANCER_TYPE)\n",
    "\n",
    "### Feature Selection(Anova, RandomForest) for SVM\n",
    "feature_result = feature_selection_svm(data_type=[\"rna\", \"mirna\", \"mt\"], o=omics_preprocess)\n",
    "\n",
    "### Survival Analysis - logranktest\n",
    "log_pvalue = log_rank_test(df=omics_preprocess[\"omics\"], png_path=PNG_PATH, file_name=FILE_NAME)\n",
    "\n",
    "### Score\n",
    "log_pvalue_l.append(log_pvalue)\n",
    "silhouette_score_l.append(silhouette_score)\n",
    "\n",
    "rna_anovar_f1.append(feature_result[\"rna\"][0][2])\n",
    "rna_rf_f1.append(feature_result[\"rna\"][1][2])\n",
    "\n",
    "mirna_anovar_f1.append(feature_result[\"mirna\"][0][2])\n",
    "mirna_rf_f1.append(feature_result[\"mirna\"][1][2])\n",
    "\n",
    "mt_anovar_f1.append(feature_result[\"mt\"][0][2])\n",
    "mt_rf_f1.append(feature_result[\"mt\"][1][2])\n",
    "\n",
    "# session clear\n",
    "gc.collect()\n",
    "\n",
    "# Write Score DF\n",
    "score_df = pd.DataFrame({\n",
    "'FILENAME' : file_name,\n",
    "'Log Rank Test' : log_pvalue_l,\n",
    "'Silhouette' : silhouette_score_l,\n",
    "'RNA_ANOVA_F1' : rna_anovar_f1,\n",
    "'RNA_RF_F1' : rna_rf_f1,\n",
    "'miRNA_ANOVA_F1' : mirna_anovar_f1,\n",
    "'miRNA_RF_F1' : mirna_rf_f1,\n",
    "'Methylation_ANOVA_F1' : mt_anovar_f1,\n",
    "'Methylation_RF_F1' : mt_rf_f1\n",
    "})\n",
    "\n",
    "# score table\n",
    "if not os.path.exists(GROUP_VALIDATION_PATH):\n",
    "    Path(GROUP_VALIDATION_PATH).mkdir(parents=True, exist_ok=True)\n",
    "    score_df.to_csv(GROUP_VALIDATION_PATH + \"test_validation.csv\", index=False, mode='w')\n",
    "else:\n",
    "    score_df.to_csv(GROUP_VALIDATION_PATH + \"test_validation.csv\", index=False, mode='a', header=False)"
   ]
  },
  {
   "cell_type": "code",
   "execution_count": null,
   "id": "330dabe4",
   "metadata": {},
   "outputs": [],
   "source": []
  },
  {
   "cell_type": "code",
   "execution_count": 8,
   "id": "78244128",
   "metadata": {},
   "outputs": [
    {
     "name": "stdout",
     "output_type": "stream",
     "text": [
      "20220308-131334\n",
      "INFO:tensorflow:Assets written to: /home/wmbio/WORK/gitworking/Multi-omics-intergration/models/BRCA/AE_encoder_denoisy_BRCA_20220308-131334/assets\n",
      "Best AE : encoder_denoisy\n",
      "Silhouette score : 0.2192\n"
     ]
    }
   ],
   "source": [
    "log_pvalue_l, silhouette_score_l, rna_anovar_f1, rna_rf_f1 = [], [], [], []\n",
    "mirna_anovar_f1, mirna_rf_f1, mt_anovar_f1, mt_rf_f1 = [], [], [], []\n",
    "file_name = []\n",
    "\n",
    "FILE_NAME = datetime.datetime.now().strftime(\"%Y%m%d-%H%M%S\")\n",
    "#SAMPLE_GROUP = GROUP_PHTH + CANCER_TYPE + \"_GROUP_\" + FILE_NAME + \".txt\"\n",
    "file_name.append(FILE_NAME)\n",
    "print(FILE_NAME)\n",
    "\n",
    "## AE(vanilla, sparse, denoisy) - Model compile & Fit\n",
    "encoder_vanilla = run_ae(X_train=X_train, X_test=X_test, tensorboard_path=TENSORBOARD_PATH)\n",
    "encoder_sparse = run_ae_sparse(X_train=X_train, X_test=X_test, tensorboard_path=TENSORBOARD_PATH)\n",
    "encoder_denoisy = run_ae_denoisy(X_train=X_train, X_test=X_test, tensorboard_path=TENSORBOARD_PATH)\n",
    "\n",
    "group, silhouette_score = best_ae_model(model_list=[encoder_vanilla, encoder_sparse, encoder_denoisy], o=omics,\n",
    "              group_path=GROUP_PHTH, model_path=MODEL_PATH, cancer_type=CANCER_TYPE, file_name=FILE_NAME)"
   ]
  },
  {
   "cell_type": "code",
   "execution_count": 9,
   "id": "3bdb093d",
   "metadata": {},
   "outputs": [
    {
     "name": "stderr",
     "output_type": "stream",
     "text": [
      "Exception ignored in: <function WeakKeyDictionary.__init__.<locals>.remove at 0x7fc75f734940>\n",
      "Traceback (most recent call last):\n",
      "  File \"/home/wmbio/anaconda3/envs/multiomics-cpu/lib/python3.8/weakref.py\", line 345, in remove\n",
      "KeyboardInterrupt: \n",
      "\n",
      "KeyboardInterrupt\n",
      "\n",
      "R[write to console]: There were 48 warnings (use warnings() to see them)\n",
      "R[write to console]: \n",
      "\n"
     ]
    }
   ],
   "source": [
    "## Sub-group Evalutation\n",
    "### load preprocess data\n",
    "omics_preprocess = load_preprocess_tcga_dataset(pkl_path=PKL_file_path, raw_path=RAW_file_path, group=group, norm=True, \n",
    "                                               cancer_type=CANCER_TYPE)\n",
    "\n",
    "### Feature Selection(Anova, RandomForest) for SVM\n",
    "feature_result = feature_selection_svm(data_type=[\"rna\", \"mirna\", \"mt\"], o=omics_preprocess)\n",
    "\n",
    "### Survival Analysis - logranktest\n",
    "log_pvalue = log_rank_test(df=omics_preprocess[\"omics\"], png_path=PNG_PATH, file_name=FILE_NAME)\n",
    "\n",
    "### Score\n",
    "log_pvalue_l.append(log_pvalue)\n",
    "silhouette_score_l.append(silhouette_score)\n",
    "\n",
    "rna_anovar_f1.append(feature_result[\"rna\"][0][2])\n",
    "rna_rf_f1.append(feature_result[\"rna\"][1][2])\n",
    "\n",
    "mirna_anovar_f1.append(feature_result[\"mirna\"][0][2])\n",
    "mirna_rf_f1.append(feature_result[\"mirna\"][1][2])\n",
    "\n",
    "mt_anovar_f1.append(feature_result[\"mt\"][0][2])\n",
    "mt_rf_f1.append(feature_result[\"mt\"][1][2])\n",
    "\n",
    "# session clear\n",
    "gc.collect()\n",
    "\n",
    "# Write Score DF\n",
    "score_df = pd.DataFrame({\n",
    "'FILENAME' : file_name,\n",
    "'Log Rank Test' : log_pvalue_l,\n",
    "'Silhouette' : silhouette_score_l,\n",
    "'RNA_ANOVA_F1' : rna_anovar_f1,\n",
    "'RNA_RF_F1' : rna_rf_f1,\n",
    "'miRNA_ANOVA_F1' : mirna_anovar_f1,\n",
    "'miRNA_RF_F1' : mirna_rf_f1,\n",
    "'Methylation_ANOVA_F1' : mt_anovar_f1,\n",
    "'Methylation_RF_F1' : mt_rf_f1\n",
    "})\n",
    "\n",
    "# # score table\n",
    "# if not os.path.exists(GROUP_VALIDATION_PATH):\n",
    "#     Path(GROUP_VALIDATION_PATH).mkdir(parents=True, exist_ok=True)\n",
    "#     score_df.to_csv(GROUP_VALIDATION_PATH + \"test_validation.csv\", index=False, mode='w')\n",
    "# else:\n",
    "#     score_df.to_csv(GROUP_VALIDATION_PATH + \"test_validation.csv\", index=False, mode='a', header=False)"
   ]
  },
  {
   "cell_type": "code",
   "execution_count": null,
   "id": "a8a8c6f2",
   "metadata": {},
   "outputs": [],
   "source": []
  },
  {
   "cell_type": "code",
   "execution_count": null,
   "id": "93b06087",
   "metadata": {},
   "outputs": [],
   "source": []
  },
  {
   "cell_type": "code",
   "execution_count": null,
   "id": "fe143792",
   "metadata": {},
   "outputs": [],
   "source": []
  },
  {
   "cell_type": "code",
   "execution_count": null,
   "id": "7ce5da38",
   "metadata": {},
   "outputs": [],
   "source": []
  }
 ],
 "metadata": {
  "kernelspec": {
   "display_name": "multiomic-cpu",
   "language": "python",
   "name": "multiomics-cpu"
  },
  "language_info": {
   "codemirror_mode": {
    "name": "ipython",
    "version": 3
   },
   "file_extension": ".py",
   "mimetype": "text/x-python",
   "name": "python",
   "nbconvert_exporter": "python",
   "pygments_lexer": "ipython3",
   "version": "3.8.12"
  }
 },
 "nbformat": 4,
 "nbformat_minor": 5
}
