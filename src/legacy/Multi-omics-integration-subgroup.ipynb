{
 "cells": [
  {
   "cell_type": "code",
   "execution_count": 1,
   "metadata": {
    "tags": []
   },
   "outputs": [
    {
     "name": "stderr",
     "output_type": "stream",
     "text": [
      "/home/wmbio/anaconda3/envs/multiomics-cpu/lib/python3.8/site-packages/xgboost/compat.py:36: FutureWarning: pandas.Int64Index is deprecated and will be removed from pandas in a future version. Use pandas.Index with the appropriate dtype instead.\n",
      "  from pandas import MultiIndex, Int64Index\n"
     ]
    }
   ],
   "source": [
    "from wmbio import * "
   ]
  },
  {
   "cell_type": "markdown",
   "metadata": {},
   "source": [
    "## **Preprocessing**"
   ]
  },
  {
   "cell_type": "markdown",
   "metadata": {
    "tags": []
   },
   "source": [
    "### **File Path**"
   ]
  },
  {
   "cell_type": "code",
   "execution_count": 3,
   "metadata": {},
   "outputs": [
    {
     "data": {
      "text/plain": [
       "'/home/wmbio/WORK/gitworking/Multi-omics-intergration'"
      ]
     },
     "execution_count": 3,
     "metadata": {},
     "output_type": "execute_result"
    }
   ],
   "source": [
    "os.chdir(\"..\")\n",
    "os.getcwd()"
   ]
  },
  {
   "cell_type": "code",
   "execution_count": 4,
   "metadata": {
    "tags": []
   },
   "outputs": [],
   "source": [
    "CANCER_TYPE = \"BRCA\"\n",
    "RAW_file_path = os.getcwd() + \"/RAW_DATA/\"\n",
    "PKL_file_path = os.getcwd() + \"/pkl/\"\n",
    "MODEL_PATH = os.getcwd() + \"/models/\"\n",
    "TENSORBOARD_PATH = os.getcwd() + '/log'\n",
    "GROUP_PHTH = os.getcwd() + '/group/'\n",
    "PNG_PATH = os.getcwd() + '/png/'\n",
    "GROUP_VALIDATION_PATH = os.getcwd() + '/group_validation/'\n",
    "DEG_PATH = os.getcwd() + \"/deg/\"\n",
    "CYCLE = 1"
   ]
  },
  {
   "cell_type": "markdown",
   "metadata": {},
   "source": [
    "* **Data-Load**"
   ]
  },
  {
   "cell_type": "code",
   "execution_count": 5,
   "metadata": {},
   "outputs": [
    {
     "data": {
      "image/png": "[encoded data removed]",
      "text/plain": [
       "<Figure size 432x288 with 1 Axes>"
      ]
     },
     "metadata": {},
     "output_type": "display_data"
    }
   ],
   "source": [
    "omics = load_tcga_dataset(pkl_path=PKL_file_path, raw_path=RAW_file_path, cancer_type=CANCER_TYPE, norm=True)\n",
    "X_train, X_test = train_test_split(omics, test_size = .2, random_state = 21, shuffle=True)"
   ]
  },
  {
   "cell_type": "markdown",
   "metadata": {
    "tags": []
   },
   "source": [
    "## **Best Auto-Encoder & K-Mean Clustering**"
   ]
  },
  {
   "cell_type": "code",
   "execution_count": 5,
   "metadata": {
    "tags": []
   },
   "outputs": [
    {
     "name": "stdout",
     "output_type": "stream",
     "text": [
      "20220223-100040\n",
      "INFO:tensorflow:Assets written to: /home/wmbio/WORK/gitworking/Multi-omics-intergration/models/COAD/AE_encoder_denoisy_COAD_20220223-100040/assets\n",
      "Best AE : encoder_denoisy\n",
      "Silhouette score : 0.3471\n"
     ]
    },
    {
     "data": {
      "image/png": "[encoded data removed]",
      "text/plain": [
       "<Figure size 360x360 with 1 Axes>"
      ]
     },
     "metadata": {
      "needs_background": "light"
     },
     "output_type": "display_data"
    }
   ],
   "source": [
    "for _ in range(CYCLE):\n",
    "    log_pvalue_l, silhouette_score_l, rna_anovar_f1, rna_rf_f1 = [], [], [], []\n",
    "    mirna_anovar_f1, mirna_rf_f1, mt_anovar_f1, mt_rf_f1 = [], [], [], []\n",
    "    file_name = []\n",
    "    \n",
    "    FILE_NAME = datetime.datetime.now().strftime(\"%Y%m%d-%H%M%S\")\n",
    "    #SAMPLE_GROUP = GROUP_PHTH + CANCER_TYPE + \"_GROUP_\" + FILE_NAME + \".txt\"\n",
    "    file_name.append(FILE_NAME)\n",
    "    print(FILE_NAME)\n",
    "    \n",
    "    ## AE(vanilla, sparse, denoisy) - Model compile & Fit\n",
    "    encoder_vanilla = run_ae(X_train=X_train, X_test=X_test, tensorboard_path=TENSORBOARD_PATH)\n",
    "    encoder_sparse = run_ae_sparse(X_train=X_train, X_test=X_test, tensorboard_path=TENSORBOARD_PATH)\n",
    "    encoder_denoisy = run_ae_denoisy(X_train=X_train, X_test=X_test, tensorboard_path=TENSORBOARD_PATH)\n",
    "\n",
    "    group, silhouette_score = best_ae_model(model_list=[encoder_vanilla, encoder_sparse, encoder_denoisy], o=omics,\n",
    "                  group_path=GROUP_PHTH, model_path=MODEL_PATH, cancer_type=CANCER_TYPE, file_name=FILE_NAME)\n",
    "\n",
    "    ## Sub-group Evalutation\n",
    "    ### load preprocess data\n",
    "    omics_preprocess = load_preprocess_tcga_dataset(pkl_path=PKL_file_path, raw_path=RAW_file_path, group=group, norm=True, \n",
    "                                                   cancer_type=CANCER_TYPE)\n",
    "\n",
    "    ### Feature Selection(Anova, RandomForest) for SVM\n",
    "    feature_result = feature_selection_svm(data_type=[\"rna\", \"mirna\", \"mt\"], o=omics_preprocess)\n",
    "\n",
    "    ### Survival Analysis - logranktest\n",
    "    log_pvalue = log_rank_test(df=omics_preprocess[\"omics\"], png_path=PNG_PATH, file_name=FILE_NAME)\n",
    "\n",
    "    ### Score\n",
    "    log_pvalue_l.append(log_pvalue)\n",
    "    silhouette_score_l.append(silhouette_score)\n",
    "\n",
    "    rna_anovar_f1.append(feature_result[\"rna\"][0][2])\n",
    "    rna_rf_f1.append(feature_result[\"rna\"][1][2])\n",
    "\n",
    "    mirna_anovar_f1.append(feature_result[\"mirna\"][0][2])\n",
    "    mirna_rf_f1.append(feature_result[\"mirna\"][1][2])\n",
    "\n",
    "    mt_anovar_f1.append(feature_result[\"mt\"][0][2])\n",
    "    mt_rf_f1.append(feature_result[\"mt\"][1][2])\n",
    "    \n",
    "    # session clear\n",
    "    gc.collect()\n",
    "    \n",
    "    # Write Score DF\n",
    "    score_df = pd.DataFrame({\n",
    "    'FILENAME' : file_name,\n",
    "    'Log Rank Test' : log_pvalue_l,\n",
    "    'Silhouette' : silhouette_score_l,\n",
    "    'RNA_ANOVA_F1' : rna_anovar_f1,\n",
    "    'RNA_RF_F1' : rna_rf_f1,\n",
    "    'miRNA_ANOVA_F1' : mirna_anovar_f1,\n",
    "    'miRNA_RF_F1' : mirna_rf_f1,\n",
    "    'Methylation_ANOVA_F1' : mt_anovar_f1,\n",
    "    'Methylation_RF_F1' : mt_rf_f1\n",
    "    })\n",
    "\n",
    "    # score table\n",
    "    if not os.path.exists(GROUP_VALIDATION_PATH):\n",
    "        Path(GROUP_VALIDATION_PATH).mkdir(parents=True, exist_ok=True)\n",
    "        score_df.to_csv(GROUP_VALIDATION_PATH + \"test_validation.csv\", index=False, mode='w')\n",
    "    else:\n",
    "        score_df.to_csv(GROUP_VALIDATION_PATH + \"test_validation.csv\", index=False, mode='a', header=False)"
   ]
  },
  {
   "cell_type": "code",
   "execution_count": null,
   "metadata": {},
   "outputs": [],
   "source": []
  },
  {
   "cell_type": "code",
   "execution_count": 8,
   "metadata": {},
   "outputs": [
    {
     "name": "stdout",
     "output_type": "stream",
     "text": [
      "20220308-131334\n",
      "INFO:tensorflow:Assets written to: /home/wmbio/WORK/gitworking/Multi-omics-intergration/models/BRCA/AE_encoder_denoisy_BRCA_20220308-131334/assets\n",
      "Best AE : encoder_denoisy\n",
      "Silhouette score : 0.2192\n"
     ]
    }
   ],
   "source": [
    "log_pvalue_l, silhouette_score_l, rna_anovar_f1, rna_rf_f1 = [], [], [], []\n",
    "mirna_anovar_f1, mirna_rf_f1, mt_anovar_f1, mt_rf_f1 = [], [], [], []\n",
    "file_name = []\n",
    "\n",
    "FILE_NAME = datetime.datetime.now().strftime(\"%Y%m%d-%H%M%S\")\n",
    "#SAMPLE_GROUP = GROUP_PHTH + CANCER_TYPE + \"_GROUP_\" + FILE_NAME + \".txt\"\n",
    "file_name.append(FILE_NAME)\n",
    "print(FILE_NAME)\n",
    "\n",
    "## AE(vanilla, sparse, denoisy) - Model compile & Fit\n",
    "encoder_vanilla = run_ae(X_train=X_train, X_test=X_test, tensorboard_path=TENSORBOARD_PATH)\n",
    "encoder_sparse = run_ae_sparse(X_train=X_train, X_test=X_test, tensorboard_path=TENSORBOARD_PATH)\n",
    "encoder_denoisy = run_ae_denoisy(X_train=X_train, X_test=X_test, tensorboard_path=TENSORBOARD_PATH)\n",
    "\n",
    "group, silhouette_score = best_ae_model(model_list=[encoder_vanilla, encoder_sparse, encoder_denoisy], o=omics,\n",
    "              group_path=GROUP_PHTH, model_path=MODEL_PATH, cancer_type=CANCER_TYPE, file_name=FILE_NAME)"
   ]
  },
  {
   "cell_type": "code",
   "execution_count": 9,
   "metadata": {},
   "outputs": [
    {
     "name": "stderr",
     "output_type": "stream",
     "text": [
      "Exception ignored in: <function WeakKeyDictionary.__init__.<locals>.remove at 0x7fc75f734940>\n",
      "Traceback (most recent call last):\n",
      "  File \"/home/wmbio/anaconda3/envs/multiomics-cpu/lib/python3.8/weakref.py\", line 345, in remove\n",
      "KeyboardInterrupt: \n",
      "\n",
      "KeyboardInterrupt\n",
      "\n",
      "R[write to console]: There were 48 warnings (use warnings() to see them)\n",
      "R[write to console]: \n",
      "\n"
     ]
    }
   ],
   "source": [
    "## Sub-group Evalutation\n",
    "### load preprocess data\n",
    "omics_preprocess = load_preprocess_tcga_dataset(pkl_path=PKL_file_path, raw_path=RAW_file_path, group=group, norm=True, \n",
    "                                               cancer_type=CANCER_TYPE)\n",
    "\n",
    "### Feature Selection(Anova, RandomForest) for SVM\n",
    "feature_result = feature_selection_svm(data_type=[\"rna\", \"mirna\", \"mt\"], o=omics_preprocess)\n",
    "\n",
    "### Survival Analysis - logranktest\n",
    "log_pvalue = log_rank_test(df=omics_preprocess[\"omics\"], png_path=PNG_PATH, file_name=FILE_NAME)\n",
    "\n",
    "### Score\n",
    "log_pvalue_l.append(log_pvalue)\n",
    "silhouette_score_l.append(silhouette_score)\n",
    "\n",
    "rna_anovar_f1.append(feature_result[\"rna\"][0][2])\n",
    "rna_rf_f1.append(feature_result[\"rna\"][1][2])\n",
    "\n",
    "mirna_anovar_f1.append(feature_result[\"mirna\"][0][2])\n",
    "mirna_rf_f1.append(feature_result[\"mirna\"][1][2])\n",
    "\n",
    "mt_anovar_f1.append(feature_result[\"mt\"][0][2])\n",
    "mt_rf_f1.append(feature_result[\"mt\"][1][2])\n",
    "\n",
    "# session clear\n",
    "gc.collect()\n",
    "\n",
    "# Write Score DF\n",
    "score_df = pd.DataFrame({\n",
    "'FILENAME' : file_name,\n",
    "'Log Rank Test' : log_pvalue_l,\n",
    "'Silhouette' : silhouette_score_l,\n",
    "'RNA_ANOVA_F1' : rna_anovar_f1,\n",
    "'RNA_RF_F1' : rna_rf_f1,\n",
    "'miRNA_ANOVA_F1' : mirna_anovar_f1,\n",
    "'miRNA_RF_F1' : mirna_rf_f1,\n",
    "'Methylation_ANOVA_F1' : mt_anovar_f1,\n",
    "'Methylation_RF_F1' : mt_rf_f1\n",
    "})\n",
    "\n",
    "# # score table\n",
    "# if not os.path.exists(GROUP_VALIDATION_PATH):\n",
    "#     Path(GROUP_VALIDATION_PATH).mkdir(parents=True, exist_ok=True)\n",
    "#     score_df.to_csv(GROUP_VALIDATION_PATH + \"test_validation.csv\", index=False, mode='w')\n",
    "# else:\n",
    "#     score_df.to_csv(GROUP_VALIDATION_PATH + \"test_validation.csv\", index=False, mode='a', header=False)"
   ]
  },
  {
   "cell_type": "code",
   "execution_count": null,
   "metadata": {},
   "outputs": [],
   "source": []
  },
  {
   "cell_type": "code",
   "execution_count": null,
   "metadata": {},
   "outputs": [],
   "source": []
  },
  {
   "cell_type": "code",
   "execution_count": null,
   "metadata": {},
   "outputs": [],
   "source": []
  },
  {
   "cell_type": "code",
   "execution_count": null,
   "metadata": {},
   "outputs": [],
   "source": []
  }
 ],
 "metadata": {
  "kernelspec": {
   "display_name": "multiomic-cpu",
   "language": "python",
   "name": "multiomics-cpu"
  },
  "language_info": {
   "codemirror_mode": {
    "name": "ipython",
    "version": 3
   },
   "file_extension": ".py",
   "mimetype": "text/x-python",
   "name": "python",
   "nbconvert_exporter": "python",
   "pygments_lexer": "ipython3",
   "version": "3.8.12"
  }
 },
 "nbformat": 4,
 "nbformat_minor": 5
}
